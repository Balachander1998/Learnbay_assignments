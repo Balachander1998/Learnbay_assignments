{
 "cells": [
  {
   "cell_type": "markdown",
   "id": "8a680fbc",
   "metadata": {},
   "source": [
    "### Declare a string and store it in a variable.  Check the type and print the id of the same."
   ]
  },
  {
   "cell_type": "code",
   "execution_count": 1,
   "id": "3ab98328",
   "metadata": {},
   "outputs": [
    {
     "name": "stdout",
     "output_type": "stream",
     "text": [
      "<class 'str'>\n",
      "2305881134256\n"
     ]
    }
   ],
   "source": [
    "inputString = 'Hello Learnbay!'\n",
    "# Check the type\n",
    "print(type(inputString))\n",
    "# id of the string\n",
    "print(id(inputString))"
   ]
  },
  {
   "cell_type": "markdown",
   "id": "261126a6",
   "metadata": {},
   "source": [
    "### Which are valid/invalid strings"
   ]
  },
  {
   "cell_type": "markdown",
   "id": "52d6318a",
   "metadata": {},
   "source": [
    "1. 'This is Python class' - **Valid**\n",
    "2.  \"This is Python class\" - **Valid**\n",
    "3.  '''This is Python class''' - **Valid**\n",
    "4.  \"\"\"This is Python class\"\"\"  **Valid**\n",
    "5.  'This is Python's class' - **Invalid**\n",
    "6. \"Learnbay provides \"Java\", \"Python\" classes\" - **Invalid**\n",
    "7. \"Learnbay provides 'Java', 'Python' classes\" - **Invalid**\n",
    "8. \"This is Python's class\" - **Valid**\n",
    "9. \"\"\"Learnbay provides \"Java\", \"Python\" classes\"\"\" - **Valid**\n",
    "10. '''Learnbay provides \"Java\", \"Python\" classes''' - **Valid**\n",
    "11. '''Learnbay provides \n",
    "         \"Java\", \"Python\" \n",
    "          classes''' - **Valid**\n",
    "12.  'This is\n",
    "       Python \n",
    "         class' - **Invalid**\n"
   ]
  },
  {
   "cell_type": "markdown",
   "id": "f2411257",
   "metadata": {},
   "source": [
    "### Write the code to get the output mentioned below print statement"
   ]
  },
  {
   "cell_type": "code",
   "execution_count": 6,
   "id": "d1fccc3e",
   "metadata": {},
   "outputs": [
    {
     "name": "stdout",
     "output_type": "stream",
     "text": [
      " The length of my_str is 66\n",
      "2305881819952 2305881819440\n",
      "Type of my_str is: <class 'str'>\n"
     ]
    }
   ],
   "source": [
    "my_str = \"Although that way may not be obvious at first unless you're Dutch.\"\n",
    "my_str1 = \"Although that way may not be obvious at first unless you're Dutch.\"\n",
    "print(f' The length of my_str is {len(my_str)}')\n",
    "#output:- id of my_str and my_str1 is same?--\n",
    "print(id(my_str), id(my_str1)) # id of my_str and my_str1 is not equal\n",
    "#output:- Type of my_str is: str\n",
    "print(f'Type of my_str is: {type(my_str)}')"
   ]
  },
  {
   "cell_type": "markdown",
   "id": "de3eddec",
   "metadata": {},
   "source": [
    "### Indexing"
   ]
  },
  {
   "cell_type": "code",
   "execution_count": 96,
   "id": "055a5c92",
   "metadata": {},
   "outputs": [
    {
     "name": "stdout",
     "output_type": "stream",
     "text": [
      "The first character in my_str is: A\n",
      "The first character in my_str is: A\n",
      "The character at index 10 in my_str is  \n",
      "The last character in my_str is: h\n",
      "The last character in my_str is: h\n",
      "The character in my_str is: 8\n"
     ]
    }
   ],
   "source": [
    "my_str = \"Although 8 that way may not be obvious at first unless you're Dutch\"\n",
    "#Write the code to get the output,instructions are mentioned below print statement. use indexing\n",
    "#output:- The first character in my_str is: A\n",
    "#Note:- Use positive indexing\n",
    "print(f'The first character in my_str is: {my_str[0]}')\n",
    "#output:- The first character in my_str is: A\n",
    "#Note:- Use len() function.\n",
    "print(f'The first character in my_str is: {my_str[-len(my_str)]}')\n",
    "#output:- The character at index 10 in my_str is: ' '\n",
    "#Note:- Use positive indexing\n",
    "print(f'The character at index 10 in my_str is {my_str[10]}') # prints space\n",
    "#output:- The last character in my_str is: h\n",
    "#Note:- Use negative indexing.\n",
    "print(f'The last character in my_str is: {my_str[-1]}')\n",
    "#output:- The last character in my_str is: h\n",
    "#Note:- Use len() function.\n",
    "print(f'The last character in my_str is: {my_str[len(my_str)-1]}')\n",
    "#output:- The character in my_str is: 8\n",
    "#Note:- Use positive index\n",
    "print(f'The character in my_str is: {my_str[9]}')"
   ]
  },
  {
   "cell_type": "markdown",
   "id": "a867e2d6",
   "metadata": {},
   "source": [
    "### Slicing"
   ]
  },
  {
   "cell_type": "code",
   "execution_count": 101,
   "id": "af1d9bf6",
   "metadata": {},
   "outputs": [
    {
     "name": "stdout",
     "output_type": "stream",
     "text": [
      "You have sliced: Although that way may not be obvious at first unless you're Dutch. Without begin, end and step\n",
      "You have sliced: Although that way may not be obvious at first unless you're Dutch. With begin as 0 end using len and without step\n",
      "You have sliced: Although that way may not be obvious at first unless you're Dutch. without begin and end but using step\n",
      "You have sliced: Although that way may not be obvious at first unless you're Dutch. With begin, end and step\n",
      "You have sliced: \n",
      "You have sliced: Atog htwymyntb biu tfrtuls o'eDth\n",
      "You have sliced: Ahgttam tebo  r lsorDc\n",
      "You have sliced: .hctuD er'uoy sselnu tsrif ta suoivbo eb ton yam yaw taht hguohtlA\n",
      "You have sliced: .hctuD er'uoy sselnu tsrif ta suoivbo eb ton yam yaw taht hguohtlA\n",
      "You have sliced: .cu ruysen si asovoe o a a athuhl\n",
      "You have sliced:.cu ruysen si asovoe o a a athuhl\n",
      "\n",
      "You have sliced: yaw ta\n",
      "ess you\n"
     ]
    }
   ],
   "source": [
    "my_str = \"Although that way may not be obvious at first unless you're Dutch.\"\n",
    "#Write the code to get the output,instructions are mentioned below print statement. use slicing\n",
    "#output:- You have sliced: Although that way may not be obvious at first unless you're Dutch.Without begin, end and step\n",
    "print(f'You have sliced: {my_str[::]}',\"Without begin, end and step\")\n",
    "\n",
    "##output:- You have sliced: Although that way may not be obvious at first unless you're Dutch.with begin as 0 end using len and without step\n",
    "print(f'You have sliced: {my_str[0:len(my_str)]}', \"With begin as 0 end using len and without step\")\n",
    "\n",
    "#output:- You have sliced: Although that way may not be obvious at first unless you're Dutch.without begin and end but using step\n",
    "print(f'You have sliced: {my_str[::1]}',\"without begin and end but using step\")\n",
    "\n",
    "#output:- You have sliced: Although that way may not be obvious at first unless you're Dutch.With begin, end and step\n",
    "print(f'You have sliced: {my_str[0:len(my_str):1]}','With begin, end and step')\n",
    "\n",
    "#output:- You have sliced:   .with using begin and end using postive values and step as negative values.\n",
    "#Slicing command should print empty string.\n",
    "print(f'You have sliced: {my_str[2:15:-2]}')\n",
    "\n",
    "#output:- You have sliced: Atog htwymyntb biu tfrtuls o'eDth\n",
    "print(f'You have sliced: {my_str[::2]}')\n",
    "\n",
    "#output:- You have sliced: Ahgttam tebo  r lsorDc\n",
    "print(f'You have sliced: {my_str[::3]}')\n",
    "\n",
    "#output:- You have sliced: .hctuD er'uoy sselnu tsrif ta suoivbo eb ton yam yaw taht hguohtlA. Use only step\n",
    "print(f'You have sliced: {my_str[::-1]}')\n",
    "\n",
    "#output:- You have sliced: .hctuD er'uoy sselnu tsrif ta suoivbo eb ton yam yaw taht hguohtlA. Use begin end and step.\n",
    "print(f'You have sliced: {my_str[-1:-len(my_str)-1:-1]}')\n",
    "\n",
    "#output:- You have sliced: .cu ruysen si asovoe o a a athuhl. use only step\n",
    "print(f'You have sliced: {my_str[::-2]}')\n",
    "\n",
    "#output:- You have sliced: .cu ruysen si asovoe o a a athuhl. use begin, end and step.\n",
    "print(f'You have sliced:{my_str[-1:-len(my_str):-2]}')\n",
    "\n",
    "#What will be the output?\n",
    "print(my_str[10:17:-1]) # Empty string is printed.  \n",
    "#If negative number is used as step then start index should be greater than stop index\n",
    "\n",
    "#output:- You have sliced: yaw ta, Using begin, end and step.\n",
    "print(f'You have sliced: {my_str[16:10:-1]}')\n",
    "\n",
    "#output:- You have sliced: ess you. Using begin, end and step.\n",
    "print(my_str[-17:-10:1])"
   ]
  },
  {
   "cell_type": "markdown",
   "id": "c2c00f64",
   "metadata": {},
   "source": [
    "### Basic operation on string"
   ]
  },
  {
   "cell_type": "code",
   "execution_count": 117,
   "id": "4b2f7db3",
   "metadata": {},
   "outputs": [
    {
     "name": "stdout",
     "output_type": "stream",
     "text": [
      "Output is: Learnbay Python\n",
      "LearnbayLearnbayLearnbay\n"
     ]
    }
   ],
   "source": [
    "str1 = 'Learnbay'\n",
    "str2 = 'Python'\n",
    "\n",
    "#Write the code to get the output,instructions are mentioned below.\n",
    "#Output is: Learnbay Python\n",
    "result = str1+' '+str2\n",
    "print(f'Output is: {result}')\n",
    "\n",
    "###Error: TypeError: can only concatenate str (not \"int\") to str\n",
    "\n",
    "#result = str2+3\n",
    "#print(result)\n",
    "\n",
    "####Error: TypeError: can only concatenate str (not \"float\") to str\n",
    "#result = str2+3.7\n",
    "#print(f'Error:{result}')\n",
    "\n",
    "#Output is: LearnbayLearnbayLearnbay\n",
    "print(str1 * 3)\n",
    "\n",
    "#Error: TypeError: can't multiply sequence by non-int of type 'float'\n",
    "#print(str1 * 2.3)\n",
    "\n",
    "##Error: TypeError: can't multiply sequence by non-int of type 'str'\n",
    "#print(str1*'3')"
   ]
  },
  {
   "cell_type": "markdown",
   "id": "dc95f704",
   "metadata": {},
   "source": [
    "### Find the output"
   ]
  },
  {
   "cell_type": "code",
   "execution_count": 124,
   "id": "34d1ba90",
   "metadata": {},
   "outputs": [
    {
     "name": "stdout",
     "output_type": "stream",
     "text": [
      "True\n",
      "False\n",
      "False\n",
      "True\n",
      "True\n",
      "False\n"
     ]
    }
   ],
   "source": [
    "str1 = 'Python'\n",
    "str2 = 'Python'\n",
    "str3 = 'Python$'\n",
    "str4 = 'Python$'\n",
    "\n",
    "#print True by using identity operator between str1 and str2\n",
    "print(str1 is str2)\n",
    "\n",
    "#print False by using identity operator between str1 and str3\n",
    "print(str1 is str3)\n",
    "\n",
    "#print False by using identity operator between str4 and str3\n",
    "print(str4 is str3)\n",
    "\n",
    "#Check if P is available in str1 and print True by using membership operator\n",
    "print('P' in str1)\n",
    "\n",
    "#Check if $ is available in str3 and print True by using membership operator\n",
    "print('$' in str3)\n",
    "\n",
    "#Check if N is available in str3 and print False by using membership operator\n",
    "print('N' in str3)"
   ]
  },
  {
   "cell_type": "markdown",
   "id": "9fe67fff",
   "metadata": {},
   "source": [
    "### Complete the below code"
   ]
  },
  {
   "cell_type": "code",
   "execution_count": 129,
   "id": "bb152b0e",
   "metadata": {},
   "outputs": [
    {
     "ename": "TypeError",
     "evalue": "'str' object does not support item assignment",
     "output_type": "error",
     "traceback": [
      "\u001b[1;31m---------------------------------------------------------------------------\u001b[0m",
      "\u001b[1;31mTypeError\u001b[0m                                 Traceback (most recent call last)",
      "\u001b[1;32mC:\\Users\\BALACH~1\\AppData\\Local\\Temp/ipykernel_25928/1774047368.py\u001b[0m in \u001b[0;36m<module>\u001b[1;34m\u001b[0m\n\u001b[0;32m      2\u001b[0m \u001b[1;31m#write the code to replace 'Python' with 'Java' and you should get below error.\u001b[0m\u001b[1;33m\u001b[0m\u001b[1;33m\u001b[0m\u001b[0m\n\u001b[0;32m      3\u001b[0m \u001b[1;31m#TypeError: 'str' object does not support item assignment.\u001b[0m\u001b[1;33m\u001b[0m\u001b[1;33m\u001b[0m\u001b[0m\n\u001b[1;32m----> 4\u001b[1;33m \u001b[0mstr1\u001b[0m\u001b[1;33m[\u001b[0m\u001b[1;36m8\u001b[0m\u001b[1;33m:\u001b[0m\u001b[1;36m14\u001b[0m\u001b[1;33m:\u001b[0m\u001b[1;36m1\u001b[0m\u001b[1;33m]\u001b[0m \u001b[1;33m=\u001b[0m \u001b[1;34m'Java'\u001b[0m\u001b[1;33m\u001b[0m\u001b[1;33m\u001b[0m\u001b[0m\n\u001b[0m\u001b[0;32m      5\u001b[0m \u001b[0mprint\u001b[0m\u001b[1;33m(\u001b[0m\u001b[0mstr1\u001b[0m\u001b[1;33m)\u001b[0m\u001b[1;33m\u001b[0m\u001b[1;33m\u001b[0m\u001b[0m\n",
      "\u001b[1;31mTypeError\u001b[0m: 'str' object does not support item assignment"
     ]
    }
   ],
   "source": [
    "str1 = 'This is Python class'\n",
    "#write the code to replace 'Python' with 'Java' and you should get below error.\n",
    "#TypeError: 'str' object does not support item assignment.\n",
    "str1[8:14:1] = 'Java'\n",
    "print(str1)"
   ]
  },
  {
   "cell_type": "code",
   "execution_count": 134,
   "id": "81588331",
   "metadata": {},
   "outputs": [
    {
     "name": "stdout",
     "output_type": "stream",
     "text": [
      "True\n",
      "True\n",
      "False\n"
     ]
    }
   ],
   "source": [
    "str1 = 'A'\n",
    "str2 = 'A'\n",
    "\n",
    "##Compare str1 and str2 and print True using comparison operator\n",
    "print(str1 >= str2)\n",
    "\n",
    "#Compare str1 and str2 and print True using equality operator\n",
    "print(str1 == str2)\n",
    "\n",
    "##Compare str1 and str2 and print False using comparison operator\n",
    "print(str1 < str2)"
   ]
  },
  {
   "cell_type": "code",
   "execution_count": 141,
   "id": "83838db8",
   "metadata": {},
   "outputs": [
    {
     "name": "stdout",
     "output_type": "stream",
     "text": [
      "True\n",
      "True\n",
      "False\n",
      "False\n"
     ]
    }
   ],
   "source": [
    "str1 = 'A'\n",
    "str2 = 'a'\n",
    "\n",
    "#Compare str1 and str2 and print True using comparison operator\n",
    "print(str1 <= str2)\n",
    "\n",
    "##Compare str1 and str2 and print True using equality operator\n",
    "print(str1 != str2)\n",
    "\n",
    "###Compare str1 and str2 and print False using equality operator\n",
    "print(str1 == str2)\n",
    "\n",
    "###Compare str1 and str2 and print False using comparison operator\n",
    "print(str1 >= str2)"
   ]
  },
  {
   "cell_type": "code",
   "execution_count": 149,
   "id": "0b702495",
   "metadata": {},
   "outputs": [
    {
     "name": "stdout",
     "output_type": "stream",
     "text": [
      "True\n",
      "True\n",
      "False\n"
     ]
    }
   ],
   "source": [
    "str1 = 'A'\n",
    "str2 = '65'\n",
    "#Compare str1 and str2 using comparison operator and it should give below error.\n",
    "#Error: TypeError: '>=' not supported between instances of 'str' and 'int'\n",
    "print(str1 >= str2)\n",
    "\n",
    "\n",
    "#Compare str1 and str2 and print True using equality operator\n",
    "print(str1 != str2)\n",
    "\n",
    "#Compare str1 and str2 and print False using equality operator\n",
    "print(str1 == str2)"
   ]
  },
  {
   "cell_type": "code",
   "execution_count": 154,
   "id": "fa5d030b",
   "metadata": {},
   "outputs": [
    {
     "name": "stdout",
     "output_type": "stream",
     "text": [
      "True\n",
      "True\n",
      "False\n",
      "False\n"
     ]
    }
   ],
   "source": [
    "str1 = 'Python'\n",
    "str2 = 'Python'\n",
    "#Compare str1 and str2 and print True using comparison operator\n",
    "print(str1 >= str2)\n",
    "\n",
    "#Compare str1 and str2 and print True using equality operator\n",
    "print(str1 == str2)\n",
    "\n",
    "#Compare str1 and str2 and print False using equality operator\n",
    "print(str1 != str2)\n",
    "\n",
    "#Compare str1 and str2 and print False using comparison operator\n",
    "print(str1 < str2)"
   ]
  },
  {
   "cell_type": "code",
   "execution_count": 159,
   "id": "d481b98e",
   "metadata": {},
   "outputs": [
    {
     "name": "stdout",
     "output_type": "stream",
     "text": [
      "True\n",
      "True\n",
      "False\n",
      "False\n"
     ]
    }
   ],
   "source": [
    "str1 = 'Python'\n",
    "str2 = 'python'\n",
    "#Compare str1 and str2 and print True using comparison operator\n",
    "print( str1 <= str2)\n",
    "\n",
    "\n",
    "#Compare str1 and str2 and print True using equality operator\n",
    "print(str1 != str2)\n",
    "\n",
    "\n",
    "#Compare str1 and str2 and print False using equality operator\n",
    "print(str1 == str2)\n",
    "\n",
    "#Compare str1 and str2 and print False using comparison operator\n",
    "print(str1 > str2)"
   ]
  },
  {
   "cell_type": "code",
   "execution_count": 4,
   "id": "b7886b18",
   "metadata": {},
   "outputs": [
    {
     "name": "stdout",
     "output_type": "stream",
     "text": [
      "\n",
      "Python\n",
      "False\n",
      "True\n"
     ]
    }
   ],
   "source": [
    "a = 'Python'\n",
    "b = ''\n",
    "\n",
    "#Apply logical opereators (and, or & not) on above string values and observe the output.\n",
    "print(a and b)\n",
    "print(a or b)\n",
    "print(not a)b\n",
    "print(not b)"
   ]
  },
  {
   "cell_type": "code",
   "execution_count": 7,
   "id": "e45e86a5",
   "metadata": {},
   "outputs": [
    {
     "name": "stdout",
     "output_type": "stream",
     "text": [
      "\n",
      "\n",
      "True\n",
      "True\n"
     ]
    }
   ],
   "source": [
    "a = ''\n",
    "b = ''\n",
    "\n",
    "#Apply logical opereators (and, or & not) on above string values and observe the output.\n",
    "print( a and b)\n",
    "print(a or b)\n",
    "print(not a)\n",
    "print(not b)"
   ]
  },
  {
   "cell_type": "code",
   "execution_count": 8,
   "id": "e7a75a2a",
   "metadata": {},
   "outputs": [
    {
     "name": "stdout",
     "output_type": "stream",
     "text": [
      "learnbay\n",
      "Python\n",
      "False\n",
      "False\n"
     ]
    }
   ],
   "source": [
    "a = 'Python'\n",
    "b = 'learnbay'\n",
    "\n",
    "#Apply logical opereators (and, or & not) on above string values and observe the output.\n",
    "print(a and b)\n",
    "print(a or b)\n",
    "print(not a)\n",
    "print(not b)"
   ]
  },
  {
   "cell_type": "code",
   "execution_count": 19,
   "id": "08fe9145",
   "metadata": {},
   "outputs": [
    {
     "name": "stdout",
     "output_type": "stream",
     "text": [
      "Using Find method  7\n",
      "Using index method 7\n"
     ]
    }
   ],
   "source": [
    "my_str = \"Although 8 that way may not be obvious at first unless you're Dutch\"\n",
    "count = 0\n",
    "#Write the code to get the total count of 't' in above string. Use find() and index() method\n",
    "# Using find() method\n",
    "for i in my_str:\n",
    "    if i.find('t') > -1:\n",
    "        count +=1\n",
    "print('Using Find method ',count)\n",
    "\n",
    "# Using index() method\n",
    "counter = 0\n",
    "i = 0\n",
    "j = 0\n",
    "indexOfLastT = my_str.rindex('t')\n",
    "while(i<indexOfLastT):\n",
    "    i = my_str.index('t',i+1,len(my_str))\n",
    "    k = i\n",
    "    counter = counter+1\n",
    "print('Using index method', counter)"
   ]
  },
  {
   "cell_type": "markdown",
   "id": "05498e51",
   "metadata": {},
   "source": [
    "### Write the code to get the index of '8' in my_str. Use find() and index() method."
   ]
  },
  {
   "cell_type": "code",
   "execution_count": 25,
   "id": "b27295f3",
   "metadata": {},
   "outputs": [
    {
     "name": "stdout",
     "output_type": "stream",
     "text": [
      "Using find method:  9\n",
      "Using index method:  9\n"
     ]
    }
   ],
   "source": [
    "my_str = \"Although 8 that way may not be obvious at first unless you're Dutch\"\n",
    "print('Using find method: ', my_str.find('8'))\n",
    "print('Using index method: ',my_str.index('8'))"
   ]
  },
  {
   "cell_type": "code",
   "execution_count": 29,
   "id": "d481bbd9",
   "metadata": {},
   "outputs": [
    {
     "name": "stdout",
     "output_type": "stream",
     "text": [
      "-1\n",
      "11\n",
      "63\n",
      "63\n"
     ]
    }
   ],
   "source": [
    "#What will be the output of below code?\n",
    "print(my_str.find('the')) # return -1 if substring not found\n",
    "\n",
    "#print(my_str.index('the')) # throws exception that substring not found\n",
    "\n",
    "\n",
    "print(my_str.find('t', 9, 15)) # prints the index of t between the index of 9 to 15\n",
    "\n",
    "\n",
    "print(my_str.rfind('u'))  # Finds the index starting from right side of the string\n",
    "\n",
    "\n",
    "print(my_str.rindex('u'))  # Finds the index starting from right side of the string"
   ]
  },
  {
   "cell_type": "markdown",
   "id": "70543078",
   "metadata": {},
   "source": [
    "### #W A P which applies strip() method if any string, which will be taken from user, starts and ends with space, or applies  rrstrip() method if that string only ends with space or applies lstrip() method if that string only starts with a space.\n",
    "\n",
    "For example:-\n",
    "#input:- '    Python   '\n",
    "#output:- 'Python'\n",
    "\n",
    "#input:- '    Python'\n",
    "#output:- 'Python'\n",
    "\n",
    "#input:- 'Python   '\n",
    "#output:- 'Python'"
   ]
  },
  {
   "cell_type": "code",
   "execution_count": 38,
   "id": "885d028d",
   "metadata": {},
   "outputs": [
    {
     "name": "stdout",
     "output_type": "stream",
     "text": [
      "Enter a string...  Python\n",
      "String isPython\n"
     ]
    }
   ],
   "source": [
    "inputString = input('Enter a string...')\n",
    "if inputString.startswith(' ') and inputString.endswith(' '):\n",
    "    inputString = inputString.strip()\n",
    "elif inputString.startswith(' '):\n",
    "    inputString = inputString.lstrip()\n",
    "elif inputString.endswith(' '):\n",
    "    inputString = inputString.rstrip()\n",
    "else:\n",
    "    print(inputString)\n",
    "print('String is'+inputString)"
   ]
  },
  {
   "cell_type": "code",
   "execution_count": 45,
   "id": "dea06615",
   "metadata": {},
   "outputs": [
    {
     "name": "stdout",
     "output_type": "stream",
     "text": [
      "ALTHOUGH 8 THAT WAY MAY NOT BE OBVIOUS AT FIRST UNLESS YOU'RE DUTCH\n",
      "although 8 that way may not be obvious at first unless you're dutch\n",
      "aLTHOUGH 8 THAT WAY MAY NOT BE OBVIOUS AT FIRST UNLESS YOU'RE dUTCH\n"
     ]
    }
   ],
   "source": [
    "my_str = \"Although 8 that way may not be obvious at first unless you're Dutch\"\n",
    "\n",
    "#Write the code to convert all alphabets in my_str into upper case.\n",
    "print(my_str.upper())\n",
    "\n",
    "#Write the code to convert all alphabets in my_str into lower case.\n",
    "print(my_str.lower())\n",
    "\n",
    "#Write the code to swap the cases of all alphabets in my_str.(lower to upper and upper to lower)\n",
    "print(my_str.swapcase())\n"
   ]
  },
  {
   "cell_type": "markdown",
   "id": "2c40491a",
   "metadata": {},
   "source": [
    "### Write the code which takes one string from user and if it starts with small case letter then convert it to corresponding  capital letter otherwise if starts with capital letters then convert first character of every word in that string into capital.\n"
   ]
  },
  {
   "cell_type": "code",
   "execution_count": 54,
   "id": "3bdd9b46",
   "metadata": {},
   "outputs": [
    {
     "name": "stdout",
     "output_type": "stream",
     "text": [
      "Enter a string...Russia is fighting Ukraine\n",
      "Russia Is Fighting Ukraine\n"
     ]
    }
   ],
   "source": [
    "inputString = input('Enter a string...')\n",
    "for i in inputString:\n",
    "    if inputString[0].islower():\n",
    "        print(inputString.capitalize())\n",
    "        break\n",
    "    elif inputString[0].isupper():\n",
    "        print(inputString.title())\n",
    "        break"
   ]
  },
  {
   "cell_type": "markdown",
   "id": "37e56d9a",
   "metadata": {},
   "source": [
    "### Take a string from user and check if it is:-\n",
    "  1. alphanumeric\n",
    "  2. alphabets     3. digit     4. all letters are in lower case\n",
    "    5. all letters are in upper case\n",
    "    6. in title case\n",
    "     7. a space character\n",
    "     8. numeric\n",
    "     9. all number elements in string are decimal"
   ]
  },
  {
   "cell_type": "code",
   "execution_count": 66,
   "id": "5dc17881",
   "metadata": {},
   "outputs": [
    {
     "name": "stdout",
     "output_type": "stream",
     "text": [
      "Enter a string....IPL2022\n",
      "IPL2022\n",
      "Is the string alphanumeric..? True\n",
      "Is the string has alphabets..? False\n",
      "Is the string has digits...? False\n",
      "Is the string is uppercased?... True\n",
      "Is the string in title cased...? False\n",
      "Is the string a space character...? False\n",
      "Is the string has numeric character...? False\n",
      "Is the number elements in the string are decimal...? False\n"
     ]
    }
   ],
   "source": [
    "\n",
    "inputStr = input('Enter a string....')\n",
    "print(inputStr)\n",
    "print('Is the string alphanumeric..?',inputStr.isalnum())\n",
    "print('Is the string has  only alphabets..?',inputStr.isalpha())\n",
    "print('Is the string has onlyg digits...?', inputStr.isdigit())\n",
    "print('Is the string is uppercased?...', inputStr.isupper())\n",
    "print('Is the string in title cased...?', inputStr.istitle())\n",
    "print('Is the string a space character...?', inputStr.isspace())\n",
    "print('Is the string has numeric character...?', inputStr.isnumeric())\n",
    "print('Is the number elements in the string are decimal...?', inputStr.isdecimal())"
   ]
  },
  {
   "cell_type": "markdown",
   "id": "560568c0",
   "metadata": {},
   "source": [
    "### #W A P which takes a string as an input and prints True if the string is valid identifier else returns False.\n",
    "##### Sample Input:- 'abc', 'abc1', 'ab1c', '1abc', 'abc$', '_abc', 'if'"
   ]
  },
  {
   "cell_type": "code",
   "execution_count": 76,
   "id": "b4879201",
   "metadata": {},
   "outputs": [
    {
     "name": "stdout",
     "output_type": "stream",
     "text": [
      "True\n",
      "True\n",
      "True\n",
      "False\n",
      "False\n",
      "True\n",
      "True\n"
     ]
    }
   ],
   "source": [
    "print('abc'.isidentifier())\n",
    "print('abc1'.isidentifier())\n",
    "print('ab1c'.isidentifier())\n",
    "print('1abc'.isidentifier())\n",
    "print('abc$'.isidentifier())\n",
    "print('_abc'.isidentifier())\n",
    "print('if'.isidentifier())"
   ]
  },
  {
   "cell_type": "code",
   "execution_count": 82,
   "id": "6efafb7d",
   "metadata": {},
   "outputs": [
    {
     "name": "stdout",
     "output_type": "stream",
     "text": [
      "True\n",
      "False\n",
      "False\n",
      "True\n"
     ]
    }
   ],
   "source": [
    "#What will be output of below code?\n",
    "s = chr(65) + chr(97)\n",
    "print(s.isprintable()) # s = A + a\n",
    " \n",
    "s = chr(27) + chr(97)\n",
    "print(s.isprintable())  # escape char + a so not printable\n",
    "\n",
    "\n",
    "s = '\\n'\n",
    "print(s.isprintable()) # new line is not printable in console\n",
    "\n",
    "s = ''\n",
    "print(s.isprintable())"
   ]
  },
  {
   "cell_type": "code",
   "execution_count": 83,
   "id": "612dd758",
   "metadata": {},
   "outputs": [
    {
     "name": "stdout",
     "output_type": "stream",
     "text": [
      "True\n",
      "True\n",
      "True\n",
      "True\n",
      "False\n",
      "False\n"
     ]
    }
   ],
   "source": [
    "#What will be output of below code?\n",
    "my_string = '  '\n",
    "print(my_string.isascii())\n",
    "\n",
    "my_string = 'Studytonight'\n",
    "print(my_string.isascii())\n",
    "\n",
    "my_string = 'Study tonight'\n",
    "print(my_string.isascii())\n",
    "\n",
    "my_string = 'Studytonight@123'\n",
    "print(my_string.isascii())\n",
    "\n",
    "my_string = '°'\n",
    "print(my_string.isascii())\n",
    "\n",
    "my_string = 'ö'\n",
    "print(my_string.isascii())"
   ]
  },
  {
   "cell_type": "code",
   "execution_count": 85,
   "id": "aa5f85fd",
   "metadata": {},
   "outputs": [
    {
     "name": "stdout",
     "output_type": "stream",
     "text": [
      "The strings are equal.\n"
     ]
    }
   ],
   "source": [
    "#What will be the output of below code?\n",
    "firstString = \"der Fluß\"\n",
    "secondString = \"der Fluss\"\n",
    "\n",
    "if firstString.casefold() == secondString.casefold():\n",
    "    print('The strings are equal.') # if ß is casefolded then it will return 'ss' so it returns equal\n",
    "else:\n",
    "    print('The strings are not equal.')"
   ]
  },
  {
   "cell_type": "code",
   "execution_count": 101,
   "id": "3297a36f",
   "metadata": {},
   "outputs": [
    {
     "name": "stdout",
     "output_type": "stream",
     "text": [
      "python**\n",
      "**python\n",
      "**python**\n"
     ]
    }
   ],
   "source": [
    "#Write the code to get below output\n",
    "#O/P 1:- python** (using ljust method)\n",
    "inputString = 'python'\n",
    "result = inputString.ljust(len(inputString)+2,'*')\n",
    "print(result)\n",
    "\n",
    "#Write the code to get below output\n",
    "#O/P 1:- **python (using rjust method)\n",
    "result = inputString.rjust(len(inputString)+2,'*')\n",
    "print(result)\n",
    "\n",
    "#Write the code to get below output\n",
    "#O/P 1:- **python** (using center method)\n",
    "result = inputString.center(len(inputString)+4,'*')\n",
    "print(result)"
   ]
  },
  {
   "cell_type": "markdown",
   "id": "6607d823",
   "metadata": {},
   "source": [
    "### #Write a Python program to find the length of the my_str:-\n",
    "#### Input:- 'Write a Python program to find the length of the my_str'\n",
    "#### Output:- 55"
   ]
  },
  {
   "cell_type": "code",
   "execution_count": 103,
   "id": "8afc36f9",
   "metadata": {},
   "outputs": [
    {
     "name": "stdout",
     "output_type": "stream",
     "text": [
      "55\n"
     ]
    }
   ],
   "source": [
    "input = 'Write a Python program to find the length of the my_str'\n",
    "print(len(input))"
   ]
  },
  {
   "cell_type": "markdown",
   "id": "93c2a18a",
   "metadata": {},
   "source": [
    "### Write a Python program to find the total number of times letter 'p' is appeared in the below string:-\n",
    "    \n",
    "#### Input:- 'peter piper picked a peck of pickled peppers.'\n",
    "#### Output:- 9"
   ]
  },
  {
   "cell_type": "code",
   "execution_count": 104,
   "id": "8ff9d077",
   "metadata": {},
   "outputs": [
    {
     "name": "stdout",
     "output_type": "stream",
     "text": [
      "9\n"
     ]
    }
   ],
   "source": [
    "inputStr = 'peter piper picked a peck of pickled peppers.'\n",
    "print(inputStr.count('p'))"
   ]
  },
  {
   "cell_type": "markdown",
   "id": "71dfdc5b",
   "metadata": {},
   "source": [
    "### Write a Python Program, to print all the indexes of all occurences of letter 'p' appeared in the string:-"
   ]
  },
  {
   "cell_type": "code",
   "execution_count": 107,
   "id": "8118c013",
   "metadata": {},
   "outputs": [
    {
     "name": "stdout",
     "output_type": "stream",
     "text": [
      "0\n",
      "6\n",
      "8\n",
      "12\n",
      "21\n",
      "29\n",
      "37\n",
      "39\n",
      "40\n"
     ]
    }
   ],
   "source": [
    "inputStr = 'peter piper picked a peck of pickled peppers.'\n",
    "counter = 0\n",
    "for i in range(len(inputStr)):\n",
    "    if inputStr[i] == 'p':\n",
    "        print(i)"
   ]
  },
  {
   "cell_type": "markdown",
   "id": "e4c307fc",
   "metadata": {},
   "source": [
    "### #Write a python program to find below output:-\n",
    "\n",
    "#### Input:- 'peter piper picked a peck of pickled peppers.'\n",
    "#### Output:- ['peter', 'piper', 'picked', 'a', 'peck', 'of', 'pickled', 'peppers.']"
   ]
  },
  {
   "cell_type": "code",
   "execution_count": 109,
   "id": "21c91c77",
   "metadata": {},
   "outputs": [
    {
     "name": "stdout",
     "output_type": "stream",
     "text": [
      "['peter', 'piper', 'picked', 'a', 'peck', 'of', 'pickled', 'peppers.']\n"
     ]
    }
   ],
   "source": [
    "inputStr = 'peter piper picked a peck of pickled peppers.'\n",
    "output = inputStr.split()\n",
    "print(output)"
   ]
  },
  {
   "cell_type": "markdown",
   "id": "6941f745",
   "metadata": {},
   "source": [
    "### Write a python program to find below output:-\n",
    "\n",
    "#### Input:- 'peter piper picked a peck of pickled peppers.'\n",
    "#### Output:- 'peppers. pickled of peck a picked piper peter'"
   ]
  },
  {
   "cell_type": "code",
   "execution_count": 123,
   "id": "78b23d82",
   "metadata": {},
   "outputs": [
    {
     "name": "stdout",
     "output_type": "stream",
     "text": [
      " peppers. pickled of peck a picked piper peter\n"
     ]
    }
   ],
   "source": [
    "inputStr = 'peter piper picked a peck of pickled peppers.'\n",
    "lst = inputStr.split()\n",
    "outputString = ''\n",
    "for i in range(len(lst)-1,-1,-1):\n",
    "    outputString = outputString + ' '+lst[i]\n",
    "print(outputString)"
   ]
  },
  {
   "cell_type": "markdown",
   "id": "810aafd5",
   "metadata": {},
   "source": [
    "### #Write a python program to find below output:-\n",
    "\n",
    "#### Input:- 'peter piper picked a peck of pickled peppers.'\n",
    "#### Output:- '.sreppep delkcip fo kcep a dekcip repip retep'\n"
   ]
  },
  {
   "cell_type": "code",
   "execution_count": 124,
   "id": "c0add7fb",
   "metadata": {},
   "outputs": [
    {
     "name": "stdout",
     "output_type": "stream",
     "text": [
      ".sreppep delkcip fo kcep a dekcip repip retep\n"
     ]
    }
   ],
   "source": [
    "inputStr = 'peter piper picked a peck of pickled peppers.'\n",
    "print(inputStr[::-1])"
   ]
  },
  {
   "cell_type": "markdown",
   "id": "9b7e26a3",
   "metadata": {},
   "source": [
    "### Write a python program to find below output:-\n",
    "\n",
    "#### Input:- 'peter piper picked a peck of pickled peppers.'\n",
    "#### Output:- 'retep repip dekcip a kcep fo delkcip .sreppep'"
   ]
  },
  {
   "cell_type": "code",
   "execution_count": 144,
   "id": "4e2fb343",
   "metadata": {},
   "outputs": [
    {
     "name": "stdout",
     "output_type": "stream",
     "text": [
      "['peter', 'piper', 'picked', 'a', 'peck', 'of', 'pickled', 'peppers.']\n",
      " retep repip dekcip a kcep fo delkcip .sreppep\n"
     ]
    }
   ],
   "source": [
    "inputStr = 'peter piper picked a peck of pickled peppers.'\n",
    "lst = inputStr.split()\n",
    "outputString = ''\n",
    "print(lst)\n",
    "for i in lst:\n",
    "    outputString = outputString + ' '+i[::-1]\n",
    "print(outputString)"
   ]
  },
  {
   "cell_type": "markdown",
   "id": "8cde79c6",
   "metadata": {},
   "source": [
    "### Write a python program to find below output:-\n",
    "\n",
    "#### Input:- 'peter piper picked a peck of pickled peppers.'\n",
    "#### Output:- 'Peter Piper Picked A Peck Of Pickled Peppers.'"
   ]
  },
  {
   "cell_type": "code",
   "execution_count": 151,
   "id": "50a4430b",
   "metadata": {},
   "outputs": [
    {
     "name": "stdout",
     "output_type": "stream",
     "text": [
      " Peter Piper Picked A Peck Of Pickled Peppers.\n",
      "Peter Piper Picked A Peck Of Pickled Peppers.\n"
     ]
    }
   ],
   "source": [
    "inputStr = 'peter piper picked a peck of pickled peppers.'\n",
    "outputString = ''\n",
    "lst = inputStr.split()\n",
    "for val in lst:\n",
    "    outputString = outputString + ' '+val.capitalize()\n",
    "print(outputString)\n",
    "\n",
    "# Using title method\n",
    "print(inputStr.title())"
   ]
  },
  {
   "cell_type": "markdown",
   "id": "ec6cb057",
   "metadata": {},
   "source": [
    "### Write a python program to find below output:-\n",
    "\n",
    "#### Input:- 'Peter Piper Picked A Peck Of Pickled Peppers.'\n",
    "#### Output:- 'Peter piper picked a peck of pickled peppers.'"
   ]
  },
  {
   "cell_type": "code",
   "execution_count": 152,
   "id": "3e879948",
   "metadata": {},
   "outputs": [
    {
     "name": "stdout",
     "output_type": "stream",
     "text": [
      "Peter piper picked a peck of pickled peppers.\n"
     ]
    }
   ],
   "source": [
    "inputStr = 'Peter Piper Picked A Peck Of Pickled Peppers.'\n",
    "print(inputStr.capitalize())"
   ]
  },
  {
   "cell_type": "markdown",
   "id": "9a9c6687",
   "metadata": {},
   "source": [
    "### Write a python program to implement index method. If sub_str is found in my_str then it will print the index of first occurrence of first character of matching string in my_str:-\n",
    "\n",
    "#### Input:- my_str = 'Peter Piper Picked A Peck Of Pickled Peppers.', sub_str = 'Pickl'\n",
    "#### Output:- 29"
   ]
  },
  {
   "cell_type": "code",
   "execution_count": 166,
   "id": "e6cb053c",
   "metadata": {},
   "outputs": [
    {
     "name": "stdout",
     "output_type": "stream",
     "text": [
      "29\n"
     ]
    }
   ],
   "source": [
    "my_str = 'Peter Piper Picked A Peck Of Pickled Peppers.'\n",
    "sub_str = 'Pickl'\n",
    "tempString = ''\n",
    "index = -1\n",
    "for i in my_str:\n",
    "    if i.isalpha():\n",
    "        tempString = tempString + i\n",
    "        index = index+1\n",
    "    else:\n",
    "        if tempString.startswith(sub_str):\n",
    "            print(index)\n",
    "            break\n",
    "        tempString = ''"
   ]
  },
  {
   "cell_type": "markdown",
   "id": "2b57bdb9",
   "metadata": {},
   "source": [
    "### Write a python program to implement replace method. If sub_str is found in my_str then it will replace the first occurrence of sub_str with new_str else it will will print sub_str not found:-\n",
    "\n",
    "#### Input:- my_str = 'Peter Piper Picked A Peck Of Pickled Peppers.', sub_str = 'Peck', new_str = 'Pack'\n",
    "#### Output:- 'Peter Piper Picked A Pack Of Pickled Peppers.'"
   ]
  },
  {
   "cell_type": "code",
   "execution_count": 173,
   "id": "5d4218d4",
   "metadata": {},
   "outputs": [
    {
     "name": "stdout",
     "output_type": "stream",
     "text": [
      " Peter Piper Picked A Pack Of Pickled Peppers\n"
     ]
    }
   ],
   "source": [
    "my_str = 'Peter Piper Picked A Peck Of Pickled Peppers.'\n",
    "sub_str= 'Peck'\n",
    "new_str= 'Pack'\n",
    "tempStr = ''\n",
    "flag = False\n",
    "outputStr = ''\n",
    "for i in my_str:\n",
    "    if i.isalpha():\n",
    "        tempStr = tempStr + i\n",
    "    else:\n",
    "        if tempStr == sub_str:\n",
    "            tempStr = new_str\n",
    "            flag = True\n",
    "        outputStr = outputStr+' '+tempStr\n",
    "        tempStr = ''\n",
    "\n",
    "if not flag:\n",
    "    print('Not found..')\n",
    "else:\n",
    "    print(outputStr)"
   ]
  },
  {
   "cell_type": "markdown",
   "id": "b60fb0b8",
   "metadata": {},
   "source": [
    "### Write a python program to find below output (implements rjust and ljust):-\n",
    "\n",
    "#### Input:- 'Peter Piper Picked A Peck Of Pickled Peppers.', sub_str = 'Peck', \n",
    "#### Output:- '*********************Peck********************'"
   ]
  },
  {
   "cell_type": "code",
   "execution_count": 179,
   "id": "9315e3cb",
   "metadata": {},
   "outputs": [
    {
     "name": "stdout",
     "output_type": "stream",
     "text": [
      "*********************Peck********************\n"
     ]
    }
   ],
   "source": [
    "my_str = 'Peter Piper Picked A Peck Of Pickled Peppers.'\n",
    "sub_str= 'Peck'\n",
    "new_str = sub_str.rjust((my_str.index(sub_str)+len(sub_str)),'*')\n",
    "final_str = new_str.ljust(len(my_str),'*')\n",
    "print(final_str)"
   ]
  }
 ],
 "metadata": {
  "kernelspec": {
   "display_name": "Python 3 (ipykernel)",
   "language": "python",
   "name": "python3"
  },
  "language_info": {
   "codemirror_mode": {
    "name": "ipython",
    "version": 3
   },
   "file_extension": ".py",
   "mimetype": "text/x-python",
   "name": "python",
   "nbconvert_exporter": "python",
   "pygments_lexer": "ipython3",
   "version": "3.9.7"
  }
 },
 "nbformat": 4,
 "nbformat_minor": 5
}
