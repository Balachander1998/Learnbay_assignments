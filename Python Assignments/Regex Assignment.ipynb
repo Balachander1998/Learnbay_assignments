{
 "cells": [
  {
   "cell_type": "markdown",
   "metadata": {
    "id": "kJMYWYTmncTI"
   },
   "source": [
    "## Write the regular expression and use proper method which gives output as:- 'cat' in str."
   ]
  },
  {
   "cell_type": "code",
   "execution_count": 1,
   "metadata": {
    "colab": {
     "base_uri": "https://localhost:8080/"
    },
    "executionInfo": {
     "elapsed": 5,
     "status": "ok",
     "timestamp": 1651492703078,
     "user": {
      "displayName": "Balachander K",
      "userId": "03756341235503300277"
     },
     "user_tz": -330
    },
    "id": "7Q3kXM-OnnTg",
    "outputId": "beab3910-1d03-415c-9b9c-866a2564514f"
   },
   "outputs": [
    {
     "name": "stdout",
     "output_type": "stream",
     "text": [
      "cat\n"
     ]
    }
   ],
   "source": [
    "import regex as re\n",
    "str1 = 'cat mat bat rat'\n",
    "pattern = r'[c][a][t]'\n",
    "match = re.match(pattern,str1)\n",
    "print(match.group())"
   ]
  },
  {
   "cell_type": "markdown",
   "metadata": {
    "id": "BLML5_5roZ-C"
   },
   "source": [
    "## Write the regular expression and use proper method which gives output as:- 'rat' in str."
   ]
  },
  {
   "cell_type": "code",
   "execution_count": 2,
   "metadata": {
    "colab": {
     "base_uri": "https://localhost:8080/"
    },
    "executionInfo": {
     "elapsed": 4,
     "status": "ok",
     "timestamp": 1651492782565,
     "user": {
      "displayName": "Balachander K",
      "userId": "03756341235503300277"
     },
     "user_tz": -330
    },
    "id": "zI6PjqDPohqQ",
    "outputId": "c6607091-bed9-498c-ab7b-78bf5a6d4bc9"
   },
   "outputs": [
    {
     "name": "stdout",
     "output_type": "stream",
     "text": [
      "rat\n"
     ]
    }
   ],
   "source": [
    "pattern = r'[r][a][t]'\n",
    "match = re.search(pattern,str1)\n",
    "print(match.group())"
   ]
  },
  {
   "cell_type": "markdown",
   "metadata": {
    "id": "pK3qzRSypBO4"
   },
   "source": [
    "## Write the regular expression and use proper method which gives output as:- ['mat', 'man'] in str."
   ]
  },
  {
   "cell_type": "code",
   "execution_count": 3,
   "metadata": {
    "colab": {
     "base_uri": "https://localhost:8080/"
    },
    "executionInfo": {
     "elapsed": 4,
     "status": "ok",
     "timestamp": 1651492896993,
     "user": {
      "displayName": "Balachander K",
      "userId": "03756341235503300277"
     },
     "user_tz": -330
    },
    "id": "bDDUx4uLpGFB",
    "outputId": "903a512a-ce3f-4126-e35a-e9f3b5c5ac79"
   },
   "outputs": [],
   "source": [
    "str2 = 'cat mat bat rat man'\n",
    "pattern = r'[m][a-z]{2}'"
   ]
  },
  {
   "cell_type": "markdown",
   "metadata": {
    "id": "VOQjFKBGpjNn"
   },
   "source": [
    "## Write the regular expression and use proper method which gives output as:- \n",
    "### ['Python', 's', 'Programming', 'is', 'very', 'easy', 'to', 'learn'] in str."
   ]
  },
  {
   "cell_type": "code",
   "execution_count": 4,
   "metadata": {
    "colab": {
     "base_uri": "https://localhost:8080/"
    },
    "executionInfo": {
     "elapsed": 3,
     "status": "ok",
     "timestamp": 1651493983611,
     "user": {
      "displayName": "Balachander K",
      "userId": "03756341235503300277"
     },
     "user_tz": -330
    },
    "id": "zANDiB8PpsmA",
    "outputId": "a984722e-bdbb-4e1b-a245-99c3b6c2151a"
   },
   "outputs": [
    {
     "name": "stdout",
     "output_type": "stream",
     "text": [
      "['Python', 's', 'Programming', 'is', 'very', 'easy', 'to', 'learn']\n"
     ]
    }
   ],
   "source": [
    "str3 = \"Python's Programming: is very easy to learn\"\n",
    "value = len(str3)\n",
    "pattern = r'[A-Za-z]+'\n",
    "mat = re.findall(pattern,str3)\n",
    "print(mat)"
   ]
  },
  {
   "cell_type": "markdown",
   "metadata": {
    "id": "L-OaqAFkvAfI"
   },
   "source": [
    "## Write the regular expression and use proper method which gives output as:- Python Programming: is very easy to learn in str.\n"
   ]
  },
  {
   "cell_type": "code",
   "execution_count": 5,
   "metadata": {
    "colab": {
     "base_uri": "https://localhost:8080/"
    },
    "executionInfo": {
     "elapsed": 3,
     "status": "ok",
     "timestamp": 1651494528233,
     "user": {
      "displayName": "Balachander K",
      "userId": "03756341235503300277"
     },
     "user_tz": -330
    },
    "id": "onjf3O3fvDHH",
    "outputId": "e9a9b718-d4a3-4aa6-a856-572ca74c75f0"
   },
   "outputs": [
    {
     "name": "stdout",
     "output_type": "stream",
     "text": [
      "['Python', 's', 'Programming:', 'is', 'very', 'easy', 'to', 'learn']\n"
     ]
    }
   ],
   "source": [
    "str4 = \"Python's Programming: is very easy to learn\"\n",
    "pattern = r'[A-Za-z]+[:]?'\n",
    "mat = re.findall(pattern,str4)\n",
    "print(mat)"
   ]
  },
  {
   "cell_type": "markdown",
   "metadata": {},
   "source": [
    "## Write the regular expression and use proper method which Retrieves all words starting with p.\n",
    "#### Output:- ['peter', 'per', 'picked', 'peck', 'pickled', 'peppers']"
   ]
  },
  {
   "cell_type": "code",
   "execution_count": 9,
   "metadata": {},
   "outputs": [
    {
     "name": "stdout",
     "output_type": "stream",
     "text": [
      "['peter', 'per', 'picked', 'peck', 'pickled', 'peppers']\n"
     ]
    }
   ],
   "source": [
    "str5 = \"peter giper picked a peck of pickled peppers\"\n",
    "pattern = r'[p][a-z]+'\n",
    "mat = re.findall(pattern, str5)\n",
    "print(mat)"
   ]
  },
  {
   "cell_type": "markdown",
   "metadata": {},
   "source": [
    "## Write the regular expression and use proper method which Retrieves all words starting with p except 'per' which is not a separate word.\n",
    "#### Output:- ['peter', 'picked', 'peck', 'pickled', 'peppers']"
   ]
  },
  {
   "cell_type": "code",
   "execution_count": 11,
   "metadata": {},
   "outputs": [
    {
     "name": "stdout",
     "output_type": "stream",
     "text": [
      "['peter', 'picked', 'peck', 'pickled', 'peppers']\n"
     ]
    }
   ],
   "source": [
    "pattern = r'\\b[p][a-z]+'\n",
    "mat = re.findall(pattern,str5)\n",
    "print(mat)"
   ]
  },
  {
   "cell_type": "markdown",
   "metadata": {},
   "source": [
    "## Write the regular expression and use proper method which Retrieves all words starting with a digit.\n",
    "### Output:- ['8th', '11th']"
   ]
  },
  {
   "cell_type": "code",
   "execution_count": 13,
   "metadata": {},
   "outputs": [
    {
     "name": "stdout",
     "output_type": "stream",
     "text": [
      "['8th', '11th']\n"
     ]
    }
   ],
   "source": [
    "str6 = 'The election in delhi will be held on 8th and result for the same will be declared on 11th'\n",
    "pattern = r'[\\d]+[a-z]+'\n",
    "mat = re.findall(pattern,str6)\n",
    "print(mat)"
   ]
  },
  {
   "cell_type": "markdown",
   "metadata": {},
   "source": [
    "## Write the regular expression and use proper method which Retrieves all words having 5 characters.\n",
    "#### Output:- ['peter', 'giper']"
   ]
  },
  {
   "cell_type": "code",
   "execution_count": 25,
   "metadata": {},
   "outputs": [
    {
     "name": "stdout",
     "output_type": "stream",
     "text": [
      "['peter', 'giper']\n"
     ]
    }
   ],
   "source": [
    "str7 = \"peter giper picked a peck of pickled peppers\"\n",
    "pattern = r'\\b[A-Za-z]{5}\\b'\n",
    "mat = re.findall(pattern,str7)\n",
    "print(mat)"
   ]
  },
  {
   "cell_type": "markdown",
   "metadata": {},
   "source": [
    "## Write the regular expression and use proper method which Retrieves all words having at least 4 characters.\n",
    "#### Output:- ['Retrieving',  'words', 'having', 'least', 'characters']"
   ]
  },
  {
   "cell_type": "code",
   "execution_count": 27,
   "metadata": {},
   "outputs": [
    {
     "name": "stdout",
     "output_type": "stream",
     "text": [
      "['Retrieving', 'words', 'having', 'least', 'characters']\n"
     ]
    }
   ],
   "source": [
    "str8 = \"Retrieving all words having at least 4 characters\"\n",
    "pattern = r'\\b[A-Za-z]{4,}\\b'\n",
    "mat = re.findall(pattern,str8)\n",
    "print(mat)"
   ]
  },
  {
   "cell_type": "markdown",
   "metadata": {},
   "source": [
    "## Write the regular expression and use proper method which Retrieves all words having at characters between 3 to 5 words.\n",
    "#### Output:- ['all', 'words', 'least']"
   ]
  },
  {
   "cell_type": "code",
   "execution_count": 43,
   "metadata": {},
   "outputs": [
    {
     "name": "stdout",
     "output_type": "stream",
     "text": [
      "Retrieving all words having at least 4 characters\n",
      "['all', 'words', 'least']\n"
     ]
    }
   ],
   "source": [
    "pattern = r'\\b[A-Za-z]{3,5}\\b'\n",
    "mat = re.findall(pattern,str8)\n",
    "print(mat)"
   ]
  },
  {
   "cell_type": "markdown",
   "metadata": {},
   "source": [
    "## Write the regular expression and use proper method which Retrieves only digits from the string.\n",
    "#### Output:- ['8', '11']"
   ]
  },
  {
   "cell_type": "code",
   "execution_count": 33,
   "metadata": {},
   "outputs": [
    {
     "name": "stdout",
     "output_type": "stream",
     "text": [
      "['8', '11']\n"
     ]
    }
   ],
   "source": [
    "str9 = 'The election in delhi will be held on 8 and result for the same will be declared on 11'\n",
    "pattern = r'\\d{1,}'\n",
    "mat = re.findall(pattern,str9)\n",
    "print(mat)"
   ]
  },
  {
   "cell_type": "markdown",
   "metadata": {},
   "source": [
    "# #Write the regular expression and use proper method which Retrieves last word if starts with c from the given string.\n",
    "#### Output:- ['characters']"
   ]
  },
  {
   "cell_type": "code",
   "execution_count": 45,
   "metadata": {},
   "outputs": [
    {
     "name": "stdout",
     "output_type": "stream",
     "text": [
      "['characters']\n"
     ]
    }
   ],
   "source": [
    "pattern = r'\\b[c][a-z]+\\b'\n",
    "mat = re.findall(pattern,str8)\n",
    "print(mat)"
   ]
  },
  {
   "cell_type": "markdown",
   "metadata": {},
   "source": [
    "## Write the regular expression and use proper method which Retrieves a phone number from the given string.\n",
    "#### Output:- 1234567890"
   ]
  },
  {
   "cell_type": "code",
   "execution_count": 49,
   "metadata": {},
   "outputs": [
    {
     "name": "stdout",
     "output_type": "stream",
     "text": [
      "['1234567890']\n"
     ]
    }
   ],
   "source": [
    "str10 = \"Learnbay : 1234567890\"\n",
    "pattern = r'[0-9]{10}'\n",
    "mat = re.findall(pattern,str10)\n",
    "print(mat)"
   ]
  },
  {
   "cell_type": "markdown",
   "metadata": {},
   "source": [
    "## Write the regular expression and use proper method which Etracts name from the string but not number.\n",
    "#### Output:- Learnbay : "
   ]
  },
  {
   "cell_type": "code",
   "execution_count": 51,
   "metadata": {},
   "outputs": [
    {
     "name": "stdout",
     "output_type": "stream",
     "text": [
      "['Learnbay :']\n"
     ]
    }
   ],
   "source": [
    "pattern = r'.+[:]'\n",
    "mat = re.findall(pattern,str10)\n",
    "print(mat)"
   ]
  },
  {
   "cell_type": "markdown",
   "metadata": {},
   "source": [
    "## Write the regular expression and use proper method which Retrieves name starting with 'an' or 'ak'.\n",
    "#### Output:- ['anil', 'akhil', 'anant', 'ankur']"
   ]
  },
  {
   "cell_type": "code",
   "execution_count": 53,
   "metadata": {},
   "outputs": [
    {
     "name": "stdout",
     "output_type": "stream",
     "text": [
      "['anil', 'akhil', 'anant', 'ankur']\n"
     ]
    }
   ],
   "source": [
    "str11 = 'anil akhil anant abhi arun arati arundhati abhijit ankur'\n",
    "pattern = r'\\b[a][n|k][a-z]+\\b'\n",
    "mat = re.findall(pattern,str11)\n",
    "print(mat)"
   ]
  }
 ],
 "metadata": {
  "colab": {
   "authorship_tag": "ABX9TyNynEBe09bmR87AX0C1y5tV",
   "collapsed_sections": [],
   "name": "Regex Assignment.ipynb",
   "provenance": []
  },
  "kernelspec": {
   "display_name": "Python 3 (ipykernel)",
   "language": "python",
   "name": "python3"
  },
  "language_info": {
   "codemirror_mode": {
    "name": "ipython",
    "version": 3
   },
   "file_extension": ".py",
   "mimetype": "text/x-python",
   "name": "python",
   "nbconvert_exporter": "python",
   "pygments_lexer": "ipython3",
   "version": "3.9.7"
  }
 },
 "nbformat": 4,
 "nbformat_minor": 1
}
