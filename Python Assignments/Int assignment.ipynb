{
 "cells": [
  {
   "cell_type": "markdown",
   "id": "80217979",
   "metadata": {},
   "source": [
    "# Python Assignment"
   ]
  },
  {
   "cell_type": "markdown",
   "id": "dee88b00",
   "metadata": {},
   "source": [
    "# 1. Declare an int value and store it in a variable"
   ]
  },
  {
   "cell_type": "code",
   "execution_count": 3,
   "id": "d9bcac43",
   "metadata": {},
   "outputs": [],
   "source": [
    "number1 = 10 # here 10 is the value number1 is the variable"
   ]
  },
  {
   "cell_type": "markdown",
   "id": "871102f2",
   "metadata": {},
   "source": [
    " ### Check the type and print the id of the same."
   ]
  },
  {
   "cell_type": "code",
   "execution_count": 7,
   "id": "e0ff884b",
   "metadata": {},
   "outputs": [
    {
     "name": "stdout",
     "output_type": "stream",
     "text": [
      "<class 'int'>\n",
      "2261826366032\n"
     ]
    }
   ],
   "source": [
    "print(type(number1)) #Check the type using type()  function\n",
    "print(id(number1)) #print the address using id() function"
   ]
  },
  {
   "cell_type": "markdown",
   "id": "b963e492",
   "metadata": {},
   "source": [
    "### Take one int value between 0 - 256. Assign it to two different variables."
   ]
  },
  {
   "cell_type": "code",
   "execution_count": 14,
   "id": "00508929",
   "metadata": {},
   "outputs": [],
   "source": [
    "number2 = 20\n",
    "number3 = 20"
   ]
  },
  {
   "cell_type": "markdown",
   "id": "34bdb174",
   "metadata": {},
   "source": [
    "### Check the id of both the variables. It should come the same. Check why?"
   ]
  },
  {
   "cell_type": "code",
   "execution_count": 15,
   "id": "448366cd",
   "metadata": {},
   "outputs": [
    {
     "name": "stdout",
     "output_type": "stream",
     "text": [
      "2261826366352 2261826366352\n"
     ]
    }
   ],
   "source": [
    "print(id(number2), id(number3)) # Both the variables will point to the same memory location in heap area\n",
    "                                # if the integer value between 0-256 "
   ]
  },
  {
   "cell_type": "markdown",
   "id": "eedc884d",
   "metadata": {},
   "source": [
    " ### Take one int value either less than -5 or greater than 256. Assign it to two different variables."
   ]
  },
  {
   "cell_type": "code",
   "execution_count": 19,
   "id": "f521ce94",
   "metadata": {},
   "outputs": [],
   "source": [
    "number4 = 2110\n",
    "number5 = 2110\n"
   ]
  },
  {
   "cell_type": "markdown",
   "id": "0c499b6a",
   "metadata": {},
   "source": [
    "### Check the id of both the variables. It should come different.Check why?"
   ]
  },
  {
   "cell_type": "code",
   "execution_count": 20,
   "id": "9adee398",
   "metadata": {},
   "outputs": [
    {
     "name": "stdout",
     "output_type": "stream",
     "text": [
      "2261907367024 2261907368560\n"
     ]
    }
   ],
   "source": [
    "print(id(number4), id(number5)) # Python interpreter will point to same memory location only for the range -5 to 256\n",
    "# so  the numbers exceeding the range will be assigned to different memory location."
   ]
  },
  {
   "cell_type": "markdown",
   "id": "492201ef",
   "metadata": {},
   "source": [
    "## Arithmetic Operations on integers\n",
    "### Take two different integer values.\n",
    "### Store them in two different variables.\n"
   ]
  },
  {
   "cell_type": "code",
   "execution_count": 31,
   "id": "0e003f1e",
   "metadata": {},
   "outputs": [],
   "source": [
    "operand1 = 800\n",
    "operand2 = 300"
   ]
  },
  {
   "cell_type": "markdown",
   "id": "e3087cca",
   "metadata": {},
   "source": [
    "#### Find sum of both numbers\n"
   ]
  },
  {
   "cell_type": "code",
   "execution_count": 32,
   "id": "a9013e01",
   "metadata": {},
   "outputs": [
    {
     "name": "stdout",
     "output_type": "stream",
     "text": [
      "1100\n"
     ]
    }
   ],
   "source": [
    "sum = operand1 + operand2\n",
    "print(sum)"
   ]
  },
  {
   "cell_type": "markdown",
   "id": "02045382",
   "metadata": {},
   "source": [
    "#### Find difference between them`"
   ]
  },
  {
   "cell_type": "code",
   "execution_count": 33,
   "id": "7f6f250f",
   "metadata": {},
   "outputs": [
    {
     "name": "stdout",
     "output_type": "stream",
     "text": [
      "500\n"
     ]
    }
   ],
   "source": [
    "difference = operand1 - operand2\n",
    "print(difference)"
   ]
  },
  {
   "cell_type": "markdown",
   "id": "e55eaa26",
   "metadata": {},
   "source": [
    "#### Find the product of both numbers."
   ]
  },
  {
   "cell_type": "code",
   "execution_count": 34,
   "id": "84cd03c3",
   "metadata": {},
   "outputs": [
    {
     "name": "stdout",
     "output_type": "stream",
     "text": [
      "240000\n"
     ]
    }
   ],
   "source": [
    "product = operand1 * operand2\n",
    "print(product)"
   ]
  },
  {
   "cell_type": "markdown",
   "id": "c020e6ac",
   "metadata": {},
   "source": [
    "#### Find value after dividing first num with second number"
   ]
  },
  {
   "cell_type": "code",
   "execution_count": 35,
   "id": "c8609a69",
   "metadata": {},
   "outputs": [
    {
     "name": "stdout",
     "output_type": "stream",
     "text": [
      "2.6666666666666665\n"
     ]
    }
   ],
   "source": [
    "value = operand1/operand2\n",
    "print(value)"
   ]
  },
  {
   "cell_type": "markdown",
   "id": "b2e43b35",
   "metadata": {},
   "source": [
    "#### Find the remainder after dividing first number with second number"
   ]
  },
  {
   "cell_type": "code",
   "execution_count": 37,
   "id": "77cf4402",
   "metadata": {},
   "outputs": [
    {
     "name": "stdout",
     "output_type": "stream",
     "text": [
      "200\n"
     ]
    }
   ],
   "source": [
    "remainder = operand1%operand2 # Modulo operator (%) gives remainder\n",
    "print(remainder)"
   ]
  },
  {
   "cell_type": "markdown",
   "id": "90ae844a",
   "metadata": {},
   "source": [
    "#### Find the quotient after dividing first number with second number"
   ]
  },
  {
   "cell_type": "code",
   "execution_count": 38,
   "id": "825854f5",
   "metadata": {},
   "outputs": [
    {
     "name": "stdout",
     "output_type": "stream",
     "text": [
      "2.6666666666666665\n"
     ]
    }
   ],
   "source": [
    "value = operand1/operand2 # Normal division operator (/) gives quotient value\n",
    "print(value)"
   ]
  },
  {
   "cell_type": "markdown",
   "id": "79eca3c1",
   "metadata": {},
   "source": [
    "#### Find the result of the first num to the power of the second number."
   ]
  },
  {
   "cell_type": "code",
   "execution_count": 40,
   "id": "b3bdf776",
   "metadata": {},
   "outputs": [
    {
     "name": "stdout",
     "output_type": "stream",
     "text": [
      "8452712498170643941637436558664265704301557216577944354047371344426782440907597751590676094202515006314790319892114058862117560952042968596008623655407033230534186943984081346699704282822823056848387726531379014466368452684024987821414350380272583623832617294363807973376000000000000000000000000000000000000000000000000000000000000000000000000000000000000000000000000000000000000000000000000000000000000000000000000000000000000000000000000000000000000000000000000000000000000000000000000000000000000000000000000000000000000000000000000000000000000000000000000000000000000000000000000000000000000000000000000000000000000000000000000000000000000000000000000000000000000000000000000000000000000000000000000000000000000000000000000000000000000000000000000000000000000000000000000000000000000000000000000000000000000000000000000000000000000000000000000000000000000000000000000\n"
     ]
    }
   ],
   "source": [
    "result = operand1**operand2  # python (**) is the power operator to check first num to the power of second number\n",
    "print(result)"
   ]
  },
  {
   "cell_type": "markdown",
   "id": "a4663e79",
   "metadata": {},
   "source": [
    "### Comparison Operators on integers Take two different integer values. Store them in two different variables"
   ]
  },
  {
   "cell_type": "code",
   "execution_count": 41,
   "id": "473366c5",
   "metadata": {},
   "outputs": [],
   "source": [
    "num1 = 40\n",
    "num2 = 10"
   ]
  },
  {
   "cell_type": "markdown",
   "id": "1a7ad38c",
   "metadata": {},
   "source": [
    "#### Greater than, '>'\n"
   ]
  },
  {
   "cell_type": "code",
   "execution_count": 42,
   "id": "c56f1324",
   "metadata": {},
   "outputs": [
    {
     "name": "stdout",
     "output_type": "stream",
     "text": [
      "True\n"
     ]
    }
   ],
   "source": [
    "print(num1>num2)"
   ]
  },
  {
   "cell_type": "markdown",
   "id": "96cb3381",
   "metadata": {},
   "source": [
    "#### Smaller than, '<'"
   ]
  },
  {
   "cell_type": "code",
   "execution_count": 44,
   "id": "ed8bb986",
   "metadata": {},
   "outputs": [
    {
     "name": "stdout",
     "output_type": "stream",
     "text": [
      "False\n"
     ]
    }
   ],
   "source": [
    "print(num1<num2)"
   ]
  },
  {
   "cell_type": "markdown",
   "id": "5ea4e9c4",
   "metadata": {},
   "source": [
    "#### Greater than or equal to, '>='"
   ]
  },
  {
   "cell_type": "code",
   "execution_count": 46,
   "id": "a095660b",
   "metadata": {},
   "outputs": [
    {
     "name": "stdout",
     "output_type": "stream",
     "text": [
      "True\n"
     ]
    }
   ],
   "source": [
    "print(num1>=num2)"
   ]
  },
  {
   "cell_type": "markdown",
   "id": "340818b1",
   "metadata": {},
   "source": [
    "#### Less than or equal to, '<='"
   ]
  },
  {
   "cell_type": "code",
   "execution_count": 47,
   "id": "d7a84075",
   "metadata": {},
   "outputs": [
    {
     "name": "stdout",
     "output_type": "stream",
     "text": [
      "False\n"
     ]
    }
   ],
   "source": [
    "print(num1<=num2)"
   ]
  },
  {
   "cell_type": "markdown",
   "id": "1f80773a",
   "metadata": {},
   "source": [
    "### Equality Operator"
   ]
  },
  {
   "cell_type": "markdown",
   "id": "f1f389f6",
   "metadata": {},
   "source": [
    "#### Take two different integer values.\n",
    "#### Store them in two different variables.\n",
    "#### Equate them using equality operators (==, !=)"
   ]
  },
  {
   "cell_type": "code",
   "execution_count": 49,
   "id": "0d574fae",
   "metadata": {},
   "outputs": [
    {
     "name": "stdout",
     "output_type": "stream",
     "text": [
      "False\n",
      "True\n"
     ]
    }
   ],
   "source": [
    "# using (==) operator\n",
    "print(num1==num2)\n",
    "# using (!=) operator\n",
    "print(num1!=num2)"
   ]
  },
  {
   "cell_type": "markdown",
   "id": "ea41965e",
   "metadata": {},
   "source": [
    "### Logical operators"
   ]
  },
  {
   "cell_type": "markdown",
   "id": "373ca922",
   "metadata": {},
   "source": [
    "#### AND"
   ]
  },
  {
   "cell_type": "code",
   "execution_count": 57,
   "id": "6b77d2d9",
   "metadata": {},
   "outputs": [
    {
     "name": "stdout",
     "output_type": "stream",
     "text": [
      "20\n"
     ]
    }
   ],
   "source": [
    "print(10 and 20) # Logical operators will check from left to right so any number other than 0 is considered true\n",
    "#so 20 is printed"
   ]
  },
  {
   "cell_type": "code",
   "execution_count": 53,
   "id": "255a442c",
   "metadata": {},
   "outputs": [
    {
     "name": "stdout",
     "output_type": "stream",
     "text": [
      "0\n"
     ]
    }
   ],
   "source": [
    "print(0 and 20)"
   ]
  },
  {
   "cell_type": "code",
   "execution_count": 55,
   "id": "abc88da2",
   "metadata": {},
   "outputs": [
    {
     "name": "stdout",
     "output_type": "stream",
     "text": [
      "0\n"
     ]
    }
   ],
   "source": [
    "print(20 and 0)"
   ]
  },
  {
   "cell_type": "code",
   "execution_count": 56,
   "id": "1064d25f",
   "metadata": {},
   "outputs": [
    {
     "name": "stdout",
     "output_type": "stream",
     "text": [
      "0\n"
     ]
    }
   ],
   "source": [
    "print(0 and 0)"
   ]
  },
  {
   "cell_type": "markdown",
   "id": "593bdb2f",
   "metadata": {},
   "source": [
    "#### OR"
   ]
  },
  {
   "cell_type": "code",
   "execution_count": 60,
   "id": "35a9f2a8",
   "metadata": {},
   "outputs": [
    {
     "name": "stdout",
     "output_type": "stream",
     "text": [
      "10\n"
     ]
    }
   ],
   "source": [
    "print(10 or 20)"
   ]
  },
  {
   "cell_type": "code",
   "execution_count": 61,
   "id": "5ebde881",
   "metadata": {},
   "outputs": [
    {
     "name": "stdout",
     "output_type": "stream",
     "text": [
      "20\n"
     ]
    }
   ],
   "source": [
    "print(0 or 20)"
   ]
  },
  {
   "cell_type": "code",
   "execution_count": 62,
   "id": "f95b2796",
   "metadata": {},
   "outputs": [
    {
     "name": "stdout",
     "output_type": "stream",
     "text": [
      "20\n"
     ]
    }
   ],
   "source": [
    "print(20 or 0)"
   ]
  },
  {
   "cell_type": "code",
   "execution_count": 63,
   "id": "e6558f5f",
   "metadata": {},
   "outputs": [
    {
     "name": "stdout",
     "output_type": "stream",
     "text": [
      "0\n"
     ]
    }
   ],
   "source": [
    "print(0 or 0)"
   ]
  },
  {
   "cell_type": "markdown",
   "id": "14fd48ad",
   "metadata": {},
   "source": [
    "#### NOT "
   ]
  },
  {
   "cell_type": "code",
   "execution_count": 64,
   "id": "5c425f55",
   "metadata": {},
   "outputs": [
    {
     "name": "stdout",
     "output_type": "stream",
     "text": [
      "False\n"
     ]
    }
   ],
   "source": [
    "print(not 10)"
   ]
  },
  {
   "cell_type": "code",
   "execution_count": 65,
   "id": "e1522286",
   "metadata": {},
   "outputs": [
    {
     "name": "stdout",
     "output_type": "stream",
     "text": [
      "True\n"
     ]
    }
   ],
   "source": [
    "print(not 0)"
   ]
  },
  {
   "cell_type": "markdown",
   "id": "bb1857f9",
   "metadata": {},
   "source": [
    "### Bitwise operator"
   ]
  },
  {
   "cell_type": "code",
   "execution_count": 67,
   "id": "9bbabb04",
   "metadata": {},
   "outputs": [
    {
     "name": "stdout",
     "output_type": "stream",
     "text": [
      "0\n"
     ]
    }
   ],
   "source": [
    "print(10&20) #Bitwise and"
   ]
  },
  {
   "cell_type": "code",
   "execution_count": 68,
   "id": "1f35c65f",
   "metadata": {},
   "outputs": [
    {
     "name": "stdout",
     "output_type": "stream",
     "text": [
      "30\n"
     ]
    }
   ],
   "source": [
    "print(10|20) #Bitwise OR"
   ]
  },
  {
   "cell_type": "code",
   "execution_count": 69,
   "id": "3122ecd6",
   "metadata": {},
   "outputs": [
    {
     "name": "stdout",
     "output_type": "stream",
     "text": [
      "30\n"
     ]
    }
   ],
   "source": [
    "print(10^20) #Bitwise XOR"
   ]
  },
  {
   "cell_type": "code",
   "execution_count": 70,
   "id": "3150fc94",
   "metadata": {},
   "outputs": [
    {
     "name": "stdout",
     "output_type": "stream",
     "text": [
      "-11\n"
     ]
    }
   ],
   "source": [
    "print(~10) #Bitwise NOT"
   ]
  },
  {
   "cell_type": "code",
   "execution_count": 71,
   "id": "ac099ffb",
   "metadata": {},
   "outputs": [
    {
     "name": "stdout",
     "output_type": "stream",
     "text": [
      "40\n"
     ]
    }
   ],
   "source": [
    "print(10<<2) #Bitwise left shift"
   ]
  },
  {
   "cell_type": "code",
   "execution_count": 72,
   "id": "a3328b4a",
   "metadata": {},
   "outputs": [
    {
     "name": "stdout",
     "output_type": "stream",
     "text": [
      "2\n"
     ]
    }
   ],
   "source": [
    "print(10>>2) #Bitwise right shift"
   ]
  },
  {
   "cell_type": "markdown",
   "id": "2e31868b",
   "metadata": {},
   "source": [
    "### What is the output of expression inside print statement. Cross check before running the program"
   ]
  },
  {
   "cell_type": "code",
   "execution_count": 74,
   "id": "7b582e39",
   "metadata": {},
   "outputs": [
    {
     "name": "stdout",
     "output_type": "stream",
     "text": [
      "True\n"
     ]
    }
   ],
   "source": [
    "a=10\n",
    "b=10\n",
    "print(a is b)"
   ]
  },
  {
   "cell_type": "code",
   "execution_count": 75,
   "id": "8f3f9250",
   "metadata": {},
   "outputs": [
    {
     "name": "stdout",
     "output_type": "stream",
     "text": [
      "False\n"
     ]
    }
   ],
   "source": [
    "print(a is not b)"
   ]
  },
  {
   "cell_type": "code",
   "execution_count": 76,
   "id": "5ac6a555",
   "metadata": {},
   "outputs": [
    {
     "name": "stdout",
     "output_type": "stream",
     "text": [
      "False\n"
     ]
    }
   ],
   "source": [
    "a= 1000\n",
    "b= -1000\n",
    "print(a is b)"
   ]
  },
  {
   "cell_type": "code",
   "execution_count": 77,
   "id": "a9030839",
   "metadata": {},
   "outputs": [
    {
     "name": "stdout",
     "output_type": "stream",
     "text": [
      "True\n"
     ]
    }
   ],
   "source": [
    "print(a is not b)"
   ]
  },
  {
   "cell_type": "markdown",
   "id": "dc543c3e",
   "metadata": {},
   "source": [
    "### What is the output of expression inside print statement. Cross check before running the program."
   ]
  },
  {
   "cell_type": "code",
   "execution_count": 83,
   "id": "856d359f",
   "metadata": {},
   "outputs": [
    {
     "name": "stdout",
     "output_type": "stream",
     "text": [
      "0\n",
      "20\n"
     ]
    }
   ],
   "source": [
    "# The below code will run as per the BODMAS rule in mathematics\n",
    "print(32&20)\n",
    "print(10+(10*32)//2**5&20+(~(-10))<<2)"
   ]
  },
  {
   "cell_type": "markdown",
   "id": "e0cf1fa7",
   "metadata": {},
   "source": [
    "### Membership operation in, not in are two membership operators and it returns boolean value"
   ]
  },
  {
   "cell_type": "code",
   "execution_count": 86,
   "id": "c59329d8",
   "metadata": {},
   "outputs": [
    {
     "name": "stdout",
     "output_type": "stream",
     "text": [
      "True\n"
     ]
    }
   ],
   "source": [
    "print('2' in 'Python2.7.8')"
   ]
  },
  {
   "cell_type": "code",
   "execution_count": 88,
   "id": "75b01ca4",
   "metadata": {},
   "outputs": [
    {
     "name": "stdout",
     "output_type": "stream",
     "text": [
      "True\n"
     ]
    }
   ],
   "source": [
    "print(10 in [10,10.20,10+20j,'Python'])"
   ]
  },
  {
   "cell_type": "code",
   "execution_count": 89,
   "id": "5c21036e",
   "metadata": {},
   "outputs": [
    {
     "name": "stdout",
     "output_type": "stream",
     "text": [
      "True\n"
     ]
    }
   ],
   "source": [
    "print(10 in (10,10.20,10+20j,'Python'))"
   ]
  },
  {
   "cell_type": "code",
   "execution_count": 92,
   "id": "0b198ea3",
   "metadata": {},
   "outputs": [
    {
     "name": "stdout",
     "output_type": "stream",
     "text": [
      "True\n"
     ]
    }
   ],
   "source": [
    "print(2 in {1,2,3})"
   ]
  },
  {
   "cell_type": "code",
   "execution_count": 93,
   "id": "359432f2",
   "metadata": {},
   "outputs": [
    {
     "name": "stdout",
     "output_type": "stream",
     "text": [
      "True\n"
     ]
    }
   ],
   "source": [
    "print(3 in {1:100, 2:200, 3:300})"
   ]
  },
  {
   "cell_type": "code",
   "execution_count": 97,
   "id": "e639722c",
   "metadata": {},
   "outputs": [
    {
     "name": "stdout",
     "output_type": "stream",
     "text": [
      "True\n"
     ]
    }
   ],
   "source": [
    "print(10 in range(20))"
   ]
  },
  {
   "cell_type": "markdown",
   "id": "5ddb5ef4",
   "metadata": {},
   "source": [
    "### Q. An integer can be represented in binary, octal or hexadecimal form.\n",
    "### Declare one binary, one octal and one hexadecimal value and store them in three different variables."
   ]
  },
  {
   "cell_type": "code",
   "execution_count": 101,
   "id": "36a10d82",
   "metadata": {},
   "outputs": [],
   "source": [
    "binaryValue = 0b1010\n",
    "octalValue = 0o737\n",
    "hexaValue = 0xCAFE"
   ]
  },
  {
   "cell_type": "markdown",
   "id": "12fab578",
   "metadata": {},
   "source": [
    "### Convert 9876 to its binary, octal and hexadecimal equivalent and print their corresponding value."
   ]
  },
  {
   "cell_type": "code",
   "execution_count": 104,
   "id": "aa92f51d",
   "metadata": {},
   "outputs": [
    {
     "name": "stdout",
     "output_type": "stream",
     "text": [
      "0b10011010010100\n",
      "0o23224\n",
      "0x2694\n"
     ]
    }
   ],
   "source": [
    "inputVal = 9876\n",
    "#binary\n",
    "print(bin(inputVal))\n",
    "#octal\n",
    "print(oct(inputVal))\n",
    "#hexadecimal\n",
    "print(hex(inputVal))"
   ]
  },
  {
   "cell_type": "markdown",
   "id": "64cb347b",
   "metadata": {},
   "source": [
    "### What will be the output of following:-"
   ]
  },
  {
   "cell_type": "code",
   "execution_count": 105,
   "id": "5d3b5774",
   "metadata": {},
   "outputs": [
    {
     "name": "stdout",
     "output_type": "stream",
     "text": [
      "80\n"
     ]
    }
   ],
   "source": [
    "a = 0b1010000\n",
    "print(a)"
   ]
  },
  {
   "cell_type": "code",
   "execution_count": 106,
   "id": "54a7affe",
   "metadata": {},
   "outputs": [
    {
     "name": "stdout",
     "output_type": "stream",
     "text": [
      "3870\n"
     ]
    }
   ],
   "source": [
    "b = 0o7436\n",
    "print(b)"
   ]
  },
  {
   "cell_type": "code",
   "execution_count": 107,
   "id": "caf0d8b1",
   "metadata": {},
   "outputs": [
    {
     "name": "stdout",
     "output_type": "stream",
     "text": [
      "64222\n"
     ]
    }
   ],
   "source": [
    "c = 0xfade\n",
    "print(c)"
   ]
  },
  {
   "cell_type": "code",
   "execution_count": 108,
   "id": "2c469abe",
   "metadata": {},
   "outputs": [
    {
     "name": "stdout",
     "output_type": "stream",
     "text": [
      "0b1010000\n"
     ]
    }
   ],
   "source": [
    "print(bin(80))"
   ]
  },
  {
   "cell_type": "code",
   "execution_count": 109,
   "id": "68318ae6",
   "metadata": {},
   "outputs": [
    {
     "name": "stdout",
     "output_type": "stream",
     "text": [
      "0o7436\n"
     ]
    }
   ],
   "source": [
    "print(oct(3870))"
   ]
  },
  {
   "cell_type": "code",
   "execution_count": 110,
   "id": "35923ecb",
   "metadata": {},
   "outputs": [
    {
     "name": "stdout",
     "output_type": "stream",
     "text": [
      "0xfade\n"
     ]
    }
   ],
   "source": [
    "print(hex(64222))"
   ]
  },
  {
   "cell_type": "code",
   "execution_count": 111,
   "id": "6daa2675",
   "metadata": {},
   "outputs": [
    {
     "name": "stdout",
     "output_type": "stream",
     "text": [
      "0b1010000\n"
     ]
    }
   ],
   "source": [
    "print(bin(0b1010000))"
   ]
  },
  {
   "cell_type": "code",
   "execution_count": 112,
   "id": "ba41319c",
   "metadata": {},
   "outputs": [
    {
     "name": "stdout",
     "output_type": "stream",
     "text": [
      "0b1111101011011110\n"
     ]
    }
   ],
   "source": [
    "print(bin(0xfade))"
   ]
  },
  {
   "cell_type": "code",
   "execution_count": 113,
   "id": "c6601157",
   "metadata": {},
   "outputs": [
    {
     "name": "stdout",
     "output_type": "stream",
     "text": [
      "0o175336\n"
     ]
    }
   ],
   "source": [
    "print(oct(0xfade))"
   ]
  },
  {
   "cell_type": "code",
   "execution_count": 114,
   "id": "8c8a822b",
   "metadata": {},
   "outputs": [
    {
     "name": "stdout",
     "output_type": "stream",
     "text": [
      "0o7436\n"
     ]
    }
   ],
   "source": [
    "print(oct(0o7436))"
   ]
  },
  {
   "cell_type": "code",
   "execution_count": 115,
   "id": "8761610d",
   "metadata": {},
   "outputs": [
    {
     "name": "stdout",
     "output_type": "stream",
     "text": [
      "0x50\n"
     ]
    }
   ],
   "source": [
    "print(hex(0b1010000))"
   ]
  },
  {
   "cell_type": "code",
   "execution_count": 116,
   "id": "a3faac18",
   "metadata": {},
   "outputs": [
    {
     "name": "stdout",
     "output_type": "stream",
     "text": [
      "0xfade\n"
     ]
    }
   ],
   "source": [
    "print(hex(0xfade))"
   ]
  }
 ],
 "metadata": {
  "kernelspec": {
   "display_name": "Python 3 (ipykernel)",
   "language": "python",
   "name": "python3"
  },
  "language_info": {
   "codemirror_mode": {
    "name": "ipython",
    "version": 3
   },
   "file_extension": ".py",
   "mimetype": "text/x-python",
   "name": "python",
   "nbconvert_exporter": "python",
   "pygments_lexer": "ipython3",
   "version": "3.9.7"
  }
 },
 "nbformat": 4,
 "nbformat_minor": 5
}
