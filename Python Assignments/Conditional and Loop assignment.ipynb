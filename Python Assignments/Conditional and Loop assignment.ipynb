{
 "cells": [
  {
   "cell_type": "markdown",
   "id": "71ea93f8",
   "metadata": {},
   "source": [
    "## W. A P. which takes one number from 0 to 9 from the user and prints it in the word. And if the word is not from 0 to 9 then it should print that number is outside of the range and program should  exit.\n",
    "### For exapmple:-\n",
    "### input = 1\n",
    "### output = one"
   ]
  },
  {
   "cell_type": "code",
   "execution_count": 5,
   "id": "023e2713",
   "metadata": {},
   "outputs": [
    {
     "name": "stdout",
     "output_type": "stream",
     "text": [
      "The number is three\n"
     ]
    }
   ],
   "source": [
    "inputVal= 3\n",
    "if inputVal<10:\n",
    "    if inputVal == 0:\n",
    "        print('The number is Zero')\n",
    "    elif inputVal == 1:\n",
    "        print('The number is one')\n",
    "    elif inputVal == 2:\n",
    "        print('The number is two')\n",
    "    elif inputVal == 3:\n",
    "        print('The number is three')\n",
    "    elif inputVal == 4:\n",
    "        print('The number is four')\n",
    "    elif inputVal == 5:\n",
    "        print('The number is five')\n",
    "    elif inputVal == 6:\n",
    "        print('The number is six')\n",
    "    elif inputVal == 7:\n",
    "        print('The number is seven')\n",
    "    elif inputVal == 8:\n",
    "        print('The number is eight')\n",
    "    elif inputVal == 9:\n",
    "        print('The number is nine')\n",
    "else:\n",
    "    print('The number is out of range..')"
   ]
  },
  {
   "cell_type": "markdown",
   "id": "5df946ef",
   "metadata": {},
   "source": [
    "## W. A P. to implement calculator but the operation to be done and two numbers will be taken as input from user:-\n",
    "### Operation console should show below:-\n",
    " - To add enter 1\n",
    " - To subtract enter 2\n",
    " - To multiply enter 3\n",
    " - To divide enter 4\n",
    " - To divide and find quotient enter 5\n",
    " - To divide and find remainder enter 6\n",
    " - To divide and find num1 to the power of num2 enter 7\n",
    " - To Come out of the program enter 8"
   ]
  },
  {
   "cell_type": "code",
   "execution_count": 18,
   "id": "46835966",
   "metadata": {},
   "outputs": [
    {
     "name": "stdout",
     "output_type": "stream",
     "text": [
      "Enter the first number.....10\n",
      "Enter the second number.....4\n",
      "To add enter 1...\n",
      "To subtract enter 2..\n",
      "To Multiply enter 3..\n",
      "To divide enter 4..\n",
      "To divide and find quotient enter 5..\n",
      "To divide and find remainder enter 6..\n",
      "To divide and find num1 to the power of num2 enter 7..\n",
      "To come out of the program enter 8\n",
      "1\n",
      "Sum of 10 and 4 is...14\n"
     ]
    }
   ],
   "source": [
    "num1 = int(input('Enter the first number.....'))\n",
    "num2 = int(input('Enter the second number.....'))\n",
    "operationNumber = int(input(\"\"\"To add enter 1...\n",
    "To subtract enter 2..\n",
    "To Multiply enter 3..\n",
    "To divide enter 4..\n",
    "To divide and find quotient enter 5..\n",
    "To divide and find remainder enter 6..\n",
    "To divide and find num1 to the power of num2 enter 7..\n",
    "To come out of the program enter 8\n",
    "\"\"\"))\n",
    "\n",
    "if(operationNumber == 1):\n",
    "    print(f'Sum of {num1} and {num2} is...{num1+num2}')\n",
    "elif(operationNumber == 2):\n",
    "    print(f'Difference of {num1} and {num2} is...{num1-num2}')\n",
    "elif(operationNumber == 3):\n",
    "    print(f'Multiplication product of {num1} and {num2} is...{num1*num2}')\n",
    "elif(operationNumber == 4):\n",
    "     print(f'Division  of {num1} and {num2} is...{num1/num2}')\n",
    "elif(operationNumber == 5):\n",
    "    print(f'Quotient of {num1} and {num2} is...{num1//num2}')\n",
    "elif(operationNumber == 6):\n",
    "    print(f'Remainder of {num1} and {num2} is...{num1%num2}')\n",
    "elif(operationNumber == 7):\n",
    "     print(f'Power of {num1} and {num2} is...{num1**num2}')\n",
    "elif(operationNumber == 8):\n",
    "    print('Program ended....')\n",
    "else:\n",
    "    print('Not a valid number....')"
   ]
  },
  {
   "cell_type": "markdown",
   "id": "e2aaa2d7",
   "metadata": {},
   "source": [
    "## W A P to check whether a year entered by user is an leap year or not?\n",
    "### Check with below input:-\n",
    " - leap year:- 2012, 1968, 2004, 1200, 1600,2400\n",
    " - Non-lear year:- 1971, 2006, 1700,1800,1900"
   ]
  },
  {
   "cell_type": "code",
   "execution_count": 25,
   "id": "53714b56",
   "metadata": {},
   "outputs": [
    {
     "name": "stdout",
     "output_type": "stream",
     "text": [
      "Enter a year value...2006\n",
      "2006 is not a Leap year...\n"
     ]
    }
   ],
   "source": [
    "inputYear = int(input('Enter a year value...'))\n",
    "isLeapYear = False\n",
    "#  Step 1: Check whether the year is divisible by 4\n",
    "if(inputYear % 4 == 0):\n",
    "    # Step 2: Now check whether a year is divisible by 100 to check whether the input year is a century year\n",
    "    # century year ends with 00\n",
    "    if(inputYear % 100 == 0):\n",
    "        # Now check whether the century year is divisible by 400.\n",
    "        if(inputYear % 400 == 0):\n",
    "            isLeapYear = True\n",
    "        else:\n",
    "            isLeapYear = False\n",
    "    else:\n",
    "        isLeapYear = True\n",
    "else:\n",
    "    isLeapYear = False\n",
    "\n",
    "if(isLeapYear):\n",
    "    print(f'{inputYear} is a Leap year...')\n",
    "else:\n",
    "    print(f'{inputYear} is not a Leap year...')"
   ]
  },
  {
   "cell_type": "markdown",
   "id": "2679dc8c",
   "metadata": {},
   "source": [
    "## W A P which takes one number from the user and checks whether it is an even or odd number?, If it even then prints number is even number else prints that number is odd number."
   ]
  },
  {
   "cell_type": "code",
   "execution_count": 3,
   "id": "797494ea",
   "metadata": {},
   "outputs": [
    {
     "name": "stdout",
     "output_type": "stream",
     "text": [
      "Enter a number...67\n",
      "67 is an odd number\n"
     ]
    }
   ],
   "source": [
    "inputNumber = int(input('Enter a number...'))\n",
    "if(inputNumber % 2 == 0):\n",
    "    print(f'{inputNumber} is an even number')\n",
    "else:\n",
    "    print(f'{inputNumber} is an odd number')"
   ]
  },
  {
   "cell_type": "markdown",
   "id": "ff6e4c69",
   "metadata": {},
   "source": [
    "## Q. W A P which takes two numbers from the user and prints below output:-\n",
    " 1. num1 is greater than num2 if num1 is greater than num2\n",
    " 2. num1 is smaller than num2 if num1 is smaller than num2\n",
    " 3. num1 is equal to num2 if num1 and num2 are equal"
   ]
  },
  {
   "cell_type": "code",
   "execution_count": 8,
   "id": "59126c8b",
   "metadata": {},
   "outputs": [
    {
     "name": "stdout",
     "output_type": "stream",
     "text": [
      "Enter the number 1...32\n",
      "Enter the number 2....40\n",
      "32 is smaller than 40\n"
     ]
    }
   ],
   "source": [
    "num1 = int(input('Enter the number 1...'))\n",
    "num2 = int(input('Enter the number 2....'))\n",
    "if num1> num2:\n",
    "    print(f'{num1} is greater than {num2}')\n",
    "elif num1 == num2:\n",
    "    print(f'{num1} is equal to {num2}')\n",
    "else:\n",
    "    print(f'{num1} is smaller than {num2}')"
   ]
  },
  {
   "cell_type": "markdown",
   "id": "f6442bd7",
   "metadata": {},
   "source": [
    "### Using Ternary operator"
   ]
  },
  {
   "cell_type": "code",
   "execution_count": 13,
   "id": "7f317c76",
   "metadata": {},
   "outputs": [
    {
     "name": "stdout",
     "output_type": "stream",
     "text": [
      "Enter the number 1...3\n",
      "Enter the number 2....3\n",
      " 3 and 3 are equal\n"
     ]
    }
   ],
   "source": [
    "num1 = int(input('Enter the number 1...'))\n",
    "num2 = int(input('Enter the number 2....'))\n",
    "print (f' {num1} and {num2} are equal' if num1 == num2 else f'{num1} is greater than {num2}'\n",
    "        if num1 > num2 else f'{num1} is smaller than {num2}')"
   ]
  },
  {
   "cell_type": "markdown",
   "id": "9b8ef20d",
   "metadata": {},
   "source": [
    "## Q. W A P which takes three numbers from the user and prints below output:-\n",
    " 1. num1 is greater than num2 and num3 if num1 is greater than num2 and num3\n",
    " 2. num2 is greater than num1 and num3 if num2 is greater than num1 and num3\n",
    " 3. num3 is greater than num1 and num2 if num3 is greater than num1 and num2\n"
   ]
  },
  {
   "cell_type": "code",
   "execution_count": 1,
   "id": "44c66de9",
   "metadata": {},
   "outputs": [
    {
     "name": "stdout",
     "output_type": "stream",
     "text": [
      "Enter the number 1....32\n",
      "Enter the number 2....40\n",
      "Enter the number 3.....12\n",
      "40 is greater than 32 and 12\n"
     ]
    }
   ],
   "source": [
    "num1 = int(input('Enter the number 1....'))\n",
    "num2 = int(input('Enter the number 2....'))\n",
    "num3 = int(input('Enter the number 3.....'))\n",
    "if(num1 > num2  and num1 > num3):\n",
    "    print(f'{num1} is greater than {num2} and {num3}')\n",
    "elif(num2 > num1 and num2 > num3):\n",
    "    print(f'{num2} is greater than {num1} and {num3}')\n",
    "elif(num3 > num1 and num3 > num2):\n",
    "    print(f'{num3} is greater than {num1} and {num2}')\n",
    "else:\n",
    "    pass"
   ]
  },
  {
   "cell_type": "markdown",
   "id": "9b80d0e3",
   "metadata": {},
   "source": [
    "### Using Ternary operator"
   ]
  },
  {
   "cell_type": "code",
   "execution_count": 6,
   "id": "5d6de9c4",
   "metadata": {},
   "outputs": [
    {
     "name": "stdout",
     "output_type": "stream",
     "text": [
      "Enter the number 1....32\n",
      "Enter the number 2....33\n",
      "Enter the number 3.....40\n",
      "40 is greater than 32 and 33\n"
     ]
    }
   ],
   "source": [
    "num1 = int(input('Enter the number 1....'))\n",
    "num2 = int(input('Enter the number 2....'))\n",
    "num3 = int(input('Enter the number 3.....'))\n",
    "print(f'{num1} is greater than {num2} and {num3}' if num1 > num2 and num1>num3 \n",
    "      else f'{num2} is greater than {num1} and {num3}'\n",
    "      if num2 > num1 and num2 > num3 else f'{num3} is greater than {num1} and {num2}')"
   ]
  },
  {
   "cell_type": "markdown",
   "id": "249d7fa0",
   "metadata": {},
   "source": [
    "## Loops for, while loops problems"
   ]
  },
  {
   "cell_type": "markdown",
   "id": "909d9dac",
   "metadata": {},
   "source": [
    "### Write a Python program to find the length of the my_str using loop:-\n",
    "\n",
    "#### Input:- 'Write a Python program to find the length of the my_str'\n",
    "#### Output:- 55"
   ]
  },
  {
   "cell_type": "code",
   "execution_count": 9,
   "id": "28afc518",
   "metadata": {},
   "outputs": [
    {
     "name": "stdout",
     "output_type": "stream",
     "text": [
      " Length of the string is.. 55\n"
     ]
    }
   ],
   "source": [
    "inputString = 'Write a Python program to find the length of the my_str'\n",
    "length = 0;\n",
    "for i in inputString:\n",
    "    length = length + 1\n",
    "print(f' Length of the string is.. {length}')"
   ]
  },
  {
   "cell_type": "markdown",
   "id": "b933de90",
   "metadata": {},
   "source": [
    "### Write a Python program to find the total number of times letter 'p' is appeared in the below string using loop:-\n",
    "#### Input:- 'peter piper picked a peck of pickled peppers.\\n'\n",
    "#### Output:- 9"
   ]
  },
  {
   "cell_type": "code",
   "execution_count": 11,
   "id": "98af7975",
   "metadata": {},
   "outputs": [
    {
     "name": "stdout",
     "output_type": "stream",
     "text": [
      "9\n"
     ]
    }
   ],
   "source": [
    "inputString = 'peter piper picked a peck of pickled peppers.\\n'\n",
    "counter = 0\n",
    "for i in inputString:\n",
    "    if i == 'p':\n",
    "        counter = counter + 1\n",
    "print(counter)"
   ]
  },
  {
   "cell_type": "markdown",
   "id": "1d2a0015",
   "metadata": {},
   "source": [
    "### Write a Python Program, to print all the indexes of all occurences of  letter 'p' appeared in the string using loop:-\n",
    "#### Input:- 'peter piper picked a peck of pickled peppers.'\n",
    "#### Output:-\n",
    "0\n",
    "6\n",
    "8\n",
    "12\n",
    "21\n",
    "29\n",
    "37\n",
    "39\n",
    "40"
   ]
  },
  {
   "cell_type": "code",
   "execution_count": 20,
   "id": "8c714d21",
   "metadata": {},
   "outputs": [
    {
     "name": "stdout",
     "output_type": "stream",
     "text": [
      "0\n",
      "6\n",
      "8\n",
      "12\n",
      "21\n",
      "29\n",
      "37\n",
      "39\n",
      "40\n"
     ]
    }
   ],
   "source": [
    "inputString = 'peter piper picked a peck of pickled peppers.'\n",
    "counter = 0\n",
    "for i in range(len(inputString)):\n",
    "    counter = counter +1\n",
    "    if inputString[i] == 'p':        \n",
    "        print(i)"
   ]
  },
  {
   "cell_type": "markdown",
   "id": "80bce4a4",
   "metadata": {},
   "source": [
    "### Write a python program to find below output using loop:-\n",
    "#### Input:- 'peter piper picked a peck of pickled peppers.'\n",
    "#### Output:- ['peter', 'piper', 'picked', 'a', 'peck', 'of', 'pickled', 'peppers']"
   ]
  },
  {
   "cell_type": "code",
   "execution_count": 11,
   "id": "3af6ee07",
   "metadata": {},
   "outputs": [
    {
     "name": "stdout",
     "output_type": "stream",
     "text": [
      "['peter', 'piper', 'picked', 'a', 'peck', 'of', 'pickled', 'peppers']\n"
     ]
    }
   ],
   "source": [
    "inputString = 'peter piper picked a peck of pickled peppers'\n",
    "wordList = []\n",
    "tempString = ''\n",
    "for i in inputString:\n",
    "    if i.isalpha(): # Check whether the value is an alphabet, then append string to the temp variable\n",
    "        tempString = tempString + i\n",
    "    else:\n",
    "        wordList.append(tempString)\n",
    "        tempString = '' # Reset the temp value when a word is added into the list\n",
    "        \n",
    "# The below condition is required for adding the last word inside the list\n",
    "if tempString != '':\n",
    "    wordList.append(tempString)\n",
    "print(wordList)"
   ]
  },
  {
   "cell_type": "markdown",
   "id": "c9d372c9",
   "metadata": {},
   "source": [
    "### Write a python program to find below output using loop:-\n",
    "#### Input:- 'peter piper picked a peck of pickled peppers.'\n",
    "#### Output:- 'peppers pickled of peck a picked piper peter'"
   ]
  },
  {
   "cell_type": "code",
   "execution_count": 81,
   "id": "3311a7d2",
   "metadata": {},
   "outputs": [
    {
     "name": "stdout",
     "output_type": "stream",
     "text": [
      " peppers pickled of peck a picked piper peter\n"
     ]
    }
   ],
   "source": [
    "inputString = 'peter piper picked a peck of pickled peppers'\n",
    "inputString = inputString[::-1]\n",
    "tempString = ''\n",
    "outputString = ''\n",
    "for i in inputString:\n",
    "    if i.isalpha():\n",
    "        tempString = i + tempString\n",
    "    else:\n",
    "        outputString = outputString + ' '+ tempString\n",
    "        tempString = ''\n",
    "if(tempString != ''):\n",
    "    print(outputString + ' '+ tempString)"
   ]
  },
  {
   "cell_type": "markdown",
   "id": "ab1ecd14",
   "metadata": {},
   "source": [
    "### Q. Write a python program to find below output using loop:-\n",
    "#### Input:- 'peter piper picked a peck of pickled peppers.'\n",
    "#### Output:- '.sreppep delkcip fo kcep a dekcip repip retep'"
   ]
  },
  {
   "cell_type": "code",
   "execution_count": 88,
   "id": "02b35a69",
   "metadata": {},
   "outputs": [
    {
     "name": "stdout",
     "output_type": "stream",
     "text": [
      " .sreppep delkcip fo kcep a dekcip repip retep\n"
     ]
    }
   ],
   "source": [
    "inputString = 'peter piper picked a peck of pickled peppers.'\n",
    "inputString = inputString[::-1]\n",
    "tempString = ''\n",
    "outputString = ''\n",
    "for i in inputString:\n",
    "    if i!= ' ':\n",
    "        tempString = tempString + i\n",
    "    else:\n",
    "        outputString = outputString + ' '+ tempString\n",
    "        tempString = ''\n",
    "if(tempString != ''):\n",
    "    print(outputString + ' '+ tempString)"
   ]
  },
  {
   "cell_type": "markdown",
   "id": "aaad418f",
   "metadata": {},
   "source": [
    "### Write a python program to find below output using loop:-\n",
    "#### Input:- 'peter piper picked a peck of pickled peppers.'\n",
    "#### Output:- 'retep repip dekcip a kcep fo delkcip sreppep'"
   ]
  },
  {
   "cell_type": "code",
   "execution_count": 99,
   "id": "b9379fb0",
   "metadata": {},
   "outputs": [
    {
     "name": "stdout",
     "output_type": "stream",
     "text": [
      " retep repip dekcip a kcep fo delkcip sreppep\n"
     ]
    }
   ],
   "source": [
    "inputString = 'peter piper picked a peck of pickled peppers'\n",
    "tempString = ''\n",
    "outputString = ''\n",
    "for i in inputString:\n",
    "    if i.isalpha():\n",
    "        tempString = i+tempString\n",
    "    else:\n",
    "        outputString = outputString + ' '+ tempString\n",
    "        tempString = ''\n",
    "if tempString != '':\n",
    "    outputString = outputString + ' '+ tempString\n",
    "print(outputString)"
   ]
  },
  {
   "cell_type": "markdown",
   "id": "5b243e3f",
   "metadata": {},
   "source": [
    "### Q. Write a python program to find below output using loop:-\n",
    "#### Input:- 'peter piper picked a peck of pickled peppers.'\n",
    "#### Output:- 'Peter Piper Picked A Peck Of Pickled Peppers'"
   ]
  },
  {
   "cell_type": "code",
   "execution_count": 105,
   "id": "5e900b51",
   "metadata": {},
   "outputs": [
    {
     "name": "stdout",
     "output_type": "stream",
     "text": [
      " Peter Piper Picked A Peck Of Pickled Peppers\n"
     ]
    }
   ],
   "source": [
    "inputString = 'peter piper picked a peck of pickled peppers'\n",
    "tempString = ''\n",
    "outputString = ''\n",
    "counter = 0\n",
    "for i in inputString:\n",
    "    counter = counter +1\n",
    "    if i.isalpha():\n",
    "        if counter == 1:\n",
    "            i = i.upper()\n",
    "        tempString = tempString + i\n",
    "    else:\n",
    "        outputString = outputString + ' ' +tempString\n",
    "        tempString = ''\n",
    "        counter = 0\n",
    "if tempString != '':\n",
    "    outputString = outputString +' ' +tempString\n",
    "print(outputString)"
   ]
  },
  {
   "cell_type": "markdown",
   "id": "c58df1c1",
   "metadata": {},
   "source": [
    "### Write a python program to find below output using loop:-\n",
    "#### Input:- 'Peter Piper Picked A Peck Of Pickled Peppers.'\n",
    "#### Output:- 'Peter piper picked a peck of pickled peppers'"
   ]
  },
  {
   "cell_type": "code",
   "execution_count": 107,
   "id": "4581f178",
   "metadata": {},
   "outputs": [
    {
     "name": "stdout",
     "output_type": "stream",
     "text": [
      " Peter piper picked a peck of pickled peppers\n"
     ]
    }
   ],
   "source": [
    "inputString = 'peter piper picked a peck of pickled peppers'\n",
    "tempString = ''\n",
    "outputString = ''\n",
    "counter = 1\n",
    "for i in inputString:\n",
    "    if i.isalpha():\n",
    "        if counter == 1:\n",
    "            i = i.upper()\n",
    "            counter = 0\n",
    "        tempString = tempString + i\n",
    "    else:\n",
    "        outputString = outputString + ' ' +tempString\n",
    "        tempString = ''\n",
    "        counter = 0\n",
    "if tempString != '':\n",
    "    outputString = outputString +' ' +tempString\n",
    "print(outputString)"
   ]
  },
  {
   "cell_type": "markdown",
   "id": "d1ba6863",
   "metadata": {},
   "source": [
    "### Write a python program to implement replace method using loop. If sub_str is found in my_str then it will replace the first occurrence of sub_str with new_str else it will will print sub_str not found:-\n",
    "\n",
    "#### Input:- my_str = 'Peter Piper Picked A Peck Of Pickled Peppers.',\n",
    "#### sub_str = 'Peck', new_str = 'Pack'\n",
    "#### Output:- 'Peter Piper Picked A Pack Of Pickled Peppers.'"
   ]
  },
  {
   "cell_type": "code",
   "execution_count": 112,
   "id": "a3918c49",
   "metadata": {},
   "outputs": [
    {
     "name": "stdout",
     "output_type": "stream",
     "text": [
      " Peter Piper Picked A Pack Of Pickled Peppers\n"
     ]
    }
   ],
   "source": [
    "inputString = 'Peter Piper Picked A Peck Of Pickled Peppers.'\n",
    "sub_str = 'Peck'\n",
    "new_str = 'Pack'\n",
    "tempString = ''\n",
    "outputString = ''\n",
    "for i in inputString:\n",
    "    if i.isalpha():\n",
    "        tempString = tempString + i\n",
    "    else:\n",
    "        if tempString == sub_str:\n",
    "            tempString = new_str\n",
    "        outputString = outputString + ' '+tempString\n",
    "        tempString = ''\n",
    "if tempString != '':\n",
    "    outputString = outputString + ' ' + tempString\n",
    "print(outputString)"
   ]
  },
  {
   "cell_type": "markdown",
   "id": "a2bced5d",
   "metadata": {},
   "source": [
    "### . Write a python program to implement index method using loop. If sub_str is found in my_str then it will print the index of first occurrence of first character of matching string in my_str:-\n",
    "#### Input:- my_str = 'Peter Piper Picked A Peck Of Pickled Peppers.',\n",
    "#### sub_str = 'Pickl'\n",
    "#### Output:- 29"
   ]
  },
  {
   "cell_type": "code",
   "execution_count": 7,
   "id": "e292e77c",
   "metadata": {},
   "outputs": [
    {
     "name": "stdout",
     "output_type": "stream",
     "text": [
      "29\n"
     ]
    }
   ],
   "source": [
    "inputString = 'Peter Piper Picked A Peck Of Pickled Peppers.'\n",
    "sub_str = 'Pickl'\n",
    "tempString = ''\n",
    "index = -1;\n",
    "for i in inputString:\n",
    "    if i.isalpha():\n",
    "        tempString = tempString + i\n",
    "        index = index+1\n",
    "    else:\n",
    "        if tempString.startswith(sub_str):\n",
    "            print(index)\n",
    "        tempString = ''\n"
   ]
  },
  {
   "cell_type": "markdown",
   "id": "d3a507bb",
   "metadata": {},
   "source": [
    "### Write a python program to find below output (implements rjust and ljust) using loop:\n",
    "#### Input:- 'Peter Piper Picked A Peck Of Pickled Peppers.', sub_str = 'Peck',\n",
    "#### Output:- '*********************Peck********************'"
   ]
  },
  {
   "cell_type": "code",
   "execution_count": 10,
   "id": "4392712a",
   "metadata": {},
   "outputs": [
    {
     "name": "stdout",
     "output_type": "stream",
     "text": [
      "****************Peck************\n"
     ]
    }
   ],
   "source": [
    "inputString = 'Peter Piper Picked A Peck Of Pickled Peppers.'\n",
    "sub_str = 'Peck'\n",
    "outputString = ''\n",
    "for i in inputString:\n",
    "    if i.isalpha():\n",
    "        tempString = tempString +i\n",
    "    else:\n",
    "        if tempString.startswith(sub_str):\n",
    "            outputString = outputString + tempString\n",
    "        else:\n",
    "            outputString = outputString + '****'\n",
    "            \n",
    "        tempString = ''\n",
    "        \n",
    "print(outputString)"
   ]
  },
  {
   "cell_type": "markdown",
   "id": "798ad080",
   "metadata": {},
   "source": [
    "### Write a python program to find below output using loop:-\n",
    "#### Input:- 'This is Python class', sep = ' is',\n",
    "#### Output:- ['This', 'is', 'Python class']"
   ]
  },
  {
   "cell_type": "code",
   "execution_count": 30,
   "id": "23ae7585",
   "metadata": {},
   "outputs": [
    {
     "name": "stdout",
     "output_type": "stream",
     "text": [
      "['This', ' is', 'Python class']\n"
     ]
    }
   ],
   "source": [
    "my_str = 'This is Python class'\n",
    "sub_str = ' is'\n",
    "i = 0\n",
    "lst = []\n",
    "out_str = ''\n",
    "while (i<len(my_str)):\n",
    "    if my_str[i:(i+len(sub_str))] == sub_str:\n",
    "            lst += [out_str] + [sub_str]\n",
    "            out_str = ''\n",
    "            i += len(sub_str)\n",
    "    elif i == len(my_str)-1:\n",
    "        out_str += my_str[i]\n",
    "        lst += [out_str]\n",
    "    else:\n",
    "        out_str += my_str[i]\n",
    "    i += 1 \n",
    "print(lst)"
   ]
  }
 ],
 "metadata": {
  "kernelspec": {
   "display_name": "Python 3 (ipykernel)",
   "language": "python",
   "name": "python3"
  },
  "language_info": {
   "codemirror_mode": {
    "name": "ipython",
    "version": 3
   },
   "file_extension": ".py",
   "mimetype": "text/x-python",
   "name": "python",
   "nbconvert_exporter": "python",
   "pygments_lexer": "ipython3",
   "version": "3.9.7"
  }
 },
 "nbformat": 4,
 "nbformat_minor": 5
}
