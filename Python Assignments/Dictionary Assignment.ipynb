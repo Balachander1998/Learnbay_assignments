{
 "cells": [
  {
   "cell_type": "markdown",
   "id": "088c3be5",
   "metadata": {},
   "source": [
    "###  Initialize a dictionary \"emp_info\" with below details\n",
    "\n",
    "#### In - emp_info['Tom']\n",
    "#### Out - {'email':'tom_latham019@gmail.com', 'Phone': +1987654321, 'City': 'California'}\n",
    "\n",
    "#### In - emp_info['Kathy']\n",
    "#### Out - {'email':'kathy_abram897@gmail.com', 'Phone': +1887654321, 'City': 'New York'}"
   ]
  },
  {
   "cell_type": "code",
   "execution_count": 2,
   "id": "8e27f8bf",
   "metadata": {},
   "outputs": [
    {
     "name": "stdout",
     "output_type": "stream",
     "text": [
      "{'email': 'kathy_abram897@gmail.com', 'Phone': '+1887654321', 'City': 'New York'}\n"
     ]
    }
   ],
   "source": [
    "emp_info = {'Tom':{'email':'tom_latham019@gmail.com','Phone':'+1987654321','City':'California'},\n",
    "           'Kathy':{'email':'kathy_abram897@gmail.com', 'Phone': '+1887654321', 'City': 'New York'}}\n",
    "print(emp_info['Kathy'])"
   ]
  },
  {
   "cell_type": "markdown",
   "id": "9ad286f0",
   "metadata": {},
   "source": [
    "### Create a dictionary out of below inputs\n",
    "#### lst1 = ['emp1', 'emp2', 'emp3']\n",
    "#### emp_key = ['e_name', 'e_id', 'e_sal']\n",
    "#### emp1_val = ['John', 'SG101', '$10,000']\n",
    " emp2_val = ['Smith', 'SG102', '$9,000']\n",
    "#### emp3_val = ['Peter', 'SG103', '$9,500']\n",
    "Expected Output:- {'emp1':{'e_name':'John', 'e_id':'SG101', 'e_sal':$10,000}, \n",
    "####                   'emp2':{'e_name':'Smith', 'e_id':'SG102', 'e_sal':$9,000}, \n",
    "#                    'emp3':{'e_name':'Peter', 'e_id':'SG103', 'e_sal':$9,500}}"
   ]
  },
  {
   "cell_type": "code",
   "execution_count": 5,
   "id": "d8ed5ca7",
   "metadata": {},
   "outputs": [
    {
     "name": "stdout",
     "output_type": "stream",
     "text": [
      "{'emp1': {'e_name': 'John', 'e_id': 'SG101', 'e_sal': '$10,000'}, 'emp2': {'e_name': 'Smith', 'e_id': 'SG102', 'e_sal': '$9,000'}, 'emp3': {'e_name': 'Peter', 'e_id': 'SG103', 'e_sal': '$9,500'}}\n"
     ]
    }
   ],
   "source": [
    "lst1 = ['emp1','emp2','emp3']\n",
    "emp_key = ['e_name','e_id','e_sal']\n",
    "emp1_val = ['John','SG101','$10,000']\n",
    "emp2_val = ['Smith', 'SG102', '$9,000']\n",
    "emp3_val = ['Peter', 'SG103', '$9,500']\n",
    "outer_dict = {}\n",
    "emp_info = {}\n",
    "counter = 1\n",
    "for i in range(len(lst1)):\n",
    "    for j in range(len(emp_key)):\n",
    "        if counter == 1:\n",
    "            outer_dict[emp_key[j]] = emp1_val[j]\n",
    "        if counter == 2:\n",
    "            outer_dict[emp_key[j]] = emp2_val[j]\n",
    "        if counter == 3:\n",
    "            outer_dict[emp_key[j]] = emp3_val[j]\n",
    "    emp_info[lst1[i]] = outer_dict\n",
    "    outer_dict = {}\n",
    "    counter +=1\n",
    "print(emp_info)"
   ]
  },
  {
   "cell_type": "markdown",
   "id": "16d2dcc3",
   "metadata": {},
   "source": [
    "### Acess the value of key 'history'\n",
    "\n",
    "sampleDict = { \n",
    "   \"class\":{ \n",
    "      \"student\":{ \n",
    "         \"name\":\"Mike\",\n",
    "         \"marks\":{ \n",
    "            \"physics\":70,\n",
    "            \"history\":80\n",
    "         }\n",
    "      }\n",
    "   }\n",
    "}"
   ]
  },
  {
   "cell_type": "code",
   "execution_count": 6,
   "id": "b054a845",
   "metadata": {},
   "outputs": [
    {
     "name": "stdout",
     "output_type": "stream",
     "text": [
      "80\n"
     ]
    }
   ],
   "source": [
    "sampleDict = { \n",
    "   \"class\":{ \n",
    "      \"student\":{ \n",
    "         \"name\":\"Mike\",\n",
    "         \"marks\":{ \n",
    "            \"physics\":70,\n",
    "            \"history\":80\n",
    "         }\n",
    "      }\n",
    "   }\n",
    "}\n",
    "print(sampleDict['class']['student']['marks']['history'])"
   ]
  },
  {
   "cell_type": "markdown",
   "id": "fca090c8",
   "metadata": {},
   "source": [
    "### Initialize dictionary with default values. Inputs are:-\n",
    "#### employees = ['Kelly', 'Emma', 'John']\n",
    "#### defaults = {\"designation\": 'Application Developer', \"salary\": 8000}\n",
    "\n",
    "#### Expected output:- {'Kelly': {'designation': 'Application Developer', 'salary': 8000}, \n",
    "####  'Emma': {'designation': 'Application Developer', 'salary': 8000}, \n",
    "####   'John': {'designation': 'Application Developer', 'salary': 8000}}"
   ]
  },
  {
   "cell_type": "code",
   "execution_count": 7,
   "id": "2f438ca8",
   "metadata": {},
   "outputs": [
    {
     "name": "stdout",
     "output_type": "stream",
     "text": [
      "{'Kelly': {'designation': 'Application Developer', 'salary': 8000}, 'Emma': {'designation': 'Application Developer', 'salary': 8000}, 'John': {'designation': 'Application Developer', 'salary': 8000}}\n"
     ]
    }
   ],
   "source": [
    "employees = ['Kelly', 'Emma', 'John']\n",
    "defaults = {\"designation\": 'Application Developer', \"salary\": 8000}\n",
    "emp_dict = {}\n",
    "for employee in employees:\n",
    "    emp_dict[employee] =defaults\n",
    "print(emp_dict)"
   ]
  },
  {
   "cell_type": "markdown",
   "id": "95be26db",
   "metadata": {},
   "source": [
    "#### In gene expression, mRNA is transcribed from a DNA template. \n",
    "#### The 4 nucleotide bases of A, T, C, G corresponds to the U, A, G, C bases of the mRNA. \n",
    "#### Write a function that returns the mRNA transcript given the sequence of a DNA strand.\n",
    "\n",
    "### Use a dictionary to provide the mapping of DNA to RNA bases."
   ]
  },
  {
   "cell_type": "code",
   "execution_count": 13,
   "id": "1db780e1",
   "metadata": {},
   "outputs": [
    {
     "name": "stdout",
     "output_type": "stream",
     "text": [
      "UACGGCUA\n"
     ]
    }
   ],
   "source": [
    "def dna_mrna_trans(my_str):\n",
    "    dna_mrna = {'A':'U','T':'A','C':'G','G':'C'}\n",
    "    mrna_sq = ''\n",
    "    for i in my_str:\n",
    "        mrna_sq += dna_mrna[i]\n",
    "    return mrna_sq\n",
    "print(dna_mrna_trans(\"ATGCCGAT\"))"
   ]
  },
  {
   "cell_type": "markdown",
   "id": "5fc195c8",
   "metadata": {},
   "source": [
    "### Write a function which takes a word as input and returns a dictionary with letters as key and no of time letters are repeated as value.\n",
    "#### In - count_letter('google.com')\n",
    "#### Out - {'g': 2, 'o': 3, 'l': 1, 'e': 1, '.': 1, 'c': 1, 'm': 1}"
   ]
  },
  {
   "cell_type": "code",
   "execution_count": 16,
   "id": "5f6e32b0",
   "metadata": {},
   "outputs": [
    {
     "name": "stdout",
     "output_type": "stream",
     "text": [
      "{'g': 2, 'o': 3, 'l': 1, 'e': 1, '.': 1, 'c': 1, 'm': 1}\n"
     ]
    }
   ],
   "source": [
    "def count_letter(inputString):\n",
    "    letter_dict = {}\n",
    "    for i in inputString:\n",
    "        if i not in letter_dict:\n",
    "            letter_dict[i] = 1\n",
    "        else:\n",
    "            count = letter_dict.get(i)\n",
    "            count +=1\n",
    "            letter_dict[i] = count\n",
    "    return letter_dict\n",
    "print(count_letter('google.com'))"
   ]
  },
  {
   "cell_type": "markdown",
   "id": "4413c885",
   "metadata": {},
   "source": [
    "### A DNA strand consisting of the 4 nucleotide bases is usually represented with a string of letters: A,T, C, G. \n",
    "#### Write a function that computes the base composition of a given DNA sequence.\n",
    "\n",
    "#### In - baseComposition(\"CTATCGGCACCCTTTCAGCA\")\n",
    "#### Out - {'A': 4, 'C': 8, 'T': 5,  'G': 3 }\n",
    "    \n",
    "#### In - baseComposition(\"AGT\")\n",
    "#### Out - {'A': 1, 'C': 0, 'T': 1,  'G': 1 }"
   ]
  },
  {
   "cell_type": "code",
   "execution_count": 19,
   "id": "7d8dc7b1",
   "metadata": {},
   "outputs": [
    {
     "name": "stdout",
     "output_type": "stream",
     "text": [
      "{'A': 4, 'C': 8, 'T': 5, 'G': 3}\n",
      "{'A': 1, 'C': 0, 'T': 1, 'G': 1}\n"
     ]
    }
   ],
   "source": [
    "def baseComposition(inputString):\n",
    "    dna_dictionary = {\n",
    "        'A':0,\n",
    "        'C':0,\n",
    "        'T':0,\n",
    "        'G':0\n",
    "    }\n",
    "    for i in inputString:\n",
    "        count = dna_dictionary.get(i)\n",
    "        count += 1\n",
    "        dna_dictionary[i] = count\n",
    "    return dna_dictionary\n",
    "print(baseComposition('CTATCGGCACCCTTTCAGCA'))\n",
    "print(baseComposition('AGT'))"
   ]
  },
  {
   "cell_type": "markdown",
   "id": "2e529f24",
   "metadata": {},
   "source": [
    "### [MCQ] Suppose \"d\" is an empty dictionary, which statement does not assign \"d\" with {\"Name\":\"Tom\"}? \n",
    "#### 1. d = {\"Name\": \"Tom\" }\n",
    "#### 2. d[\"Name\"] = \"Tom\"\n",
    "#### 3. d.update({\"Name\": \"Tom\" })\n",
    "#### 4. d.setdefault(\"Name\", \"Tom\")\n",
    "#### 5. None of the above."
   ]
  },
  {
   "cell_type": "markdown",
   "id": "e92561c5",
   "metadata": {},
   "source": [
    "#### Answer is 5. None of the above"
   ]
  },
  {
   "cell_type": "markdown",
   "id": "db9f8167",
   "metadata": {},
   "source": [
    "### [MCQ] d = {\"a\":1, \"b\":2}. Which of the statements returns [1,2]? \n",
    "#### 1. d.keys()\n",
    "#### 2. d.values()\n",
    "#### 3. d.items()\n",
    "#### 4. d.popitem()\n",
    "#### 5. None of the above."
   ]
  },
  {
   "cell_type": "markdown",
   "id": "a32fc1d3",
   "metadata": {},
   "source": [
    "### Answer is 2. d.values()"
   ]
  },
  {
   "cell_type": "markdown",
   "id": "5898d768",
   "metadata": {},
   "source": [
    "### [MCQ] Which of the following declarations is not valid for 'dict' type?\n",
    " 1. d = {\"Name\": \"Tom\" }\n",
    " 2. d = { (1,3,4): 4.5 }\n",
    " 3. d = { [\"First\", \"Last\"]: (1,3) }\n",
    " 4. d = { 1: 0.4 }\n",
    " 5. None of the above"
   ]
  },
  {
   "cell_type": "markdown",
   "id": "15ab2c08",
   "metadata": {},
   "source": [
    "### 3. d = {[\"First\",\"Last\"] : (1,3)} \n",
    "#### List is a mutable object so we can't specify it as key to the dictionary"
   ]
  },
  {
   "cell_type": "markdown",
   "id": "6b21c60a",
   "metadata": {},
   "source": [
    "### Write a function reverseLookup(dictionary, value) that takes in a dictionary and a value as arguments and returns a sorted list of all keys that contains the value. The function will return an empty list if no match is found.\n",
    "\n",
    "#### In - reverseLookup({'a':1, 'b':2, 'c':2}, 1)\n",
    "#### Out - ['a']\n",
    "#### In - reverseLookup({'a':1, 'b':2, 'c':2}, 2)\n",
    "#### Out - ['b', 'c']\n",
    "#### In - reverseLookup({'a':1, 'b':2, 'c':2}, 3)\n",
    "#### Out - []"
   ]
  },
  {
   "cell_type": "code",
   "execution_count": 36,
   "id": "076882cb",
   "metadata": {},
   "outputs": [
    {
     "name": "stdout",
     "output_type": "stream",
     "text": [
      "['a']\n",
      "['b', 'c']\n",
      "[]\n"
     ]
    }
   ],
   "source": [
    "def reverseLookup(inputDictionary={}, inputValue = 0):\n",
    "    out_list = []\n",
    "    for key,val in inputDictionary.items():\n",
    "        if val == inputValue:\n",
    "            out_list.append(key)\n",
    "    return out_list\n",
    "print(reverseLookup({\n",
    "    'a':1,\n",
    "    'b':2,\n",
    "    'c':2,\n",
    "},1))\n",
    "print(reverseLookup({\n",
    "    'a':1,\n",
    "    'b':2,\n",
    "    'c':2,\n",
    "},2))\n",
    "print(reverseLookup({\n",
    "    'a':1,\n",
    "    'b':2,\n",
    "    'c':2,\n",
    "},3))"
   ]
  },
  {
   "cell_type": "markdown",
   "id": "0fdde532",
   "metadata": {},
   "source": [
    "### Write a function invertDictionary(d) that takes in a dictionary as argument and return a dictionary that inverts the keys and the values of the original dictionary.\n",
    "#### In - invertDictionary({'a':1, 'b':2, 'c':3, 'd':2})\n",
    "#### Out - {1: ['a'], 2: ['b', 'd'], 3: ['c']}\n",
    "#### In - invertDictionary({'a':3, 'b':3, 'c':3})\n",
    "#### Out - {3: ['a', 'c', 'b']}\n",
    "#### In - invertDictionary({'a':2, 'b':1, 'c':2, 'd':1})\n",
    "#### Out - {1: ['b', 'd'], 2: ['a', 'c']}\n"
   ]
  },
  {
   "cell_type": "code",
   "execution_count": 1,
   "id": "9b332403",
   "metadata": {},
   "outputs": [
    {
     "name": "stdout",
     "output_type": "stream",
     "text": [
      "{1: ['a'], 2: ['b', 'd'], 3: ['c']}\n",
      "{3: ['a', 'b', 'c']}\n",
      "{2: ['a', 'c'], 1: ['b', 'd']}\n"
     ]
    }
   ],
   "source": [
    "def invertDictionary(inputDictionary):\n",
    "    output_dict = {}\n",
    "    output_list = []\n",
    "    value_list = []\n",
    "    for key, value in inputDictionary.items():\n",
    "        if value not in value_list:\n",
    "            value_list.append(value)\n",
    "            output_list.append(key)\n",
    "            output_dict[value] = output_list\n",
    "        else:\n",
    "             output_dict[value].append(key)\n",
    "        output_list = []\n",
    "    return output_dict\n",
    "print(invertDictionary({'a':1,'b':2,'c':3,'d':2}))\n",
    "print(invertDictionary({'a':3,'b':3,'c':3}))\n",
    "print(invertDictionary({'a':2,'b':1,'c':2,'d':1}))"
   ]
  },
  {
   "cell_type": "markdown",
   "id": "d419c41f",
   "metadata": {},
   "source": [
    "### Write a function that converts a sparse vector into a dictionary as described above.\n",
    "#### In - convertVector([1, 0, 0, 2, 0, 0, 0, 3, 0, 0, 0, 0, 4])\n",
    "#### Out - {0: 1, 3: 2, 7: 3, 12: 4}\n",
    "#### In - convertVector([1, 0, 1 , 0, 2, 0, 1, 0, 0, 1, 0])\n",
    "#### Out - {0: 1, 2: 1, 4: 2, 6: 1, 9: 1}\n",
    "#### In - convertVector([0, 0, 0, 0, 0])\n",
    "#### Out - {}"
   ]
  },
  {
   "cell_type": "code",
   "execution_count": 4,
   "id": "f0498908",
   "metadata": {},
   "outputs": [
    {
     "name": "stdout",
     "output_type": "stream",
     "text": [
      "{0: 1, 3: 2, 7: 3, 12: 4}\n",
      "{0: 1, 2: 1, 4: 2, 6: 1, 9: 1}\n",
      "{}\n"
     ]
    }
   ],
   "source": [
    "def convertVectorToDictionary(inputVectorList):\n",
    "    out_dict = {}\n",
    "    for i in range(len(inputVectorList)):\n",
    "        if inputVectorList[i] != 0:\n",
    "            out_dict[i] = inputVectorList[i]\n",
    "    return out_dict\n",
    "print(convertVectorToDictionary([1, 0, 0, 2, 0, 0, 0, 3, 0, 0, 0, 0, 4]))\n",
    "print(convertVectorToDictionary([1,0,1,0,2,0,1,0,0,1,0]))\n",
    "print(convertVectorToDictionary([0, 0, 0, 0, 0]))"
   ]
  },
  {
   "cell_type": "markdown",
   "id": "668fbaef",
   "metadata": {},
   "source": [
    "###  Write a function that converts a dictionary back to its sparse vector representation.\n",
    "#### In - convertDictionary({0: 1, 3: 2, 7: 3, 12: 4})\n",
    "#### Out - [1, 0, 0, 2, 0, 0, 0, 3, 0, 0, 0, 0, 4]\n",
    "#### In - convertDictionary({0: 1, 2: 1, 4: 2, 6: 1, 9: 1})\n",
    "#### Out - [1, 0, 1, 0, 2, 0, 1, 0, 0, 1]\n",
    "#### In - convertDictionary({})\n",
    "#### Out - []"
   ]
  },
  {
   "cell_type": "code",
   "execution_count": 33,
   "id": "c5f79f44",
   "metadata": {},
   "outputs": [
    {
     "name": "stdout",
     "output_type": "stream",
     "text": [
      "[1, 0, 0, 2, 0, 0, 0, 3, 0, 0, 0, 0, 4]\n",
      "[1, 0, 1, 0, 2, 0, 1, 0, 0, 1]\n"
     ]
    }
   ],
   "source": [
    "def convertDictionaryToSparseVector(inputDictionary):  \n",
    "    out_list = []\n",
    "    index_list = list(inputDictionary.keys())\n",
    "    max_size = max(index_list) +1\n",
    "    for i in range(0,max_size):\n",
    "        if i in list(inputDictionary.keys()):\n",
    "            out_list.insert(i,inputDictionary.get(i))\n",
    "        else:\n",
    "            out_list.insert(i,0)\n",
    "    return out_list\n",
    "print(convertDictionaryToSparseVector({0: 1, 3: 2, 7: 3, 12: 4}))\n",
    "print(convertDictionaryToSparseVector({0: 1, 2: 1, 4: 2, 6: 1, 9: 1}))"
   ]
  },
  {
   "cell_type": "markdown",
   "id": "65161d95",
   "metadata": {},
   "source": [
    "### Given a Python dictionary, Change Brad’s salary to 8500\n",
    "#### sampleDict = {\n",
    "####     'emp1': {'name': 'Jhon', 'salary': 7500},\n",
    "####      'emp2': {'name': 'Emma', 'salary': 8000},\n",
    "####      'emp3': {'name': 'Brad', 'salary': 6500}\n",
    "#### }\n",
    "\n",
    "### Expected Output\n",
    "#### sampleDict = {\n",
    "####      'emp1': {'name': 'Jhon', 'salary': 7500},\n",
    "####      'emp2': {'name': 'Emma', 'salary': 8000},\n",
    "####      'emp3': {'name': 'Brad', 'salary': 8500}\n",
    "#### }\n"
   ]
  },
  {
   "cell_type": "code",
   "execution_count": 42,
   "id": "cc500996",
   "metadata": {},
   "outputs": [
    {
     "name": "stdout",
     "output_type": "stream",
     "text": [
      "{'emp1': {'name': 'Jhon', 'salary': 7500}, 'emp2': {'name': 'Emma', 'salary': 8000}, 'emp3': {'name': 'Brad', 'salary': 8500}}\n"
     ]
    }
   ],
   "source": [
    "sampleDict = {\n",
    "     'emp1': {'name': 'Jhon', 'salary': 7500},\n",
    "     'emp2': {'name': 'Emma', 'salary': 8000},\n",
    "     'emp3': {'name': 'Brad', 'salary': 6500}\n",
    " }\n",
    "sampleDict['emp3']['salary'] = 8500\n",
    "# Using loop\n",
    "for emp in sampleDict:\n",
    "    if sampleDict[emp]['name'] == 'Brad':\n",
    "        sampleDict[emp]['salary'] = 8500\n",
    "print(sampleDict)"
   ]
  },
  {
   "cell_type": "markdown",
   "id": "5513501b",
   "metadata": {},
   "source": [
    "### Get the key corresponding to the minimum value from the following dictionary\n",
    "#### sampleDict = {\n",
    "####   'Physics': 82,\n",
    "####   'Math': 65,\n",
    "####   'history': 75\n",
    "#### }\n",
    "\n",
    "### Expected Output\n",
    "#### Math"
   ]
  },
  {
   "cell_type": "code",
   "execution_count": 47,
   "id": "bce3eb58",
   "metadata": {},
   "outputs": [
    {
     "name": "stdout",
     "output_type": "stream",
     "text": [
      "Math\n"
     ]
    }
   ],
   "source": [
    "sampleDict = {\n",
    "  'Physics': 82,\n",
    "  'Math': 65,\n",
    "  'history': 75\n",
    "}\n",
    "min_value = min(sampleDict.values())\n",
    "for key,value  in sampleDict.items():\n",
    "    if value == min_value:\n",
    "        print(key)"
   ]
  },
  {
   "cell_type": "markdown",
   "id": "6d8d5e4b",
   "metadata": {},
   "source": [
    "### Rename key city to location in the following dictionary\n",
    "#### sampleDict = {\n",
    "####   \"name\": \"Kelly\",\n",
    "####   \"age\":25,\n",
    "####   \"salary\": 8000,\n",
    "####   \"city\": \"New york\"\n",
    "#### }\n",
    "\n",
    "### Expected Output\n",
    "#### {\n",
    "####   \"name\": \"Kelly\",\n",
    "####   \"age\":25,\n",
    "####   \"salary\": 8000,\n",
    "####   \"location\": \"New york\"\n",
    "#### }"
   ]
  },
  {
   "cell_type": "code",
   "execution_count": 51,
   "id": "be3284a9",
   "metadata": {},
   "outputs": [
    {
     "name": "stdout",
     "output_type": "stream",
     "text": [
      "{'name': 'Kelly', 'age': 25, 'salary': 8000, 'location': 'New york'}\n"
     ]
    }
   ],
   "source": [
    "sampleDict = {\n",
    "  \"name\": \"Kelly\",\n",
    "  \"age\":25,\n",
    "  \"salary\": 8000,\n",
    "  \"city\": \"New york\"\n",
    "}\n",
    "for key, value in sampleDict.items():\n",
    "    if key == 'city':\n",
    "        sampleDict.pop(key)\n",
    "        sampleDict.update({'location': value})\n",
    "        break\n",
    "print(sampleDict)"
   ]
  },
  {
   "cell_type": "markdown",
   "id": "a1a435b0",
   "metadata": {},
   "source": [
    "### Check if a value 200 exists in a dictionary\n",
    "#### sampleDict = {'a': 100, 'b': 200, 'c': 300}\n",
    "\n",
    "### Expected Output: True"
   ]
  },
  {
   "cell_type": "code",
   "execution_count": 54,
   "id": "62c5d953",
   "metadata": {},
   "outputs": [
    {
     "name": "stdout",
     "output_type": "stream",
     "text": [
      "True\n"
     ]
    }
   ],
   "source": [
    "sampleDict = {'a': 100, 'b': 200, 'c': 300}\n",
    "isExists = False\n",
    "for key, value in sampleDict.items():\n",
    "    if value == 200:\n",
    "        isExists = True\n",
    "        break\n",
    "print(isExists)"
   ]
  },
  {
   "cell_type": "markdown",
   "id": "4b87ac9b",
   "metadata": {},
   "source": [
    "### Delete set of keys from Python Dictionary\n",
    "#### sampleDict = {\n",
    "####   \"name\": \"Kelly\",\n",
    "####   \"age\":25,\n",
    "####   \"salary\": 8000,\n",
    "####   \"city\": \"New york\"\n",
    "  \n",
    "#### }\n",
    "#### keysToRemove = [\"name\", \"salary\"]\n",
    "\n",
    "### Expected Output:\n",
    "#### {'city': 'New york', 'age': 25}"
   ]
  },
  {
   "cell_type": "code",
   "execution_count": 58,
   "id": "4618eefd",
   "metadata": {},
   "outputs": [
    {
     "name": "stdout",
     "output_type": "stream",
     "text": [
      "{'age': 25, 'city': 'New york'}\n"
     ]
    }
   ],
   "source": [
    "sampleDict = {\n",
    "  \"name\": \"Kelly\",\n",
    "  \"age\":25,\n",
    "  \"salary\": 8000,\n",
    "  \"city\": \"New york\"\n",
    "  \n",
    "}\n",
    "keysToRemove = ['name','salary']\n",
    "for key in sampleDict.copy():\n",
    "    if key in keysToRemove:\n",
    "        sampleDict.pop(key)\n",
    "print(sampleDict)"
   ]
  }
 ],
 "metadata": {
  "kernelspec": {
   "display_name": "Python 3 (ipykernel)",
   "language": "python",
   "name": "python3"
  },
  "language_info": {
   "codemirror_mode": {
    "name": "ipython",
    "version": 3
   },
   "file_extension": ".py",
   "mimetype": "text/x-python",
   "name": "python",
   "nbconvert_exporter": "python",
   "pygments_lexer": "ipython3",
   "version": "3.9.7"
  }
 },
 "nbformat": 4,
 "nbformat_minor": 5
}
