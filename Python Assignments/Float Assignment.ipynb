{
 "cells": [
  {
   "cell_type": "markdown",
   "id": "7534a685",
   "metadata": {},
   "source": [
    "### Declare a float value and store it in a variable."
   ]
  },
  {
   "cell_type": "code",
   "execution_count": 1,
   "id": "ae485347",
   "metadata": {},
   "outputs": [],
   "source": [
    "floatVal = 2.5"
   ]
  },
  {
   "cell_type": "markdown",
   "id": "fc3caab2",
   "metadata": {},
   "source": [
    "### Check the type and print the id of the same."
   ]
  },
  {
   "cell_type": "code",
   "execution_count": 2,
   "id": "faeeae1e",
   "metadata": {},
   "outputs": [
    {
     "name": "stdout",
     "output_type": "stream",
     "text": [
      "<class 'float'>\n",
      "1981035228432\n"
     ]
    }
   ],
   "source": [
    "print(type(floatVal)) # type is float\n",
    "print(id(floatVal))"
   ]
  },
  {
   "cell_type": "markdown",
   "id": "a5db361f",
   "metadata": {},
   "source": [
    "### Arithmetic Operations on float"
   ]
  },
  {
   "cell_type": "markdown",
   "id": "f13faa0e",
   "metadata": {},
   "source": [
    "### Take two different float values. Store them in two different variables.\n"
   ]
  },
  {
   "cell_type": "code",
   "execution_count": 3,
   "id": "9434cc92",
   "metadata": {},
   "outputs": [],
   "source": [
    "num1 = 3.14\n",
    "num2 = 2.997"
   ]
  },
  {
   "cell_type": "markdown",
   "id": "1a69e523",
   "metadata": {},
   "source": [
    "### Find sum of both numbers"
   ]
  },
  {
   "cell_type": "code",
   "execution_count": 5,
   "id": "7a8c1ed5",
   "metadata": {},
   "outputs": [
    {
     "name": "stdout",
     "output_type": "stream",
     "text": [
      "6.1370000000000005\n"
     ]
    }
   ],
   "source": [
    "sum = num1+num2\n",
    "print(sum)"
   ]
  },
  {
   "cell_type": "markdown",
   "id": "cb03c9df",
   "metadata": {},
   "source": [
    "### Find difference between them\n"
   ]
  },
  {
   "cell_type": "code",
   "execution_count": 6,
   "id": "19b51303",
   "metadata": {},
   "outputs": [
    {
     "name": "stdout",
     "output_type": "stream",
     "text": [
      "0.14300000000000024\n"
     ]
    }
   ],
   "source": [
    "difference = num1-num2\n",
    "print(difference)"
   ]
  },
  {
   "cell_type": "markdown",
   "id": "037dfb0d",
   "metadata": {},
   "source": [
    "### Find the product of both numbers"
   ]
  },
  {
   "cell_type": "code",
   "execution_count": 7,
   "id": "31048a98",
   "metadata": {},
   "outputs": [
    {
     "name": "stdout",
     "output_type": "stream",
     "text": [
      "9.41058\n"
     ]
    }
   ],
   "source": [
    "product = num1*num2\n",
    "print(product)"
   ]
  },
  {
   "cell_type": "markdown",
   "id": "2627b149",
   "metadata": {},
   "source": [
    "### Find value after dividing first num with second number"
   ]
  },
  {
   "cell_type": "code",
   "execution_count": 10,
   "id": "ee4adeb1",
   "metadata": {},
   "outputs": [
    {
     "name": "stdout",
     "output_type": "stream",
     "text": [
      "1.0477143810477145\n"
     ]
    }
   ],
   "source": [
    "val = num1/num2\n",
    "print(val)"
   ]
  },
  {
   "cell_type": "markdown",
   "id": "fd838b85",
   "metadata": {},
   "source": [
    "### Find the remainder after dividing first number with second number"
   ]
  },
  {
   "cell_type": "code",
   "execution_count": 11,
   "id": "9e540c04",
   "metadata": {},
   "outputs": [
    {
     "name": "stdout",
     "output_type": "stream",
     "text": [
      "0.14300000000000024\n"
     ]
    }
   ],
   "source": [
    "remainder = num1%num2\n",
    "print(remainder)"
   ]
  },
  {
   "cell_type": "markdown",
   "id": "2098fdda",
   "metadata": {},
   "source": [
    "### Find the quotient after dividing first number with second number"
   ]
  },
  {
   "cell_type": "code",
   "execution_count": 12,
   "id": "ae51e684",
   "metadata": {},
   "outputs": [
    {
     "name": "stdout",
     "output_type": "stream",
     "text": [
      "1.0477143810477145\n"
     ]
    }
   ],
   "source": [
    "quotient = num1/num2\n",
    "print(quotient)"
   ]
  },
  {
   "cell_type": "markdown",
   "id": "52297caa",
   "metadata": {},
   "source": [
    "### Find the result of the first num to the power of the second number."
   ]
  },
  {
   "cell_type": "code",
   "execution_count": 14,
   "id": "74738e91",
   "metadata": {},
   "outputs": [
    {
     "name": "stdout",
     "output_type": "stream",
     "text": [
      "30.853053715265204\n"
     ]
    }
   ],
   "source": [
    "result = num1**num2\n",
    "print(result)"
   ]
  },
  {
   "cell_type": "markdown",
   "id": "6a7aed08",
   "metadata": {},
   "source": [
    "### Comparison Operators on float"
   ]
  },
  {
   "cell_type": "markdown",
   "id": "18da7979",
   "metadata": {},
   "source": [
    "### Take two different float values.Store them in two different variables."
   ]
  },
  {
   "cell_type": "code",
   "execution_count": 15,
   "id": "58a819c2",
   "metadata": {},
   "outputs": [],
   "source": [
    "value1 = 66.43\n",
    "value2 = 89.46"
   ]
  },
  {
   "cell_type": "markdown",
   "id": "24549a27",
   "metadata": {},
   "source": [
    "### Greater than, '>'"
   ]
  },
  {
   "cell_type": "code",
   "execution_count": 16,
   "id": "831e1618",
   "metadata": {},
   "outputs": [
    {
     "name": "stdout",
     "output_type": "stream",
     "text": [
      "False\n"
     ]
    }
   ],
   "source": [
    "print(value1>value2)"
   ]
  },
  {
   "cell_type": "markdown",
   "id": "6b714ac1",
   "metadata": {},
   "source": [
    "###  Smaller than, '<'\n"
   ]
  },
  {
   "cell_type": "code",
   "execution_count": 18,
   "id": "4503eedf",
   "metadata": {},
   "outputs": [
    {
     "name": "stdout",
     "output_type": "stream",
     "text": [
      "True\n"
     ]
    }
   ],
   "source": [
    "print(value1<value2)"
   ]
  },
  {
   "cell_type": "markdown",
   "id": "0d81df74",
   "metadata": {},
   "source": [
    "###  Greater than or equal to, '>='"
   ]
  },
  {
   "cell_type": "code",
   "execution_count": 19,
   "id": "33e35a14",
   "metadata": {},
   "outputs": [
    {
     "name": "stdout",
     "output_type": "stream",
     "text": [
      "False\n"
     ]
    }
   ],
   "source": [
    "print(value1>=value2)"
   ]
  },
  {
   "cell_type": "markdown",
   "id": "c40f58f8",
   "metadata": {},
   "source": [
    "###  Less than or equal to, '<='"
   ]
  },
  {
   "cell_type": "code",
   "execution_count": 20,
   "id": "2740b8ed",
   "metadata": {},
   "outputs": [
    {
     "name": "stdout",
     "output_type": "stream",
     "text": [
      "True\n"
     ]
    }
   ],
   "source": [
    "print(value1<=value2)"
   ]
  },
  {
   "cell_type": "markdown",
   "id": "26b7bcc6",
   "metadata": {},
   "source": [
    "### Take two different float values. Store them in two different variables."
   ]
  },
  {
   "cell_type": "code",
   "execution_count": 21,
   "id": "87b3a44d",
   "metadata": {},
   "outputs": [],
   "source": [
    "num3 = 78.98234\n",
    "num4 = 34.12982"
   ]
  },
  {
   "cell_type": "markdown",
   "id": "6ce456a7",
   "metadata": {},
   "source": [
    "### Equate them using equality operators (==, !=)"
   ]
  },
  {
   "cell_type": "code",
   "execution_count": 23,
   "id": "4131ad51",
   "metadata": {},
   "outputs": [
    {
     "name": "stdout",
     "output_type": "stream",
     "text": [
      "False\n",
      "True\n"
     ]
    }
   ],
   "source": [
    "print(num3 == num4) \n",
    "print(num3 != num4)"
   ]
  },
  {
   "cell_type": "markdown",
   "id": "68c395c7",
   "metadata": {},
   "source": [
    "### Logical operators"
   ]
  },
  {
   "cell_type": "code",
   "execution_count": 24,
   "id": "433196f0",
   "metadata": {},
   "outputs": [
    {
     "name": "stdout",
     "output_type": "stream",
     "text": [
      "20.3\n"
     ]
    }
   ],
   "source": [
    "print(10.20 and 20.30)"
   ]
  },
  {
   "cell_type": "code",
   "execution_count": 25,
   "id": "635d8acf",
   "metadata": {},
   "outputs": [
    {
     "name": "stdout",
     "output_type": "stream",
     "text": [
      "0.0\n"
     ]
    }
   ],
   "source": [
    "print(0.0 and 20.30) "
   ]
  },
  {
   "cell_type": "code",
   "execution_count": 26,
   "id": "7075d0e3",
   "metadata": {},
   "outputs": [
    {
     "name": "stdout",
     "output_type": "stream",
     "text": [
      "0.0\n"
     ]
    }
   ],
   "source": [
    "print(20.30 and 0.0) "
   ]
  },
  {
   "cell_type": "code",
   "execution_count": 27,
   "id": "5c24d86a",
   "metadata": {},
   "outputs": [
    {
     "name": "stdout",
     "output_type": "stream",
     "text": [
      "0.0\n"
     ]
    }
   ],
   "source": [
    "print(0.0 and 0.0) "
   ]
  },
  {
   "cell_type": "code",
   "execution_count": 28,
   "id": "85080dda",
   "metadata": {},
   "outputs": [
    {
     "name": "stdout",
     "output_type": "stream",
     "text": [
      "10.2\n"
     ]
    }
   ],
   "source": [
    "print(10.20 or 20.30) "
   ]
  },
  {
   "cell_type": "code",
   "execution_count": 29,
   "id": "04c31fe4",
   "metadata": {},
   "outputs": [
    {
     "name": "stdout",
     "output_type": "stream",
     "text": [
      "20.3\n"
     ]
    }
   ],
   "source": [
    "print(0.0 or 20.30)"
   ]
  },
  {
   "cell_type": "code",
   "execution_count": 30,
   "id": "03f2794d",
   "metadata": {},
   "outputs": [
    {
     "name": "stdout",
     "output_type": "stream",
     "text": [
      "20.3\n"
     ]
    }
   ],
   "source": [
    "print(20.30 or 0.0)"
   ]
  },
  {
   "cell_type": "code",
   "execution_count": 31,
   "id": "9156164a",
   "metadata": {},
   "outputs": [
    {
     "name": "stdout",
     "output_type": "stream",
     "text": [
      "0.0\n"
     ]
    }
   ],
   "source": [
    "print(0.0 or 0.0) "
   ]
  },
  {
   "cell_type": "code",
   "execution_count": 32,
   "id": "37524f87",
   "metadata": {},
   "outputs": [
    {
     "name": "stdout",
     "output_type": "stream",
     "text": [
      "False\n"
     ]
    }
   ],
   "source": [
    "print(not 10.20) "
   ]
  },
  {
   "cell_type": "code",
   "execution_count": 33,
   "id": "fa954f40",
   "metadata": {},
   "outputs": [
    {
     "name": "stdout",
     "output_type": "stream",
     "text": [
      "True\n"
     ]
    }
   ],
   "source": [
    "print(not 0.0) "
   ]
  },
  {
   "cell_type": "markdown",
   "id": "36d52578",
   "metadata": {},
   "source": [
    "### What is the output of expression inside print statement. Cross check before running the program"
   ]
  },
  {
   "cell_type": "code",
   "execution_count": 41,
   "id": "ee5e4c69",
   "metadata": {},
   "outputs": [],
   "source": [
    "a = 10.20\n",
    "b= 10.20"
   ]
  },
  {
   "cell_type": "code",
   "execution_count": 42,
   "id": "85474953",
   "metadata": {},
   "outputs": [
    {
     "name": "stdout",
     "output_type": "stream",
     "text": [
      "False\n"
     ]
    }
   ],
   "source": [
    "print(a is b )"
   ]
  },
  {
   "cell_type": "code",
   "execution_count": 43,
   "id": "c0a0ba68",
   "metadata": {},
   "outputs": [
    {
     "name": "stdout",
     "output_type": "stream",
     "text": [
      "True\n"
     ]
    }
   ],
   "source": [
    "print(a is not b)"
   ]
  },
  {
   "cell_type": "markdown",
   "id": "77fe3c10",
   "metadata": {},
   "source": [
    "### Why the Id of float values are different when the same value is assigned to two different variables\n",
    "### ex: a = 10.5 b=10.5. but id will be same if I assign the variable having float i.e. a=c then both a and c's Id are same\n"
   ]
  },
  {
   "cell_type": "code",
   "execution_count": 47,
   "id": "cd621afc",
   "metadata": {},
   "outputs": [
    {
     "name": "stdout",
     "output_type": "stream",
     "text": [
      "1981035995984 1981035998096\n",
      "1981035998096\n"
     ]
    },
    {
     "data": {
      "text/plain": [
       "'\"In python if two variables which has same value then a new instance of float object will be \\ncreated so the \\'is\\' condition will also results false '"
      ]
     },
     "execution_count": 47,
     "metadata": {},
     "output_type": "execute_result"
    }
   ],
   "source": [
    "print(id(a), id(b))\n",
    "c=b\n",
    "print(id(c))\n",
    "\"\"\"\"In python if two variables which has same value then a new instance of float object will be \n",
    "created so the 'is' condition will also results false \"\"\""
   ]
  },
  {
   "cell_type": "markdown",
   "id": "5c0fc997",
   "metadata": {},
   "source": [
    "### Membership operation"
   ]
  },
  {
   "cell_type": "code",
   "execution_count": 48,
   "id": "8ba2a1f6",
   "metadata": {},
   "outputs": [
    {
     "name": "stdout",
     "output_type": "stream",
     "text": [
      "True\n"
     ]
    }
   ],
   "source": [
    "print('2.7' in 'Python2.7.8') "
   ]
  },
  {
   "cell_type": "code",
   "execution_count": 49,
   "id": "6057752f",
   "metadata": {},
   "outputs": [
    {
     "name": "stdout",
     "output_type": "stream",
     "text": [
      "True\n"
     ]
    }
   ],
   "source": [
    "print(10.20 in [10,10.20,10+20j,'Python'])"
   ]
  },
  {
   "cell_type": "code",
   "execution_count": 50,
   "id": "904b73e2",
   "metadata": {},
   "outputs": [
    {
     "name": "stdout",
     "output_type": "stream",
     "text": [
      "True\n"
     ]
    }
   ],
   "source": [
    "print(10.20 in (10,10.20,10+20j,'Python'))"
   ]
  },
  {
   "cell_type": "code",
   "execution_count": 51,
   "id": "0bac34f7",
   "metadata": {},
   "outputs": [
    {
     "name": "stdout",
     "output_type": "stream",
     "text": [
      "True\n"
     ]
    }
   ],
   "source": [
    "print(20.30 in {1,20.30,30+40j}) "
   ]
  },
  {
   "cell_type": "code",
   "execution_count": 52,
   "id": "f58ccd29",
   "metadata": {},
   "outputs": [
    {
     "name": "stdout",
     "output_type": "stream",
     "text": [
      "True\n"
     ]
    }
   ],
   "source": [
    "print(2.3 in {1:100, 2.3:200, 30+40j:300}) "
   ]
  },
  {
   "cell_type": "code",
   "execution_count": 54,
   "id": "e0fc8d91",
   "metadata": {},
   "outputs": [
    {
     "name": "stdout",
     "output_type": "stream",
     "text": [
      "True\n"
     ]
    }
   ],
   "source": [
    "print(10 in range(20)) "
   ]
  }
 ],
 "metadata": {
  "kernelspec": {
   "display_name": "Python 3 (ipykernel)",
   "language": "python",
   "name": "python3"
  },
  "language_info": {
   "codemirror_mode": {
    "name": "ipython",
    "version": 3
   },
   "file_extension": ".py",
   "mimetype": "text/x-python",
   "name": "python",
   "nbconvert_exporter": "python",
   "pygments_lexer": "ipython3",
   "version": "3.9.7"
  }
 },
 "nbformat": 4,
 "nbformat_minor": 5
}
