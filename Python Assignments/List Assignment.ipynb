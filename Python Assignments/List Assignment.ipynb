{
 "cells": [
  {
   "cell_type": "markdown",
   "id": "aec2dfe2",
   "metadata": {},
   "source": [
    "### Write a Python program to find the sum of all elements in a list using loop.\n",
    "#### Input:- [10,20,30,40]\n",
    "#### Output:- 100"
   ]
  },
  {
   "cell_type": "code",
   "execution_count": 1,
   "id": "4a13346e",
   "metadata": {},
   "outputs": [
    {
     "name": "stdout",
     "output_type": "stream",
     "text": [
      "100\n"
     ]
    }
   ],
   "source": [
    "inputList = [10,20,30,40]\n",
    "result = 0;\n",
    "for value in inputList:\n",
    "    result = result+value\n",
    "print(result)"
   ]
  },
  {
   "cell_type": "markdown",
   "id": "ea7f76ac",
   "metadata": {},
   "source": [
    "### Write a Python program to find the multiplication of all elements in a list using loop.\n",
    "#### Input:- [10,20,30,40]\n",
    "#### Output:- 240000"
   ]
  },
  {
   "cell_type": "code",
   "execution_count": 3,
   "id": "a85344ce",
   "metadata": {},
   "outputs": [
    {
     "name": "stdout",
     "output_type": "stream",
     "text": [
      "240000\n"
     ]
    }
   ],
   "source": [
    "inputList = [10,20,30,40]\n",
    "result = 1\n",
    "for value in inputList:\n",
    "    result = result*value\n",
    "print(result)"
   ]
  },
  {
   "cell_type": "markdown",
   "id": "eef1e635",
   "metadata": {},
   "source": [
    "### Write a Python program to find the largest number from a list using loop.\n",
    "#### Input:- [10,100,2321, 1,200,2]\n",
    "#### Output:- 2321\n"
   ]
  },
  {
   "cell_type": "code",
   "execution_count": 6,
   "id": "1de893b6",
   "metadata": {},
   "outputs": [
    {
     "name": "stdout",
     "output_type": "stream",
     "text": [
      "2321\n"
     ]
    }
   ],
   "source": [
    "inputList = [10,100,2321,1,200,2]\n",
    "max_number= 0\n",
    "for val in inputList:\n",
    "    if(val>max_number):\n",
    "        max_number = val\n",
    "print(max_number)"
   ]
  },
  {
   "cell_type": "markdown",
   "id": "5fb9190f",
   "metadata": {},
   "source": [
    "### #Write a Python program to find the smallest number from a list using loop.\n",
    "#### Input:- [10,100,2321, 1,200,2]\n",
    "#### Output:- 1"
   ]
  },
  {
   "cell_type": "code",
   "execution_count": 19,
   "id": "9fbfba14",
   "metadata": {},
   "outputs": [
    {
     "name": "stdout",
     "output_type": "stream",
     "text": [
      "1\n"
     ]
    }
   ],
   "source": [
    "inputList = [10,100,2321,1,200,2]\n",
    "min_val = 0\n",
    "count = 1\n",
    "for val in inputList:\n",
    "    if count == 1:\n",
    "        min_val = val\n",
    "        count = count+1\n",
    "        continue\n",
    "    if min_val<val:\n",
    "        count = count +1       \n",
    "    else:\n",
    "        min_val = val\n",
    "print(min_val)"
   ]
  },
  {
   "cell_type": "markdown",
   "id": "731d9fde",
   "metadata": {},
   "source": [
    "### Write a Python program to count the number of strings having length more than 2 and are palindrome in a list using loop.\n",
    "#### Input:- ['ab', 'abc', 'aba', 'xyz', '1991']\n",
    "#### Output:- 2"
   ]
  },
  {
   "cell_type": "code",
   "execution_count": 24,
   "id": "c6156a85",
   "metadata": {},
   "outputs": [
    {
     "name": "stdout",
     "output_type": "stream",
     "text": [
      "2\n"
     ]
    }
   ],
   "source": [
    "inputList = ['ab','abc','aba','xyz','1991']\n",
    "counter = 0\n",
    "for val in inputList:\n",
    "    if (len(val)>2) and (val==val[::-1]):b\n",
    "        counter = counter + 1\n",
    "print(counter)"
   ]
  },
  {
   "cell_type": "markdown",
   "id": "d214eb9d",
   "metadata": {},
   "source": [
    "### Write a Python program to sort a list in ascending order using loop.\n",
    "#### Input:- [100,10,1,298,65,483,49876,2,80,9,9213]\n",
    "#### Output:- [1,2,9,10,65,80,100,298,483,9213,49876]"
   ]
  },
  {
   "cell_type": "code",
   "execution_count": 4,
   "id": "a8afaaac",
   "metadata": {},
   "outputs": [
    {
     "name": "stdout",
     "output_type": "stream",
     "text": [
      "[1, 2, 9, 10, 65, 80, 100, 298, 483, 9213, 49876]\n"
     ]
    }
   ],
   "source": [
    "inputList = [100,10,1,298,65,483,49876,2,80,9,9213]\n",
    "for i in range(len(inputList)):\n",
    "    for j in range(i+1,len(inputList)):\n",
    "        if(inputList[i] > inputList[j]):\n",
    "            inputList[i],inputList[j] = inputList[j],inputList[i]\n",
    "print(inputList)"
   ]
  },
  {
   "cell_type": "markdown",
   "id": "b8372c37",
   "metadata": {},
   "source": [
    "### Write a Python program to get a sorted list in increasing order of last element in each tuple in a given list using loop.\n",
    "#### Input:- [(5,4),(9,1),(2,3),(5,9),(7,6),(5,5)]\n",
    "#### output:- [(9,1),(2,3),(5,4),(5,5),(7,6),(5,9)]"
   ]
  },
  {
   "cell_type": "code",
   "execution_count": 11,
   "id": "5f8165bb",
   "metadata": {},
   "outputs": [
    {
     "name": "stdout",
     "output_type": "stream",
     "text": [
      "[(9, 1), (2, 3), (5, 4), (5, 5), (7, 6), (5, 9)]\n"
     ]
    }
   ],
   "source": [
    "inputList = [(5,4),(9,1),(2,3),(5,9),(7,6),(5,5)]\n",
    "for i in range(len(inputList)):\n",
    "    for j in range(i+1,len(inputList)):\n",
    "        if(inputList[i][1]>inputList[j][1]):\n",
    "            inputList[i],inputList[j] = inputList[j],inputList[i]\n",
    "print(inputList)"
   ]
  },
  {
   "cell_type": "markdown",
   "id": "f355a295",
   "metadata": {},
   "source": [
    "### Write a Python program to remove fuplicate element from a list using loop.\n",
    "#### Input:- [10,1,11,1,29,876,768,10,11,1,92,29,876]\n",
    "#### Output:- [10,1,11,29,876,768,92]"
   ]
  },
  {
   "cell_type": "code",
   "execution_count": 27,
   "id": "d994defa",
   "metadata": {},
   "outputs": [
    {
     "name": "stdout",
     "output_type": "stream",
     "text": [
      "[10, 1, 11, 29, 876, 768, 92]\n"
     ]
    }
   ],
   "source": [
    "inputList = [10,1,11,1,29,876,768,10,11,1,92,29,876]\n",
    "output_list = []\n",
    "for val in inputList:\n",
    "    if val not in output_list:\n",
    "        output_list.append(val)\n",
    "print(output_list)"
   ]
  },
  {
   "cell_type": "markdown",
   "id": "dadd4518",
   "metadata": {},
   "source": [
    "### Write a Python program to check a list is empty or not?\n",
    "#### Input:- []\n",
    "#### Output:- List is empty\n",
    "#### Input:- [10,20,30]\n",
    "#### Output:- List is not empty\n"
   ]
  },
  {
   "cell_type": "code",
   "execution_count": 36,
   "id": "e50ed9aa",
   "metadata": {},
   "outputs": [
    {
     "name": "stdout",
     "output_type": "stream",
     "text": [
      "List is not empty..\n"
     ]
    }
   ],
   "source": [
    "inpList1 = []\n",
    "inpList2 = [10,20,30]\n",
    "if len(inpList2) == 0:\n",
    "    print('List is empty..')\n",
    "else:\n",
    "    print('List is not empty..')"
   ]
  },
  {
   "cell_type": "markdown",
   "id": "fc28fd2e",
   "metadata": {},
   "source": [
    "### Write a Python program to copy a list using loop.\n",
    "#### inp_lst = [10,10.20,10+20j, 'Python', [10,20], (10,20)]\n",
    "#### out_lst = [10,10.20,10+20j, 'Python', [10,20], (10,20)]"
   ]
  },
  {
   "cell_type": "code",
   "execution_count": 37,
   "id": "331158a0",
   "metadata": {},
   "outputs": [
    {
     "name": "stdout",
     "output_type": "stream",
     "text": [
      "[10, 10.2, (10+20j), 'Python', [10, 20], (10, 20)]\n"
     ]
    }
   ],
   "source": [
    "input_list = [10,10.20,10+20j, 'Python', [10,20], (10,20)]\n",
    "out_list = []\n",
    "for val in input_list:\n",
    "    out_list.append(val)\n",
    "print(out_list)"
   ]
  },
  {
   "cell_type": "markdown",
   "id": "5cdf235e",
   "metadata": {},
   "source": [
    "### Write a Python program to find the list of words that are longer than or equal to 4 from a given string.\n",
    "#### Input:- 'How much wood would a woodchuck chuck if a woodchuck could chuck wood'\n",
    "#### Output:- ['much', 'wood', 'would', 'woodchuck', 'chuck', 'could']\n",
    "#### **Note**:- Duplicate should be avoided.\n"
   ]
  },
  {
   "cell_type": "code",
   "execution_count": 65,
   "id": "22367ae1",
   "metadata": {},
   "outputs": [
    {
     "name": "stdout",
     "output_type": "stream",
     "text": [
      "['much', 'wood', 'would', 'woodchuck', 'chuck', 'could']\n"
     ]
    }
   ],
   "source": [
    "inputString = 'How much wood would a woodchuck chuck if a woodchuck could chuck wood'\n",
    "input_list = inputString.split(' ')\n",
    "output_list = []\n",
    "# Remove words if length is less than 4..\n",
    "for val in input_list:\n",
    "    if len(val) >= 4 and (val not in output_list):\n",
    "        output_list.append(val)\n",
    "print(output_list)"
   ]
  },
  {
   "cell_type": "markdown",
   "id": "d2902f95",
   "metadata": {},
   "source": [
    "### Write a Python program which takes two list as input and returns True if they have at least 3 common elements.\n",
    "#### inp_lst1 = [10,20,'Python', 10.20, 10+20j, [10,20,30], (10,20,30)]\n",
    "#### inp_lst2 = [(10,20,30),1,20+3j,100.2, 10+20j, [10,20,30],'Python']\n",
    "#### Output:- True\n"
   ]
  },
  {
   "cell_type": "code",
   "execution_count": 70,
   "id": "363f66c3",
   "metadata": {},
   "outputs": [
    {
     "name": "stdout",
     "output_type": "stream",
     "text": [
      "True\n"
     ]
    }
   ],
   "source": [
    "input_list1 = [10,20,'Python', 10.20, 10+20j, [10,20,30], (10,20,30)]\n",
    "input_list2 = [(10,20,30),1,20+3j,100.2, 10+20j, [10,20,30],'Python']\n",
    "numberOfCommonElements = 0\n",
    "hasCommonElements = False\n",
    "for i in range(len(input_list1)):\n",
    "    if input_list1[i] in input_list2:\n",
    "        numberOfCommonElements +=1\n",
    "if numberOfCommonElements >= 3:\n",
    "    hasCommonElements = True\n",
    "print(hasCommonElements)"
   ]
  },
  {
   "cell_type": "markdown",
   "id": "8d8787e0",
   "metadata": {},
   "source": [
    "### Write a Python program to create a 4X4 2D matrix with below elements using loop and list comprehension both.\n",
    "#### Output:- [[0,0,0,0],[0,1,2,3],[0,2,4,6],[0,3,6,9]]"
   ]
  },
  {
   "cell_type": "code",
   "execution_count": 76,
   "id": "0e568086",
   "metadata": {},
   "outputs": [
    {
     "name": "stdout",
     "output_type": "stream",
     "text": [
      "[[0, 0, 0, 0], [0, 1, 2, 3], [0, 2, 4, 6], [0, 3, 6, 9]]\n"
     ]
    }
   ],
   "source": [
    "lengthOfInnerList = 4\n",
    "lengthOfOuterList = 4\n",
    "outerList = []\n",
    "innerList = []\n",
    "for i in range(0,lengthOfOuterList):\n",
    "    for j in range(0, lengthOfInnerList):\n",
    "        innerList.append(i*j)\n",
    "    outerList.append(innerList)\n",
    "    innerList = []\n",
    "print(outerList)"
   ]
  },
  {
   "cell_type": "markdown",
   "id": "ea18ca05",
   "metadata": {},
   "source": [
    "### Write a Python program to create a 3X4X6 3D matrix wiith below elements using loop\n",
    "#### Output:- \n",
    " [\n",
    "     [[0,0,0,0,0,0],[0,0,0,0,0,0],[0,0,0,0,0,0],[0,0,0,0,0,0]],\n",
    "     [[0,0,0,0,0,0],[1,1,1,1,1,1],[2,2,2,2,2,2],[3,3,3,3,3,3]],\n",
    "     [[0,0,0,0,0,0],[2,2,2,2,2,2],[4,4,4,4,4,4],[6,6,6,6,6,6]] ]\n"
   ]
  },
  {
   "cell_type": "code",
   "execution_count": 83,
   "id": "78ac9d8c",
   "metadata": {},
   "outputs": [
    {
     "name": "stdout",
     "output_type": "stream",
     "text": [
      "[[[0, 0, 0, 0, 0, 0], [0, 0, 0, 0, 0, 0], [0, 0, 0, 0, 0, 0], [0, 0, 0, 0, 0, 0]], [[0, 0, 0, 0, 0, 0], [1, 1, 1, 1, 1, 1], [2, 2, 2, 2, 2, 2], [3, 3, 3, 3, 3, 3]], [[0, 0, 0, 0, 0, 0], [2, 2, 2, 2, 2, 2], [4, 4, 4, 4, 4, 4], [6, 6, 6, 6, 6, 6]]]\n"
     ]
    }
   ],
   "source": [
    "xList = []\n",
    "yList = []\n",
    "zList = []\n",
    "for i in range(0,3):\n",
    "    for j in range(0,4):\n",
    "        for k in range(0,6):\n",
    "            zList.append(i*j)\n",
    "        yList.append(zList)\n",
    "        zList = []\n",
    "    xList.append(yList)\n",
    "    yList = []\n",
    "print(xList)"
   ]
  },
  {
   "cell_type": "markdown",
   "id": "d5ff7021",
   "metadata": {},
   "source": [
    "### Write a Python program which takes a list of numbers as input and prints a new list after removing even numbers from it.\n",
    "#### Input:- [10,21,22,98,87,45,33,1,2,100]\n",
    "#### Output:- [21,87,45,33,1]\n"
   ]
  },
  {
   "cell_type": "code",
   "execution_count": 84,
   "id": "ac3e568a",
   "metadata": {},
   "outputs": [
    {
     "name": "stdout",
     "output_type": "stream",
     "text": [
      "[21, 87, 45, 33, 1]\n"
     ]
    }
   ],
   "source": [
    "inputList = [10,21,22,98,87,45,33,1,2,100]\n",
    "output_list = []\n",
    "for val in inputList:\n",
    "    if val%2 != 0:\n",
    "        output_list.append(val)\n",
    "print(output_list)"
   ]
  },
  {
   "cell_type": "markdown",
   "id": "ca2f9c4e",
   "metadata": {},
   "source": [
    "### Write a Python program which takes a list from the user and prints it after reshuffling the elements of the list.\n",
    "#### Input:- [10,21,22,98,87,45,33,1,2,100]\n",
    "#### Output:- [1,87,21,10,33,2,100,45,98,22] (It may be any randon list but with same elements)"
   ]
  },
  {
   "cell_type": "code",
   "execution_count": 86,
   "id": "acfa868e",
   "metadata": {},
   "outputs": [
    {
     "name": "stdout",
     "output_type": "stream",
     "text": [
      "[1, 98, 10, 22, 2, 45, 100, 33, 21, 87]\n"
     ]
    }
   ],
   "source": [
    "import random as r\n",
    "inputList = [10,21,22,98,87,45,33,1,2,100]\n",
    "r.shuffle(inputList)\n",
    "print(inputList)"
   ]
  }
 ],
 "metadata": {
  "kernelspec": {
   "display_name": "Python 3 (ipykernel)",
   "language": "python",
   "name": "python3"
  },
  "language_info": {
   "codemirror_mode": {
    "name": "ipython",
    "version": 3
   },
   "file_extension": ".py",
   "mimetype": "text/x-python",
   "name": "python",
   "nbconvert_exporter": "python",
   "pygments_lexer": "ipython3",
   "version": "3.9.7"
  }
 },
 "nbformat": 4,
 "nbformat_minor": 5
}
