{
 "cells": [
  {
   "cell_type": "code",
   "execution_count": 1,
   "id": "9da208fe",
   "metadata": {},
   "outputs": [],
   "source": [
    "import pandas as pd"
   ]
  },
  {
   "cell_type": "markdown",
   "id": "ff6c7b42",
   "metadata": {},
   "source": [
    "## Write a Python program to create and display a one-dimensional array-like object containing an array of data using Pandas module."
   ]
  },
  {
   "cell_type": "code",
   "execution_count": 2,
   "id": "c05fe5fd",
   "metadata": {},
   "outputs": [
    {
     "name": "stdout",
     "output_type": "stream",
     "text": [
      "a    10\n",
      "b    20\n",
      "c    30\n",
      "d    40\n",
      "e    50\n",
      "dtype: int64\n"
     ]
    }
   ],
   "source": [
    "arr1 = pd.Series([10,20,30,40,50],index = ['a','b','c','d','e'])\n",
    "print(arr1)"
   ]
  },
  {
   "cell_type": "markdown",
   "id": "c2b36783",
   "metadata": {},
   "source": [
    "##  Write a Python program to convert a Panda module Series to Python list and its type."
   ]
  },
  {
   "cell_type": "code",
   "execution_count": 8,
   "id": "15970bac",
   "metadata": {},
   "outputs": [
    {
     "name": "stdout",
     "output_type": "stream",
     "text": [
      "[10, 20, 30, 40, 50]\n",
      "<class 'list'>\n"
     ]
    }
   ],
   "source": [
    "arr2 = arr1.to_list()\n",
    "print(arr2)\n",
    "print(type(arr2))"
   ]
  },
  {
   "cell_type": "markdown",
   "id": "371a9efd",
   "metadata": {},
   "source": [
    "## Write a Python program to add, subtract, multiple and divide two Pandas Series."
   ]
  },
  {
   "cell_type": "code",
   "execution_count": 11,
   "id": "b1b68102",
   "metadata": {},
   "outputs": [
    {
     "name": "stdout",
     "output_type": "stream",
     "text": [
      "Addition a    110.0\n",
      "b      NaN\n",
      "c    230.0\n",
      "d    340.0\n",
      "e      NaN\n",
      "m      NaN\n",
      "dtype: float64\n",
      "Subtract a     90.0\n",
      "b      NaN\n",
      "c    170.0\n",
      "d    260.0\n",
      "e      NaN\n",
      "m      NaN\n",
      "dtype: float64\n",
      "Multiplication a     1000.0\n",
      "b        NaN\n",
      "c     6000.0\n",
      "d    12000.0\n",
      "e        NaN\n",
      "m        NaN\n",
      "dtype: float64\n",
      "Division a    10.000000\n",
      "b          NaN\n",
      "c     6.666667\n",
      "d     7.500000\n",
      "e          NaN\n",
      "m          NaN\n",
      "dtype: float64\n"
     ]
    }
   ],
   "source": [
    "arr3 = pd.Series([100,200,300,400],index = ['a','c','d','m'])\n",
    "# add\n",
    "sum_arr = arr1 + arr3\n",
    "print('Addition', sum_arr)\n",
    "# subtract\n",
    "sub_arr = arr3 - arr1\n",
    "print('Subtract',sub_arr)\n",
    "# multiply\n",
    "mul_arr = arr1 * arr3\n",
    "print('Multiplication',mul_arr)\n",
    "# divide\n",
    "div_arr = arr3/arr1\n",
    "print('Division',div_arr)"
   ]
  },
  {
   "cell_type": "markdown",
   "id": "1587d9f2",
   "metadata": {},
   "source": [
    "## Write a Python program to compare the elements of the two Pandas Series."
   ]
  },
  {
   "cell_type": "code",
   "execution_count": 18,
   "id": "47a30c0c",
   "metadata": {},
   "outputs": [
    {
     "name": "stdout",
     "output_type": "stream",
     "text": [
      "Comparing the elements...\n",
      "0    False\n",
      "1     True\n",
      "2     True\n",
      "3    False\n",
      "4    False\n",
      "dtype: bool\n"
     ]
    }
   ],
   "source": [
    "arr1 = pd.Series([19,20,30,91,42])\n",
    "arr2 = pd.Series([10,20,30,40,53])\n",
    "print('Comparing the elements...')\n",
    "print(arr1 == arr2)"
   ]
  },
  {
   "cell_type": "markdown",
   "id": "1cc01c52",
   "metadata": {},
   "source": [
    "## Write a Python program to display the following data column wise."
   ]
  },
  {
   "cell_type": "code",
   "execution_count": 21,
   "id": "c7ba1b7d",
   "metadata": {},
   "outputs": [
    {
     "name": "stdout",
     "output_type": "stream",
     "text": [
      "Column name... names\n",
      "0     Jill\n",
      "1    Carol\n",
      "2     John\n",
      "Name: names, dtype: object\n",
      "Column name... ids\n",
      "0    101\n",
      "1    102\n",
      "2    103\n",
      "Name: ids, dtype: int64\n",
      "Column name... marks\n",
      "0    90.1\n",
      "1    88.5\n",
      "2    80.2\n",
      "Name: marks, dtype: float64\n"
     ]
    }
   ],
   "source": [
    "data = {'names': ['Jill', 'Carol', 'John'],\n",
    "       'ids': [101, 102, 103],\n",
    "       'marks': [90.1, 88.5, 80.2]}\n",
    "df1 = pd.DataFrame(data)\n",
    "for column in df1.columns:\n",
    "    print(f'Column name... {column}')\n",
    "    print(df1[column])"
   ]
  },
  {
   "cell_type": "markdown",
   "id": "4520db1d",
   "metadata": {},
   "source": [
    "## Write a Python program to create and display a Data Frame from a specified dictionary data which has the index labels."
   ]
  },
  {
   "cell_type": "code",
   "execution_count": 27,
   "id": "88147176",
   "metadata": {},
   "outputs": [
    {
     "name": "stdout",
     "output_type": "stream",
     "text": [
      "      names  ids  marks\n",
      "2115   Jill  101   90.1\n",
      "2116  Carol  102   88.5\n",
      "2117   John  103   80.2\n"
     ]
    }
   ],
   "source": [
    "label = [2115,2116,2117]\n",
    "df2 = pd.DataFrame(data,index = label)\n",
    "print(df2)"
   ]
  },
  {
   "cell_type": "markdown",
   "id": "feec6469",
   "metadata": {},
   "source": [
    "## Write a Python program to select the specified columns and rows from a given Data Frame."
   ]
  },
  {
   "cell_type": "code",
   "execution_count": 31,
   "id": "fb9ed3af",
   "metadata": {},
   "outputs": [
    {
     "name": "stdout",
     "output_type": "stream",
     "text": [
      "2115     Jill\n",
      "2116    Carol\n",
      "2117     John\n",
      "Name: names, dtype: object\n",
      "names    Carol\n",
      "ids        102\n",
      "marks     88.5\n",
      "Name: 2116, dtype: object\n"
     ]
    }
   ],
   "source": [
    "# select values based on the column specified.\n",
    "\n",
    "# Fetch name column\n",
    "df3 = pd.DataFrame(data, index = label)\n",
    "print(df3['names'])\n",
    "\n",
    "# Select values based on the rows\n",
    "\n",
    "# Fetch 2nd row which has carol details\n",
    "print(df3.loc[2116])"
   ]
  },
  {
   "cell_type": "markdown",
   "id": "7c53e638",
   "metadata": {},
   "source": [
    "## Write a Python program to select the rows the score is between  15 and 20 (inclusive)."
   ]
  },
  {
   "cell_type": "code",
   "execution_count": 41,
   "id": "18c7a356",
   "metadata": {},
   "outputs": [
    {
     "name": "stdout",
     "output_type": "stream",
     "text": [
      "    player_name  score\n",
      "18  Virat Kohli     19\n",
      "7      MS Dhoni     16\n"
     ]
    }
   ],
   "source": [
    "cricket_score = {'player_name':['Virat Kohli','MS Dhoni','Rohit Sharma','Rishab pant'],\n",
    "                'score':[19,16,15,10]}\n",
    "df4 = pd.DataFrame(cricket_score,[18,7,45,17])\n",
    "print(df4[(df4.score >15) & (df4.score <20)])"
   ]
  },
  {
   "cell_type": "markdown",
   "id": "51a792fa",
   "metadata": {},
   "source": [
    "## Write a Python program to select the rows where number of attempts in the examination is less than 2 and score greater than 15"
   ]
  },
  {
   "cell_type": "code",
   "execution_count": 44,
   "id": "33bcefc3",
   "metadata": {},
   "outputs": [
    {
     "name": "stdout",
     "output_type": "stream",
     "text": [
      "       name  attempts  score\n",
      "1       Rob         1   19.0\n",
      "7      Pant         1   18.2\n",
      "8   Shreyas         1   20.5\n",
      "10   Ashwin         1   16.3\n"
     ]
    }
   ],
   "source": [
    "exam_data = {'name':['Rob','Jill','Carol','John','Kohli','Dhoni','Pant','Shreyas','Karthik','Ashwin'],\n",
    "            'attempts': [1, 3, 2, 3, 2, 3, 1, 1, 2, 1],\n",
    "            'score':[19,16,15,10,14.5,20,18.2,20.5,18,16.3]}\n",
    "df5 = pd.DataFrame(exam_data,index = range(1,11))\n",
    "print(df5[(df5.score >15) & (df5.attempts <2)])"
   ]
  },
  {
   "cell_type": "markdown",
   "id": "5bdb70c7",
   "metadata": {},
   "source": [
    "## Write a Python program to append a new row 'k' to Data Frame with given values for each column. Now delete the new row and return the original data frame."
   ]
  },
  {
   "cell_type": "code",
   "execution_count": 65,
   "id": "923ba972",
   "metadata": {},
   "outputs": [
    {
     "name": "stdout",
     "output_type": "stream",
     "text": [
      "Added new record.....\n",
      "                name  attempts  score\n",
      "0                Rob         1   19.0\n",
      "1               Jill         3   16.0\n",
      "2              Carol         2   15.0\n",
      "3               John         3   10.0\n",
      "4              Kohli         2   14.5\n",
      "5              Dhoni         3   20.0\n",
      "6               Pant         1   18.2\n",
      "7            Shreyas         1   20.5\n",
      "8            Karthik         2   18.0\n",
      "9             Ashwin         1   16.3\n",
      "10  Devdutt Padikkal         1  100.0\n",
      "Original data frame is.....\n",
      "      name  attempts  score\n",
      "0      Rob         1   19.0\n",
      "1     Jill         3   16.0\n",
      "2    Carol         2   15.0\n",
      "3     John         3   10.0\n",
      "4    Kohli         2   14.5\n",
      "5    Dhoni         3   20.0\n",
      "6     Pant         1   18.2\n",
      "7  Shreyas         1   20.5\n",
      "8  Karthik         2   18.0\n",
      "9   Ashwin         1   16.3\n"
     ]
    }
   ],
   "source": [
    "def appendNewRow(data):\n",
    "    df_val = pd.DataFrame(exam_data)\n",
    "    df_val = df_val.append(data,ignore_index=True)\n",
    "    return df_val\n",
    "def deleteNewRow(df6):\n",
    "    deleted_row = df6.drop(df6.index[df6['name'] == 'Devdutt Padikkal'])\n",
    "    return deleted_row\n",
    "\n",
    "added_row_df = appendNewRow({'name':'Devdutt Padikkal','attempts':1,'score':100})   \n",
    "print('Added new record.....')\n",
    "print(added_row_df)\n",
    "print('Original data frame is.....')\n",
    "df7 = deleteNewRow(added_row_df)\n",
    "print(df7)"
   ]
  },
  {
   "cell_type": "markdown",
   "id": "b4b13d90",
   "metadata": {},
   "source": [
    "## Write a Python program to sort the data frame first by 'name' in descending order, then by 'score' in ascending order"
   ]
  },
  {
   "cell_type": "code",
   "execution_count": 74,
   "id": "102203ac",
   "metadata": {},
   "outputs": [
    {
     "name": "stdout",
     "output_type": "stream",
     "text": [
      "Sorting based on name in descending order......\n",
      "                name  attempts  score\n",
      "7            Shreyas         1   20.5\n",
      "0                Rob         1   19.0\n",
      "6               Pant         1   18.2\n",
      "4              Kohli         2   14.5\n",
      "8            Karthik         2   18.0\n",
      "3               John         3   10.0\n",
      "1               Jill         3   16.0\n",
      "5              Dhoni         3   20.0\n",
      "10  Devdutt Padikkal         1  100.0\n",
      "2              Carol         2   15.0\n",
      "9             Ashwin         1   16.3\n",
      "Sorting based on score in ascending order.....\n",
      "                name  attempts  score\n",
      "3               John         3   10.0\n",
      "4              Kohli         2   14.5\n",
      "2              Carol         2   15.0\n",
      "1               Jill         3   16.0\n",
      "9             Ashwin         1   16.3\n",
      "8            Karthik         2   18.0\n",
      "6               Pant         1   18.2\n",
      "0                Rob         1   19.0\n",
      "5              Dhoni         3   20.0\n",
      "7            Shreyas         1   20.5\n",
      "10  Devdutt Padikkal         1  100.0\n"
     ]
    }
   ],
   "source": [
    "# Sorting Data frame in Descending order\n",
    "print('Sorting based on name in descending order......')\n",
    "print(added_row_df.sort_values('name',ascending=False))\n",
    "# Sorting in ascending order based on score\n",
    "print('Sorting based on score in ascending order.....')\n",
    "print(added_row_df.sort_values('score',ascending=True))"
   ]
  },
  {
   "cell_type": "markdown",
   "id": "abe288ad",
   "metadata": {},
   "source": [
    "## Write a Python program to insert a new column in existing Data Frame."
   ]
  },
  {
   "cell_type": "code",
   "execution_count": 77,
   "id": "980273f9",
   "metadata": {},
   "outputs": [
    {
     "name": "stdout",
     "output_type": "stream",
     "text": [
      "                name  attempts  score  strike_rate\n",
      "0                Rob         1   19.0       143.50\n",
      "1               Jill         3   16.0       200.00\n",
      "2              Carol         2   15.0       120.00\n",
      "3               John         3   10.0       100.00\n",
      "4              Kohli         2   14.5       150.34\n",
      "5              Dhoni         3   20.0       200.67\n",
      "6               Pant         1   18.2       123.00\n",
      "7            Shreyas         1   20.5       126.29\n",
      "8            Karthik         2   18.0       179.00\n",
      "9             Ashwin         1   16.3       192.23\n",
      "10  Devdutt Padikkal         1  100.0       189.32\n"
     ]
    }
   ],
   "source": [
    "strike_rate =[143.50,200,120,100,150.34,200.67,123,126.29,179,192.23,189.32]\n",
    "added_row_df['strike_rate'] = strike_rate\n",
    "print(added_row_df)"
   ]
  },
  {
   "cell_type": "markdown",
   "id": "fc6e3d18",
   "metadata": {},
   "source": [
    "## Write a Python program to change the name 'John' to 'Suresh' in name column of the data frame"
   ]
  },
  {
   "cell_type": "code",
   "execution_count": 96,
   "id": "aca2032f",
   "metadata": {},
   "outputs": [
    {
     "name": "stdout",
     "output_type": "stream",
     "text": [
      "                name  attempts  score  strike_rate\n",
      "0                Rob         1   19.0       143.50\n",
      "1               Jill         3   16.0       200.00\n",
      "2              Carol         2   15.0       120.00\n",
      "3             Suresh         3   10.0       100.00\n",
      "4              Kohli         2   14.5       150.34\n",
      "5              Dhoni         3   20.0       200.67\n",
      "6               Pant         1   18.2       123.00\n",
      "7            Shreyas         1   20.5       126.29\n",
      "8            Karthik         2   18.0       179.00\n",
      "9             Ashwin         1   16.3       192.23\n",
      "10  Devdutt Padikkal         1  100.0       189.32\n"
     ]
    }
   ],
   "source": [
    "df10 = added_row_df.copy()\n",
    "df10 = df10.replace('John','Suresh')\n",
    "print(df10)"
   ]
  }
 ],
 "metadata": {
  "kernelspec": {
   "display_name": "Python 3 (ipykernel)",
   "language": "python",
   "name": "python3"
  },
  "language_info": {
   "codemirror_mode": {
    "name": "ipython",
    "version": 3
   },
   "file_extension": ".py",
   "mimetype": "text/x-python",
   "name": "python",
   "nbconvert_exporter": "python",
   "pygments_lexer": "ipython3",
   "version": "3.9.7"
  }
 },
 "nbformat": 4,
 "nbformat_minor": 5
}
