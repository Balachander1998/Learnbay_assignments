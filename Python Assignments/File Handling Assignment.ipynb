{
 "cells": [
  {
   "cell_type": "markdown",
   "id": "f480e471",
   "metadata": {},
   "source": [
    "## Write a function in python to read the content from a text file \"poem.txt\" line by line and display the same on screen."
   ]
  },
  {
   "cell_type": "code",
   "execution_count": 8,
   "id": "e23f4302",
   "metadata": {},
   "outputs": [
    {
     "name": "stdout",
     "output_type": "stream",
     "text": [
      "I want to die as the day declines, \n",
      "at high sea and facing the sky, \n",
      "while agony seems like a dream \n",
      "and my soul like a bird that can fly. \n",
      "\n",
      "To hear not, at this last moment, \n",
      "once alone with sky and sea, \n",
      "any more voices nor weeping prayers \n",
      "than the majestic beating of the waves. \n",
      "\n",
      "To die when the sad light retires \n",
      "its golden network from the green waves \n",
      "to be like the sun that slowly expires; \n",
      "something very luminous that fades. \n",
      "\n",
      "To die, and die young, before \n",
      "fleeting time removes the gentle crown, \n",
      "while life still says: \"I'm yours\" \n",
      "though we know with our hearts that she lies. "
     ]
    }
   ],
   "source": [
    "fh = open('poem.txt','rt')\n",
    "#fh = open(\"E:\\Learnbay_assignments\\poem.txt\",'rt')\n",
    "while True:\n",
    "    line = fh.readline()\n",
    "    if line:\n",
    "        print(line, end = '')\n",
    "    else:\n",
    "        break\n",
    "fh.close()"
   ]
  },
  {
   "cell_type": "markdown",
   "id": "74b6773f",
   "metadata": {},
   "source": [
    "## Write a function in python to count the number of lines from a text file \"story.txt\" which is not starting with an alphabet \"T\". \n",
    "\n",
    "### Example: If the file \"story.txt\" contains the following lines: A boy is playing there. There is a playground. An aeroplane is in the sky.  The sky is pink.  Alphabets and numbers are allowed in the password.  The function should display the output as 3"
   ]
  },
  {
   "cell_type": "code",
   "execution_count": 16,
   "id": "915f74f2",
   "metadata": {},
   "outputs": [
    {
     "name": "stdout",
     "output_type": "stream",
     "text": [
      "3\n"
     ]
    }
   ],
   "source": [
    "fh = open('story.txt','rt')\n",
    "def numberOfLines():\n",
    "    count = 0\n",
    "    while True:\n",
    "        line = fh.readline()\n",
    "        if line:\n",
    "            if  not (line.startswith('T')):\n",
    "                count +=1\n",
    "        else:\n",
    "            break\n",
    "    fh.close()\n",
    "    return count\n",
    "print(numberOfLines())"
   ]
  },
  {
   "cell_type": "markdown",
   "id": "07979066",
   "metadata": {},
   "source": [
    "## Write a function in Python to count and display the total number of words in a text file."
   ]
  },
  {
   "cell_type": "code",
   "execution_count": 21,
   "id": "4c399821",
   "metadata": {},
   "outputs": [
    {
     "name": "stdout",
     "output_type": "stream",
     "text": [
      "27\n"
     ]
    }
   ],
   "source": [
    "fh = open('story.txt','rt')\n",
    "def countWords():\n",
    "    words_count = 0\n",
    "    while True:\n",
    "        line = fh.readline()\n",
    "        if line:\n",
    "            \n",
    "            words_list = line.split()\n",
    "            words_count = words_count + len(words_list)\n",
    "        else:\n",
    "            break\n",
    "    fh.close()\n",
    "    return words_count\n",
    "print(countWords())"
   ]
  },
  {
   "cell_type": "markdown",
   "id": "a6928dbe",
   "metadata": {},
   "source": [
    "## Write a function in Python to read lines from a text file \"notes.txt\".  Your function should find and display the occurrence of the word \"the\".\n",
    "\n",
    "### For example: If the content of the file is:\n",
    "#### \"India is the fastest-growing economy. India is looking for more investments around the globe. The whole world is looking at India as a great market. Most of the Indians can foresee the heights that India is capable of reaching.\"\n",
    "\n",
    "#### The output should be 5."
   ]
  },
  {
   "cell_type": "code",
   "execution_count": 24,
   "id": "37a98940",
   "metadata": {},
   "outputs": [
    {
     "name": "stdout",
     "output_type": "stream",
     "text": [
      "5\n"
     ]
    }
   ],
   "source": [
    "fh = open('notes.txt','rt')\n",
    "def wordOccurance():\n",
    "    word_count = 0\n",
    "    while True:\n",
    "        line = fh.readline()\n",
    "        if line:\n",
    "            temp_list = line.split()\n",
    "            word_list = [val.lower() for val in temp_list]\n",
    "            word_count = word_list.count('the')\n",
    "        else:\n",
    "            break\n",
    "    fh.close()\n",
    "    return word_count\n",
    "print(wordOccurance())"
   ]
  },
  {
   "cell_type": "markdown",
   "id": "6d7292a1",
   "metadata": {},
   "source": [
    "## Write a function display_words() in python to read lines from a text file \"story.txt\", and display those words, which are less than 4 characters."
   ]
  },
  {
   "cell_type": "code",
   "execution_count": 26,
   "id": "bfd8481e",
   "metadata": {},
   "outputs": [
    {
     "name": "stdout",
     "output_type": "stream",
     "text": [
      "A\tboy\tis\tis\ta\tAn\tis\tin\tthe\tThe\tsky\tis\tand\tare\tin\tthe\t"
     ]
    }
   ],
   "source": [
    "fh = open('story.txt','rt')\n",
    "def display_words():\n",
    "    while True:\n",
    "        line = fh.readline()\n",
    "        if line:\n",
    "            words_list = line.split()\n",
    "            for word in words_list:\n",
    "                if len(word) < 4:\n",
    "                    print(word, end = '\\t')\n",
    "        else:\n",
    "            break\n",
    "    fh.close()\n",
    "display_words()"
   ]
  },
  {
   "cell_type": "markdown",
   "id": "69a0a5bf",
   "metadata": {},
   "source": [
    "## Write a function in Python to count the words \"this\" and \"these\" present in a text file \"article.txt\". \n",
    "#### [Note that the words \"this\" and \"these\" are complete words] "
   ]
  },
  {
   "cell_type": "code",
   "execution_count": 29,
   "id": "e5576221",
   "metadata": {},
   "outputs": [
    {
     "name": "stdout",
     "output_type": "stream",
     "text": [
      "4\n"
     ]
    }
   ],
   "source": [
    "fh = open('article.txt','rt',encoding='utf-8')\n",
    "def countThisandThese():\n",
    "    word_count = 0\n",
    "    while True:\n",
    "        line = fh.readline()\n",
    "        if line:\n",
    "            temp_list = line.split()\n",
    "            words_list = [val.lower() for val in temp_list]\n",
    "            word_count = words_list.count('this') + words_list.count('these')\n",
    "        else:\n",
    "            break\n",
    "    fh.close()\n",
    "    return word_count\n",
    "print(countThisandThese())"
   ]
  },
  {
   "cell_type": "markdown",
   "id": "881fd34c",
   "metadata": {},
   "source": [
    "## Write a function in Python to count words in a text file those are ending with alphabet \"e\""
   ]
  },
  {
   "cell_type": "code",
   "execution_count": 31,
   "id": "dccb14e5",
   "metadata": {},
   "outputs": [
    {
     "name": "stdout",
     "output_type": "stream",
     "text": [
      "126\n"
     ]
    }
   ],
   "source": [
    "fh = open('article.txt', 'rt',encoding='utf-8')\n",
    "def countCharacterE():\n",
    "    letter_count = 0\n",
    "    words = fh.read()\n",
    "    for word in words:\n",
    "        if word.endswith('e'):\n",
    "            letter_count = letter_count + 1\n",
    "    fh.close()\n",
    "    return letter_count\n",
    "print(countCharacterE())"
   ]
  },
  {
   "cell_type": "markdown",
   "id": "01b5ae94",
   "metadata": {},
   "source": [
    "## Write a function in Python to count uppercase character in a text file."
   ]
  },
  {
   "cell_type": "code",
   "execution_count": 35,
   "id": "53735ccf",
   "metadata": {},
   "outputs": [
    {
     "name": "stdout",
     "output_type": "stream",
     "text": [
      "7\n"
     ]
    }
   ],
   "source": [
    "fh = open('article.txt', 'rt',encoding='utf-8')\n",
    "def countUpperCase():\n",
    "    case_count = 0\n",
    "    words = fh.read()\n",
    "    for word in words:\n",
    "        if word.istitle():\n",
    "            case_count += 1\n",
    "    fh.close()\n",
    "    return case_count\n",
    "print(countUpperCase())"
   ]
  },
  {
   "cell_type": "markdown",
   "id": "1aae2a2c",
   "metadata": {},
   "source": [
    "## A text file named \"matter.txt\" contains some text, which needs to be displayed such tha t every next character is separated by a symbol \"#\". \n",
    "## Write a function definition for hash_display() in Python that would display the entire content of the file matter.txt in the desired format.\n",
    "\n",
    "### Example :If the file matter.txt has the following content stored in it : THE WORLD IS ROUND\n",
    "\n",
    "### The function hash_display() should display the following content :\n",
    "### T#H#E# #W#O#R#L#D# #I#S# #R#O#U#N#D#"
   ]
  },
  {
   "cell_type": "code",
   "execution_count": 14,
   "id": "b9933431",
   "metadata": {},
   "outputs": [
    {
     "name": "stdout",
     "output_type": "stream",
     "text": [
      "T#H#E# #W#O#R#L#D# #I#S# #R#O#U#N#D#\n"
     ]
    }
   ],
   "source": [
    "fh = open('matter.txt','rt')\n",
    "def hash_display():   \n",
    "    content = fh.read()\n",
    "    result_string = ''\n",
    "    for i in content:\n",
    "        result_string = result_string +i + '#'\n",
    "    fh.close()\n",
    "    return result_string\n",
    "print(hash_display())"
   ]
  },
  {
   "cell_type": "markdown",
   "id": "27d3c53b",
   "metadata": {},
   "source": [
    "## Aditi has used a text editing software to type some text. After saving the article as WORDS.TXT, she realised that she has wrongly typed alphabet J in place of alphabet I everywhere in the article.\n",
    "### Write a function definition for JTOI() in Python that would display the corrected version of entire content of the file WORDS.TXT with all the alphabets \"J\" to be displayed as an alphabet \"I\" on screen.\n",
    "\n",
    "### Note: Assuming that WORD.TXT does not contain any J alphabet otherwise.\n",
    "\n",
    "### Example:\n",
    "#### If Aditi has stored the following content in the file WORDS.TXT:\n",
    "#### WELL, THJS JS A WORD BY JTSELF. YOU COULD STRETCH THJS TO BE A SENTENCE\n",
    "#### The function JTOI() should display the following content:\n",
    "#### WELL, THIS IS A WORD BY ITSELF. YOU COULD STRETCH THIS TO BE A SENTENCE"
   ]
  },
  {
   "cell_type": "code",
   "execution_count": 24,
   "id": "ed09d0a1",
   "metadata": {},
   "outputs": [
    {
     "name": "stdout",
     "output_type": "stream",
     "text": [
      "WELL, THIS IS A WORD BY ITSELF. YOU COULD STRETCH THIS TO BE A SENTENCEWELL,\n"
     ]
    }
   ],
   "source": [
    "fh = open('words.txt','r+')\n",
    "def JTOI():\n",
    "    result_string = ''\n",
    "    while True:\n",
    "        line = fh.readline()\n",
    "        if line:\n",
    "            for ch in line:\n",
    "                if ch == 'J':\n",
    "                    ch = 'I'\n",
    "                    result_string += ch\n",
    "                else:\n",
    "                    result_string += ch\n",
    "            \n",
    "        else:\n",
    "            \n",
    "            break\n",
    "        fh.write(result_string)\n",
    "        fh.flush()\n",
    "        return result_string\n",
    "    fh.close()\n",
    "print(JTOI())"
   ]
  },
  {
   "cell_type": "markdown",
   "id": "f2578979",
   "metadata": {},
   "source": [
    "## Write a function AMCount() in Python, which should read each character of a text file STORY.TXT,  should count and display the occurance of alphabets A and M (including small cases a and m too).\n",
    "### For Example:\n",
    "#### If the file content is as follows:\n",
    "#### Updated information\n",
    "#### As simplified by official websites.\n",
    "#### The EUCount() function should display the output as:\n",
    "#### A or a:4\n",
    "#### M or m :2"
   ]
  },
  {
   "cell_type": "code",
   "execution_count": 25,
   "id": "27658cf9",
   "metadata": {},
   "outputs": [
    {
     "name": "stdout",
     "output_type": "stream",
     "text": [
      "A or a: 4\n",
      "M or m: 2\n"
     ]
    }
   ],
   "source": [
    "fh = open('story2.txt','rt')\n",
    "def AMCount():\n",
    "    aCount = 0\n",
    "    mCount = 0\n",
    "    while True:\n",
    "        line = fh.readline()\n",
    "        if line:\n",
    "            for char in line:\n",
    "                if char == 'a' or char == 'A':\n",
    "                    aCount += 1\n",
    "                if char == 'm' or char == 'M':\n",
    "                    mCount += 1\n",
    "        else:\n",
    "            break\n",
    "    fh.close()\n",
    "    return aCount,mCount\n",
    "aCount, mCount = AMCount()\n",
    "print(f'A or a: {aCount}')\n",
    "print(f'M or m: {mCount}')"
   ]
  },
  {
   "cell_type": "markdown",
   "id": "e215abda",
   "metadata": {},
   "source": [
    "## A binary file \"Book.dat\" has structure [BookNo, Book_Name, Author, Price].\n",
    "### i. Write a user defined function createFile() to input data for a record and add to Book.dat.\n",
    "### ii. Write a function countRec(Author) in Python which accepts the Author name as parameter and count and return number of books by the given Author are stored in the binary file \"Book.dat\""
   ]
  },
  {
   "cell_type": "code",
   "execution_count": 1,
   "id": "aebdb108",
   "metadata": {},
   "outputs": [
    {
     "name": "stdout",
     "output_type": "stream",
     "text": [
      "1\n"
     ]
    }
   ],
   "source": [
    "import pickle as p\n",
    "def createFile():\n",
    "    fh = open('Book.dat','ba')\n",
    "    book_list = []\n",
    "    bookNo = int(input('Enter book number: '))\n",
    "    book_list.append(bookNo)             \n",
    "    bookName = input('Enter book name: ')\n",
    "    book_list.append(bookName)\n",
    "    author = input('Enter Author name: ')\n",
    "    book_list.append(author)\n",
    "    price = int(input('Enter the price of the book: '))\n",
    "    book_list.append(price)\n",
    "    p.dump(book_list, fh)\n",
    "    fh.close()\n",
    "\n",
    "def countRec(author):\n",
    "    fh = open('Book.dat','br')\n",
    "    books_count = 0\n",
    "    book_list = []\n",
    "    while True:\n",
    "        try:\n",
    "            book_list = p.load(fh)\n",
    "            if(book_list[2] == author):\n",
    "                books_count += 1\n",
    "        except EOFError:\n",
    "            break\n",
    "    fh.close()\n",
    "    return books_count\n",
    "print(countRec('J K Rowling'))"
   ]
  },
  {
   "cell_type": "markdown",
   "id": "db7ee9df",
   "metadata": {},
   "source": [
    "## A binary file \"STUDENT.DAT\" has structure (admission_number, Name, Percentage). \n",
    "### Write a function count_rec() in Python that would read contents of the file \"STUDENT.DAT\" and display the details of those students whose percentage is above 75.  Also display number of students scoring above 75%"
   ]
  },
  {
   "cell_type": "code",
   "execution_count": 16,
   "id": "5385b803",
   "metadata": {},
   "outputs": [
    {
     "name": "stdout",
     "output_type": "stream",
     "text": [
      "(2116, 'Ajay', '87%')\n",
      "(2118, 'Bala', '91%')\n",
      "Number of students scoring above 75% is...  2\n"
     ]
    }
   ],
   "source": [
    "def createStudent():\n",
    "    fh = open('STUDENT.DAT','bw')\n",
    "    student_list1 = (2116,'Ajay','87%')\n",
    "    p.dump(student_list1,fh)\n",
    "    student_list2 = (2117,'Ashwin','40%')\n",
    "    p.dump(student_list2,fh)\n",
    "    student_list3 = (2118,'Bala','91%')\n",
    "    p.dump(student_list3,fh)\n",
    "    print('created')\n",
    "    fh.close()\n",
    "#createStudent()\n",
    "def count_rec():\n",
    "    fh = open('STUDENT.DAT','br')\n",
    "    student_count = 0\n",
    "    while True:\n",
    "        try:\n",
    "            content = p.load(fh)\n",
    "            if int(content[2].strip('%')) > 75:\n",
    "                print(content)\n",
    "                student_count += 1\n",
    "        except EOFError:\n",
    "            break\n",
    "    fh.close()\n",
    "    return student_count\n",
    "    \n",
    "count = count_rec()    \n",
    "print('Number of students scoring above 75% is... ', count)"
   ]
  },
  {
   "cell_type": "markdown",
   "id": "5fa014a4",
   "metadata": {},
   "source": [
    "## Given a binary file employee.dat, created using dictionary object having keys: (empcode, name, and salary)\n",
    "\n",
    "### Write a python function that add one more record at the end of file.\n",
    "### Write a python function that display all employee records whose salary is more that 30000"
   ]
  },
  {
   "cell_type": "code",
   "execution_count": 24,
   "id": "474e9949",
   "metadata": {},
   "outputs": [
    {
     "name": "stdout",
     "output_type": "stream",
     "text": [
      "Enter your employee code: 2119\n",
      "Enter your name: Sathish\n",
      "Enter your salary: 18000\n",
      "Added\n"
     ]
    }
   ],
   "source": [
    "def addEmployee():\n",
    "    employee_dict = {}\n",
    "    fh = open('Employee.dat','ba')\n",
    "    employee_dict['empCode'] = int(input('Enter your employee code: '))\n",
    "    employee_dict['name'] = input('Enter your name: ')\n",
    "    employee_dict['salary'] = int(input('Enter your salary: '))\n",
    "    p.dump(employee_dict,fh)\n",
    "    fh.close()\n",
    "    return 'Added'\n",
    "print(addEmployee()) "
   ]
  },
  {
   "cell_type": "code",
   "execution_count": 28,
   "id": "35c78f55",
   "metadata": {},
   "outputs": [
    {
     "name": "stdout",
     "output_type": "stream",
     "text": [
      "{'empCode': 2116, 'name': 'Vengad', 'salary': 200000}\n",
      "{'empCode': 2117, 'name': 'Javid', 'salary': 150000}\n"
     ]
    }
   ],
   "source": [
    "def highSalariedEmployee():\n",
    "    re = open('Employee.dat','br')\n",
    "    while True:\n",
    "        try:       \n",
    "            employee = p.load(re)\n",
    "            if employee['salary'] > 30000:\n",
    "                print(employee)\n",
    "        except EOFError:\n",
    "            break\n",
    "    re.close()\n",
    "highSalariedEmployee()"
   ]
  },
  {
   "cell_type": "markdown",
   "id": "ea9099db",
   "metadata": {},
   "source": [
    "## Write a function to search and display details of student whose rollno is '1005' from the binary file student.dat having structure [rollno, name, class and fees]."
   ]
  },
  {
   "cell_type": "code",
   "execution_count": 32,
   "id": "e5a79a60",
   "metadata": {},
   "outputs": [
    {
     "name": "stdout",
     "output_type": "stream",
     "text": [
      "[1005, 'Balachander', '12th standard', 5000]\n"
     ]
    }
   ],
   "source": [
    "def createStudent():\n",
    "    fh = open('student_details.dat','ba')\n",
    "    student_list = []\n",
    "    student_list.append(int(input('Enter your roll no... ')))\n",
    "    student_list.append(input('Enter your name..... '))\n",
    "    student_list.append(input('Enter your class.... '))\n",
    "    student_list.append(int(input('Enter your fees....')))\n",
    "    p.dump(student_list,fh)\n",
    "    print('Created..')\n",
    "    fh.close()\n",
    "#createStudent()\n",
    "def searchAndDisplay():\n",
    "    re = open('student_details.dat', 'br')\n",
    "    while True:\n",
    "        try:\n",
    "            student = p.load(re)\n",
    "            if student[0] == 1005:\n",
    "                print(student)\n",
    "        except EOFError:\n",
    "            break\n",
    "    re.close()\n",
    "searchAndDisplay()"
   ]
  },
  {
   "cell_type": "markdown",
   "id": "af781858",
   "metadata": {},
   "source": [
    "## A binary file school.dat has structure(rollno, name, class, fees)\n",
    "\n",
    "### Write a definition for function total_fees( ) that reads each object of file and calculate the total fees of students and display the same."
   ]
  },
  {
   "cell_type": "code",
   "execution_count": 34,
   "id": "90503b43",
   "metadata": {},
   "outputs": [
    {
     "name": "stdout",
     "output_type": "stream",
     "text": [
      "Total Fees of the students is 30000\n"
     ]
    }
   ],
   "source": [
    "def addFees():\n",
    "    re = open('student_details.dat','br')\n",
    "    total_fees = 0\n",
    "    while True:\n",
    "        try:\n",
    "            student = p.load(re)\n",
    "            total_fees += student[3]\n",
    "        except EOFError:\n",
    "            break\n",
    "    re.close()\n",
    "    return total_fees\n",
    "print('Total Fees of the students is', addFees())"
   ]
  },
  {
   "cell_type": "markdown",
   "id": "fde5f58b",
   "metadata": {},
   "source": [
    "## A binary file players.dat, containing records of following list format: [code, name, country and total runs]\n",
    "\n",
    "### 1. Write a python function that display all records where player name starts from 'A'\n",
    "### 2. Write a python function that accept country as an argument and count and display the number of players of that country.\n",
    "### 3. Write a python function that add one record at the end of file."
   ]
  },
  {
   "cell_type": "code",
   "execution_count": 38,
   "id": "78d93904",
   "metadata": {},
   "outputs": [
    {
     "name": "stdout",
     "output_type": "stream",
     "text": [
      "Enter your player code.... 3021\n",
      "Enter your player name.... Aaron Finch\n",
      "Enter your player country....Australia\n",
      "Enter total runs scored by the player......2439\n",
      "Created..\n"
     ]
    }
   ],
   "source": [
    "\n",
    "def createFile():\n",
    "    fh = open('players.dat','ba')\n",
    "    players_list = []\n",
    "    players_list.append(int(input('Enter your player code.... ')))\n",
    "    players_list.append(input('Enter your player name.... '))\n",
    "    players_list.append(input('Enter your player country....'))\n",
    "    players_list.append(input('Enter total runs scored by the player......'))\n",
    "    p.dump(players_list,fh)\n",
    "    fh.close()\n",
    "    print('Created..')\n",
    "#bcreateFile()"
   ]
  },
  {
   "cell_type": "code",
   "execution_count": 43,
   "id": "dccad327",
   "metadata": {},
   "outputs": [
    {
     "name": "stdout",
     "output_type": "stream",
     "text": [
      "Number of players in India is... 2\n"
     ]
    }
   ],
   "source": [
    "def filterPlayersByCountry(countryName): #  Display number of players of that country\n",
    "    rh = open('players.dat','br')\n",
    "    players_count = 0\n",
    "    while True:\n",
    "        try:\n",
    "            player = p.load(rh)\n",
    "            if(player[2] == countryName):\n",
    "                players_count += 1\n",
    "        except EOFError:\n",
    "            break\n",
    "    rh.close()\n",
    "    \n",
    "    return f'Number of players in {countryName} is... {players_count}'\n",
    "print(filterPlayersByCountry('India'))"
   ]
  },
  {
   "cell_type": "code",
   "execution_count": 44,
   "id": "82a5fe15",
   "metadata": {},
   "outputs": [
    {
     "name": "stdout",
     "output_type": "stream",
     "text": [
      "[3021, 'Aaron Finch', 'Australia', '2439']\n"
     ]
    }
   ],
   "source": [
    "def displayPlayers(): # Display players whose name starts with 'A'\n",
    "    rh = open('players.dat','br')\n",
    "    players_count = 0\n",
    "    while True:\n",
    "        try:\n",
    "            player = p.load(rh)\n",
    "            if(player[1].startswith('A')):\n",
    "                print(player)\n",
    "        except EOFError:\n",
    "            break\n",
    "    rh.close()\n",
    "displayPlayers()"
   ]
  },
  {
   "cell_type": "markdown",
   "id": "801ce4db",
   "metadata": {},
   "source": [
    "## Given a binary file game.dat, containing records of following list format: [game_name, participants]\n",
    "\n",
    "### Write a function in Python that would read contents from the file game.dat and creates a file named basket.dat copying only those records from game.dat where the game name is \"Basket Ball\""
   ]
  },
  {
   "cell_type": "code",
   "execution_count": 47,
   "id": "17ca4549",
   "metadata": {},
   "outputs": [
    {
     "name": "stdout",
     "output_type": "stream",
     "text": [
      "Added...\n"
     ]
    }
   ],
   "source": [
    "def createGameFile():\n",
    "    fh = open('Game.dat','ba')\n",
    "    gameList = []\n",
    "    cricket_list = ['cricket',['Dhoni','Kohli','AB Devillers', 'Padikkal','Rohit']]\n",
    "    gameList.append(cricket_list)\n",
    "    basket_ball_list = ['Basket ball',['James Lebron','Magic Jordan','Abdul Jabbar']]\n",
    "    gameList.append(basket_ball_list)\n",
    "    p.dump(gameList,fh)\n",
    "    fh.close()\n",
    "    print('Added...')\n",
    "createGameFile()"
   ]
  },
  {
   "cell_type": "code",
   "execution_count": 51,
   "id": "ca4b6539",
   "metadata": {},
   "outputs": [
    {
     "name": "stdout",
     "output_type": "stream",
     "text": [
      "['James Lebron', 'Magic Jordan', 'Abdul Jabbar']\n",
      "created file....\n"
     ]
    }
   ],
   "source": [
    "def readGameFile():\n",
    "    re = open('Game.dat','br')\n",
    "    while True:\n",
    "        try:\n",
    "            game = p.load(re)\n",
    "            for g in game:\n",
    "                if g[0] == 'Basket ball':\n",
    "                    print(g[1])\n",
    "                    createBasketFile(g[1])\n",
    "        except EOFError:\n",
    "            break\n",
    "    re.close()\n",
    "def createBasketFile(basket_ball_list):\n",
    "    wr = open('Basket.dat','ba')\n",
    "    p.dump(basket_ball_list,wr)\n",
    "    print('created file....')\n",
    "readGameFile()"
   ]
  }
 ],
 "metadata": {
  "kernelspec": {
   "display_name": "Python 3 (ipykernel)",
   "language": "python",
   "name": "python3"
  },
  "language_info": {
   "codemirror_mode": {
    "name": "ipython",
    "version": 3
   },
   "file_extension": ".py",
   "mimetype": "text/x-python",
   "name": "python",
   "nbconvert_exporter": "python",
   "pygments_lexer": "ipython3",
   "version": "3.9.7"
  }
 },
 "nbformat": 4,
 "nbformat_minor": 5
}
