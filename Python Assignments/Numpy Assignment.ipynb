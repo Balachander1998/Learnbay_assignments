{
 "cells": [
  {
   "cell_type": "code",
   "execution_count": 13,
   "id": "74d90bc7",
   "metadata": {},
   "outputs": [],
   "source": [
    "import numpy as np"
   ]
  },
  {
   "cell_type": "markdown",
   "id": "e8016887",
   "metadata": {},
   "source": [
    "## Write a Python program to print the NumPy version in your system."
   ]
  },
  {
   "cell_type": "code",
   "execution_count": 66,
   "id": "e9971198",
   "metadata": {},
   "outputs": [
    {
     "name": "stdout",
     "output_type": "stream",
     "text": [
      "1.20.3\n"
     ]
    }
   ],
   "source": [
    "print(np.__version__)"
   ]
  },
  {
   "cell_type": "markdown",
   "id": "15581cc0",
   "metadata": {},
   "source": [
    "## Write a Python program to reverse an array (first element becomes last)."
   ]
  },
  {
   "cell_type": "code",
   "execution_count": 15,
   "id": "312dc2ea",
   "metadata": {},
   "outputs": [
    {
     "name": "stdout",
     "output_type": "stream",
     "text": [
      "[[-0.97586813  1.60284293  0.15281299]\n",
      " [-0.11426702  0.19019914 -0.58183676]\n",
      " [-0.00279308  0.06657566 -0.46061153]]\n",
      "[[-0.00279308  0.06657566 -0.46061153]\n",
      " [-0.11426702  0.19019914 -0.58183676]\n",
      " [-0.97586813  1.60284293  0.15281299]]\n"
     ]
    }
   ],
   "source": [
    "arr1 = np.random.randn(3,3)\n",
    "print(arr1)\n",
    "# Reversed array\n",
    "print(arr1[::-1])"
   ]
  },
  {
   "cell_type": "markdown",
   "id": "dfb67fdf",
   "metadata": {},
   "source": [
    "## Write a Python program to convert a list and tuple into arrays."
   ]
  },
  {
   "cell_type": "code",
   "execution_count": 16,
   "id": "6d9c7285",
   "metadata": {},
   "outputs": [
    {
     "name": "stdout",
     "output_type": "stream",
     "text": [
      "[ 20  32  34  50 102]\n",
      "[ 20  32  34  50 102]\n"
     ]
    }
   ],
   "source": [
    "inputList = [20,32,34,50,102]\n",
    "inputTuple = (20,32,34,50,102)\n",
    "arr2 = np.array(inputList,dtype = np.int32)\n",
    "print(arr2)\n",
    "arr3 = np.array(inputTuple, dtype = np.int32)\n",
    "print(arr3)"
   ]
  },
  {
   "cell_type": "markdown",
   "id": "83a53a8b",
   "metadata": {},
   "source": [
    "## Write a Python program to find common values between two arrays."
   ]
  },
  {
   "cell_type": "code",
   "execution_count": 17,
   "id": "904c0c32",
   "metadata": {},
   "outputs": [
    {
     "name": "stdout",
     "output_type": "stream",
     "text": [
      "[ 40 100]\n"
     ]
    }
   ],
   "source": [
    "arr1 = np.array([20,30,40,50,100])\n",
    "arr2 = np.array([10,40,100])\n",
    "print(np.intersect1d(arr2,arr1))"
   ]
  },
  {
   "cell_type": "markdown",
   "id": "4a6a1eb6",
   "metadata": {},
   "source": [
    "## Write a Python program compare two arrays using numpy."
   ]
  },
  {
   "cell_type": "code",
   "execution_count": 18,
   "id": "8618ecd9",
   "metadata": {},
   "outputs": [
    {
     "name": "stdout",
     "output_type": "stream",
     "text": [
      "[[False  True  True]\n",
      " [False False  True]]\n"
     ]
    }
   ],
   "source": [
    "arr1 = np.array([[130,23,40],[39,32,13]])\n",
    "arr2 = np.array([[22,23,40],[3,6,13]])\n",
    "print(arr1 == arr2)"
   ]
  },
  {
   "cell_type": "markdown",
   "id": "40b532b8",
   "metadata": {},
   "source": [
    "## Write a Python program to change the dimension of an array."
   ]
  },
  {
   "cell_type": "code",
   "execution_count": 19,
   "id": "a89cdc70",
   "metadata": {},
   "outputs": [
    {
     "name": "stdout",
     "output_type": "stream",
     "text": [
      "[[10 20]\n",
      " [30 40]\n",
      " [50 60]]\n",
      "[[10 20 30]\n",
      " [40 50 60]]\n",
      "[[10 20 30 40 50 60]]\n"
     ]
    }
   ],
   "source": [
    "arr1 = np.array([(10,20),(30,40),(50,60)])\n",
    "# array 1 which has 2 X 3 dimension\n",
    "print(arr1)\n",
    "# array 2 which contains 3 X 2 dimension reshaped form of array 1\n",
    "arr2 = arr1.reshape(2,3)\n",
    "print(arr2)\n",
    "# array 3 which contains 1 X 6 dimension reshaped form of array 1\n",
    "arr3 = arr1.reshape(1,6)\n",
    "print(arr3)"
   ]
  },
  {
   "cell_type": "markdown",
   "id": "669ba7b9",
   "metadata": {},
   "source": [
    "## Write a Python program (using numpy) to sumof all the multiples of 3 or 5 below 100."
   ]
  },
  {
   "cell_type": "code",
   "execution_count": 20,
   "id": "dbe31792",
   "metadata": {},
   "outputs": [
    {
     "name": "stdout",
     "output_type": "stream",
     "text": [
      "[ 3  5  6  9 10 12 15 18 20 21 24 25 27 30 33 35 36 39 40 42 45 48 50 51\n",
      " 54 55 57 60 63 65 66 69 70 72 75 78 80 81 84 85 87 90 93 95 96 99]\n",
      "2318\n"
     ]
    }
   ],
   "source": [
    "arr1 = np.arange(1,100)\n",
    "result_array = arr1[(arr1 % 3 == 0) | (arr1 % 5 == 0)]\n",
    "print(result_array)\n",
    "print(result_array.sum())"
   ]
  },
  {
   "cell_type": "markdown",
   "id": "571cb215",
   "metadata": {},
   "source": [
    "## Write a Python program to convert a NumPy array into Python list structure."
   ]
  },
  {
   "cell_type": "code",
   "execution_count": 21,
   "id": "bba7ac97",
   "metadata": {},
   "outputs": [
    {
     "name": "stdout",
     "output_type": "stream",
     "text": [
      "[1, 2, 3, 4, 5, 6, 7, 8, 9]\n"
     ]
    }
   ],
   "source": [
    "arr1 = np.arange(1,10)\n",
    "result_list = arr1.tolist()\n",
    "print(result_list)"
   ]
  },
  {
   "cell_type": "markdown",
   "id": "474ff535",
   "metadata": {},
   "source": [
    "## Write a Python program to how to add an extra column to a numpy array."
   ]
  },
  {
   "cell_type": "code",
   "execution_count": 22,
   "id": "fcba88ca",
   "metadata": {},
   "outputs": [
    {
     "name": "stdout",
     "output_type": "stream",
     "text": [
      "[[ 1  2  3 10]\n",
      " [ 4  5  6 11]\n",
      " [ 7  8  9 12]]\n"
     ]
    }
   ],
   "source": [
    "arr1 = np.arange(1,10).reshape(3,3)\n",
    "arr2 = np.arange(10,13).reshape(3,1)\n",
    "result_array = np.append(arr1,arr2,axis = 1)\n",
    "print(result_array)"
   ]
  },
  {
   "cell_type": "markdown",
   "id": "c9b2127d",
   "metadata": {},
   "source": [
    "## Write a Python program to check whether the numpy array is empty or not."
   ]
  },
  {
   "cell_type": "code",
   "execution_count": 23,
   "id": "9619c7d3",
   "metadata": {},
   "outputs": [
    {
     "name": "stdout",
     "output_type": "stream",
     "text": [
      "Array is empty\n"
     ]
    }
   ],
   "source": [
    "arr1 = np.array([])\n",
    "if arr1.size == 0:\n",
    "    print('Array is empty')\n",
    "else:\n",
    "    print('Array is not empty')\n"
   ]
  },
  {
   "cell_type": "markdown",
   "id": "bdf4db52",
   "metadata": {},
   "source": [
    "## Write a Python program to normalize a 3x3random matrix."
   ]
  },
  {
   "cell_type": "code",
   "execution_count": 24,
   "id": "c8c0f64a",
   "metadata": {},
   "outputs": [
    {
     "name": "stdout",
     "output_type": "stream",
     "text": [
      "The input matrix is.... [[ 0.65620991 -0.82481065  0.31297004]\n",
      " [-0.125351    1.95580182 -1.22360787]\n",
      " [ 2.09053753  1.78563014  0.07668137]]\n",
      "The Normalized matrix is.....\n",
      "[[0.14215619 0.03015797 0.1161996 ]\n",
      " [0.08305274 0.24043436 0.        ]\n",
      " [0.25062339 0.22756558 0.0983309 ]]\n"
     ]
    }
   ],
   "source": [
    "arr1 = np.random.randn(3,3)\n",
    "print(\"The input matrix is....\", arr1)\n",
    "x_min = arr1.min()\n",
    "x_max = arr2.max()\n",
    "# Formula \n",
    "## X new = (X — X min)/ (X max — X min)\n",
    "x_new = (arr1 - x_min) / (x_max - x_min)\n",
    "print(\"The Normalized matrix is.....\")\n",
    "print(x_new)"
   ]
  },
  {
   "cell_type": "markdown",
   "id": "047ef29f",
   "metadata": {},
   "source": [
    "## How to ignore all numpy warnings (not recommended)?"
   ]
  },
  {
   "cell_type": "code",
   "execution_count": 25,
   "id": "67503c08",
   "metadata": {},
   "outputs": [
    {
     "data": {
      "text/plain": [
       "'We Need to set up Warning controller to ignore all numpy warnings by using the below code...'"
      ]
     },
     "execution_count": 25,
     "metadata": {},
     "output_type": "execute_result"
    }
   ],
   "source": [
    "\"We Need to set up Warning controller to ignore all numpy warnings by using the below code...\"\n",
    "#np.seterr(all=\"ignore\")"
   ]
  },
  {
   "cell_type": "markdown",
   "id": "4dd4bcd7",
   "metadata": {},
   "source": [
    "## How to swap two rows of an array?"
   ]
  },
  {
   "cell_type": "code",
   "execution_count": 26,
   "id": "3236c805",
   "metadata": {},
   "outputs": [
    {
     "name": "stdout",
     "output_type": "stream",
     "text": [
      "[[18 23 53]\n",
      " [20 30 59]\n",
      " [10 29 30]]\n"
     ]
    }
   ],
   "source": [
    "arr1 = np.array([[10,29,30],[20,30,59],[18,23,53]])\n",
    "result_arr = arr1[::-1]\n",
    "print(result_arr)"
   ]
  },
  {
   "cell_type": "markdown",
   "id": "461cb71c",
   "metadata": {},
   "source": [
    "## Python program to create a random vector of size 10 and sort it."
   ]
  },
  {
   "cell_type": "code",
   "execution_count": 39,
   "id": "102f6087",
   "metadata": {},
   "outputs": [
    {
     "name": "stdout",
     "output_type": "stream",
     "text": [
      "Random vector is....\n",
      "[0.94591679 0.72047851 0.62017091 0.81733029 0.61171003 0.73399117\n",
      " 0.34774478 0.24691938 0.15429297 0.06901006]\n",
      "Sorted array is....\n",
      "[0.06901006 0.15429297 0.24691938 0.34774478 0.61171003 0.62017091\n",
      " 0.72047851 0.73399117 0.81733029 0.94591679]\n"
     ]
    }
   ],
   "source": [
    "arr2 = np.random.random(10)\n",
    "print(\"Random vector is....\")\n",
    "print(arr2)\n",
    "arr2.sort()\n",
    "print('Sorted array is....')\n",
    "print(arr2)"
   ]
  },
  {
   "cell_type": "markdown",
   "id": "edf3d5a1",
   "metadata": {},
   "source": [
    "## Write a Python program to check two random arrays are equal or not."
   ]
  },
  {
   "cell_type": "code",
   "execution_count": 49,
   "id": "7a0bf152",
   "metadata": {},
   "outputs": [
    {
     "name": "stdout",
     "output_type": "stream",
     "text": [
      "Arrays are Not equal\n"
     ]
    }
   ],
   "source": [
    "arr1 = np.random.randint(2,6,10)\n",
    "arr2 = np.random.randint(2,6,10)\n",
    "\n",
    "val = np.allclose(arr1,arr2)\n",
    "if val:\n",
    "    print('Arrays are equal...')\n",
    "else:\n",
    "    print('Arrays are Not equal')"
   ]
  },
  {
   "cell_type": "markdown",
   "id": "30b7ae65",
   "metadata": {},
   "source": [
    "## Write a Python program to add, subtract, multiply, divide arguments element-wise."
   ]
  },
  {
   "cell_type": "code",
   "execution_count": 54,
   "id": "5c7848f6",
   "metadata": {},
   "outputs": [
    {
     "name": "stdout",
     "output_type": "stream",
     "text": [
      "5.1\n",
      "-2.7\n",
      "4.68\n",
      "0.3076923076923077\n"
     ]
    }
   ],
   "source": [
    "add_result = np.add(1.2,3.9)\n",
    "print(add_result)\n",
    "subtract_result = np.subtract(1.2,3.9)\n",
    "print(subtract_result)\n",
    "multiply_result = np.multiply(1.2,3.9)\n",
    "print(multiply_result)\n",
    "divide_result = np.divide(1.2,3.9)\n",
    "print(divide_result)"
   ]
  },
  {
   "cell_type": "markdown",
   "id": "3d7dd6e2",
   "metadata": {},
   "source": [
    "## Write a Python program to get the dates of yesterday, today and tomorrow."
   ]
  },
  {
   "cell_type": "code",
   "execution_count": 63,
   "id": "da72cdc6",
   "metadata": {},
   "outputs": [
    {
     "name": "stdout",
     "output_type": "stream",
     "text": [
      "Today's date is 2022-05-08\n",
      "Yesterday's date is 2022-05-07\n",
      "Tommorow date is 2022-05-09\n"
     ]
    }
   ],
   "source": [
    "today_date = np.datetime64('today')\n",
    "print(f\"Today's date is {today_date}\")\n",
    "yesterday_date = today_date - np.timedelta64(1,'D')\n",
    "print(f\"Yesterday's date is {yesterday_date}\")\n",
    "tommorow_date = today_date + np.timedelta64(1,'D')\n",
    "print(f\"Tommorow date is {tommorow_date}\")"
   ]
  }
 ],
 "metadata": {
  "kernelspec": {
   "display_name": "Python 3 (ipykernel)",
   "language": "python",
   "name": "python3"
  },
  "language_info": {
   "codemirror_mode": {
    "name": "ipython",
    "version": 3
   },
   "file_extension": ".py",
   "mimetype": "text/x-python",
   "name": "python",
   "nbconvert_exporter": "python",
   "pygments_lexer": "ipython3",
   "version": "3.9.7"
  }
 },
 "nbformat": 4,
 "nbformat_minor": 5
}
