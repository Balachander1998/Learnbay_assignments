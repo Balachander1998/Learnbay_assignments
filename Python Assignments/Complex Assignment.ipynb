{
 "cells": [
  {
   "cell_type": "markdown",
   "id": "b789f2f2",
   "metadata": {},
   "source": [
    "###  Declare a complex number and store it in a variable.\n"
   ]
  },
  {
   "cell_type": "code",
   "execution_count": 1,
   "id": "ead97e11",
   "metadata": {},
   "outputs": [],
   "source": [
    "cNum1 = 4+8j"
   ]
  },
  {
   "cell_type": "markdown",
   "id": "da6e3c28",
   "metadata": {},
   "source": [
    "### Check the type and print the id of the same."
   ]
  },
  {
   "cell_type": "code",
   "execution_count": 2,
   "id": "a421e932",
   "metadata": {},
   "outputs": [
    {
     "name": "stdout",
     "output_type": "stream",
     "text": [
      "<class 'complex'>\n",
      "2588648881584\n"
     ]
    }
   ],
   "source": [
    "print(type(cNum1))\n",
    "print(id(cNum1))"
   ]
  },
  {
   "cell_type": "markdown",
   "id": "5bbb5c20",
   "metadata": {},
   "source": [
    "###  Arithmetic Operations on complex number"
   ]
  },
  {
   "cell_type": "markdown",
   "id": "11c64e02",
   "metadata": {},
   "source": [
    "### Take two different complex numbers. Store them in two different variables.\n"
   ]
  },
  {
   "cell_type": "code",
   "execution_count": 5,
   "id": "c338273c",
   "metadata": {},
   "outputs": [],
   "source": [
    "val1 = 8+2j\n",
    "val2 = 6-5j"
   ]
  },
  {
   "cell_type": "markdown",
   "id": "8602de99",
   "metadata": {},
   "source": [
    "### Find sum of both numbers"
   ]
  },
  {
   "cell_type": "code",
   "execution_count": 6,
   "id": "5c8acfb8",
   "metadata": {},
   "outputs": [
    {
     "name": "stdout",
     "output_type": "stream",
     "text": [
      "(14-3j)\n"
     ]
    }
   ],
   "source": [
    "sum = val1+val2\n",
    "print(sum)"
   ]
  },
  {
   "cell_type": "markdown",
   "id": "d73144af",
   "metadata": {},
   "source": [
    "### Find difference between them"
   ]
  },
  {
   "cell_type": "code",
   "execution_count": 7,
   "id": "0f09d3c0",
   "metadata": {},
   "outputs": [
    {
     "name": "stdout",
     "output_type": "stream",
     "text": [
      "(-2-7j)\n"
     ]
    }
   ],
   "source": [
    "difference = val2-val1\n",
    "print(difference)"
   ]
  },
  {
   "cell_type": "markdown",
   "id": "f000b5b6",
   "metadata": {},
   "source": [
    "### Find the product of both numbers."
   ]
  },
  {
   "cell_type": "code",
   "execution_count": 8,
   "id": "1843e1e5",
   "metadata": {},
   "outputs": [
    {
     "name": "stdout",
     "output_type": "stream",
     "text": [
      "(58-28j)\n"
     ]
    }
   ],
   "source": [
    "product = val1*val2\n",
    "print(product)"
   ]
  },
  {
   "cell_type": "markdown",
   "id": "da317025",
   "metadata": {},
   "source": [
    "### Find value after dividing first num with second number"
   ]
  },
  {
   "cell_type": "code",
   "execution_count": 10,
   "id": "ae695764",
   "metadata": {},
   "outputs": [
    {
     "name": "stdout",
     "output_type": "stream",
     "text": [
      "(0.6229508196721311+0.8524590163934427j)\n"
     ]
    }
   ],
   "source": [
    "value = val1/val2\n",
    "print(value)"
   ]
  },
  {
   "cell_type": "markdown",
   "id": "36dfc6e5",
   "metadata": {},
   "source": [
    "### Find the result of the first num to the power of the second number."
   ]
  },
  {
   "cell_type": "code",
   "execution_count": 12,
   "id": "59007dca",
   "metadata": {},
   "outputs": [
    {
     "name": "stdout",
     "output_type": "stream",
     "text": [
      "(0.6229508196721311+0.8524590163934427j)\n"
     ]
    }
   ],
   "source": [
    "result = val1**val2\n",
    "print(value)"
   ]
  },
  {
   "cell_type": "markdown",
   "id": "c8a0e83f",
   "metadata": {},
   "source": [
    "### Comparison Operation not applicable between instance of complex values.\n"
   ]
  },
  {
   "cell_type": "code",
   "execution_count": 16,
   "id": "ac668a0d",
   "metadata": {},
   "outputs": [
    {
     "name": "stdout",
     "output_type": "stream",
     "text": [
      "2588649218288 2588649219216\n"
     ]
    }
   ],
   "source": [
    "a = 3+3j\n",
    "b = 3+3j\n",
    "print(id(a), id(b))  # object resuability concept only applicable for integer class in python and not for other data types"
   ]
  },
  {
   "cell_type": "markdown",
   "id": "693de813",
   "metadata": {},
   "source": [
    "### Equality Operator"
   ]
  },
  {
   "cell_type": "markdown",
   "id": "465a29eb",
   "metadata": {},
   "source": [
    "### Take two different complex numbers. Store them in two different variables.\n",
    "### Equate them using equality operators (==, !=)  Observe the output(return type should be boolean)"
   ]
  },
  {
   "cell_type": "code",
   "execution_count": 19,
   "id": "f5c102b0",
   "metadata": {},
   "outputs": [
    {
     "name": "stdout",
     "output_type": "stream",
     "text": [
      "False\n",
      "True\n"
     ]
    }
   ],
   "source": [
    "val1 = 4+3j\n",
    "val2 = -5+2j\n",
    "print(val1== val2)\n",
    "print(val1!=val2)"
   ]
  },
  {
   "cell_type": "markdown",
   "id": "4d51c2af",
   "metadata": {},
   "source": [
    "### Logical operators"
   ]
  },
  {
   "cell_type": "markdown",
   "id": "99fcb464",
   "metadata": {},
   "source": [
    "### Observe the output of below code Cross check the output manually"
   ]
  },
  {
   "cell_type": "code",
   "execution_count": 20,
   "id": "4543111d",
   "metadata": {},
   "outputs": [
    {
     "name": "stdout",
     "output_type": "stream",
     "text": [
      "(20+30j)\n"
     ]
    }
   ],
   "source": [
    "print(10+20j and 20+30j)"
   ]
  },
  {
   "cell_type": "code",
   "execution_count": 21,
   "id": "16a4f552",
   "metadata": {},
   "outputs": [
    {
     "name": "stdout",
     "output_type": "stream",
     "text": [
      "0j\n"
     ]
    }
   ],
   "source": [
    "print(0+0j and 20+30j)"
   ]
  },
  {
   "cell_type": "code",
   "execution_count": 22,
   "id": "cab2cf6c",
   "metadata": {},
   "outputs": [
    {
     "name": "stdout",
     "output_type": "stream",
     "text": [
      "0j\n"
     ]
    }
   ],
   "source": [
    "print(20+30j and 0+0j)"
   ]
  },
  {
   "cell_type": "code",
   "execution_count": 23,
   "id": "e402fbb6",
   "metadata": {},
   "outputs": [
    {
     "name": "stdout",
     "output_type": "stream",
     "text": [
      "0j\n"
     ]
    }
   ],
   "source": [
    "print(0+0j and 0+0j)"
   ]
  },
  {
   "cell_type": "code",
   "execution_count": 24,
   "id": "a3277145",
   "metadata": {},
   "outputs": [
    {
     "name": "stdout",
     "output_type": "stream",
     "text": [
      "(10+20j)\n"
     ]
    }
   ],
   "source": [
    "print(10+20j or 20+30j)"
   ]
  },
  {
   "cell_type": "code",
   "execution_count": 25,
   "id": "a84dbe30",
   "metadata": {},
   "outputs": [
    {
     "name": "stdout",
     "output_type": "stream",
     "text": [
      "(20+30j)\n"
     ]
    }
   ],
   "source": [
    "print(0+0j or 20+30j) "
   ]
  },
  {
   "cell_type": "code",
   "execution_count": 26,
   "id": "e6951098",
   "metadata": {},
   "outputs": [
    {
     "name": "stdout",
     "output_type": "stream",
     "text": [
      "(20+30j)\n"
     ]
    }
   ],
   "source": [
    "print(20+30j or 0+0j) "
   ]
  },
  {
   "cell_type": "code",
   "execution_count": 27,
   "id": "b641e39e",
   "metadata": {},
   "outputs": [
    {
     "name": "stdout",
     "output_type": "stream",
     "text": [
      "0j\n"
     ]
    }
   ],
   "source": [
    "print(0+0j or 0+0j) "
   ]
  },
  {
   "cell_type": "code",
   "execution_count": 28,
   "id": "0d53ed55",
   "metadata": {},
   "outputs": [
    {
     "name": "stdout",
     "output_type": "stream",
     "text": [
      "False\n"
     ]
    }
   ],
   "source": [
    "print(not 10+20j) "
   ]
  },
  {
   "cell_type": "code",
   "execution_count": 29,
   "id": "f1e512d9",
   "metadata": {},
   "outputs": [
    {
     "name": "stdout",
     "output_type": "stream",
     "text": [
      "True\n"
     ]
    }
   ],
   "source": [
    "print(not 0+0j) "
   ]
  },
  {
   "cell_type": "markdown",
   "id": "0d343637",
   "metadata": {},
   "source": [
    "### What is the output of the expression inside the print statement.  Cross check before running the program."
   ]
  },
  {
   "cell_type": "code",
   "execution_count": 30,
   "id": "2bc60e15",
   "metadata": {},
   "outputs": [
    {
     "name": "stdout",
     "output_type": "stream",
     "text": [
      "False\n",
      "True\n"
     ]
    }
   ],
   "source": [
    "a = 10+20j\n",
    "b = 10+20j\n",
    "print(a is b)\n",
    "print(a is not b)"
   ]
  },
  {
   "cell_type": "markdown",
   "id": "1b4a68aa",
   "metadata": {},
   "source": [
    "### Membership operation"
   ]
  },
  {
   "cell_type": "code",
   "execution_count": 31,
   "id": "643eaa7c",
   "metadata": {},
   "outputs": [
    {
     "name": "stdout",
     "output_type": "stream",
     "text": [
      "True\n"
     ]
    }
   ],
   "source": [
    "print('2.7' in 'Python2.7.8') "
   ]
  },
  {
   "cell_type": "code",
   "execution_count": 38,
   "id": "f9656123",
   "metadata": {},
   "outputs": [
    {
     "name": "stdout",
     "output_type": "stream",
     "text": [
      "True\n"
     ]
    }
   ],
   "source": [
    "print(10+20j in [10,10.20,10+20j,'Python'])"
   ]
  },
  {
   "cell_type": "code",
   "execution_count": 33,
   "id": "a659e83a",
   "metadata": {},
   "outputs": [
    {
     "name": "stdout",
     "output_type": "stream",
     "text": [
      "True\n"
     ]
    }
   ],
   "source": [
    "print(10+20j in (10,10.20,10+20j,'Python'))"
   ]
  },
  {
   "cell_type": "code",
   "execution_count": 34,
   "id": "504a26fe",
   "metadata": {},
   "outputs": [
    {
     "name": "stdout",
     "output_type": "stream",
     "text": [
      "True\n"
     ]
    }
   ],
   "source": [
    "print(30+40j in {1,20.30,30+40j}) "
   ]
  },
  {
   "cell_type": "code",
   "execution_count": 35,
   "id": "edb74d56",
   "metadata": {},
   "outputs": [
    {
     "name": "stdout",
     "output_type": "stream",
     "text": [
      "True\n"
     ]
    }
   ],
   "source": [
    "print(30+40j in {1:100, 2.3:200, 30+40j:300}) "
   ]
  },
  {
   "cell_type": "code",
   "execution_count": 36,
   "id": "1d15f393",
   "metadata": {},
   "outputs": [
    {
     "name": "stdout",
     "output_type": "stream",
     "text": [
      "True\n"
     ]
    }
   ],
   "source": [
    "print(10 in range(20))"
   ]
  },
  {
   "cell_type": "code",
   "execution_count": null,
   "id": "a4e093db",
   "metadata": {},
   "outputs": [],
   "source": []
  }
 ],
 "metadata": {
  "kernelspec": {
   "display_name": "Python 3 (ipykernel)",
   "language": "python",
   "name": "python3"
  },
  "language_info": {
   "codemirror_mode": {
    "name": "ipython",
    "version": 3
   },
   "file_extension": ".py",
   "mimetype": "text/x-python",
   "name": "python",
   "nbconvert_exporter": "python",
   "pygments_lexer": "ipython3",
   "version": "3.9.7"
  }
 },
 "nbformat": 4,
 "nbformat_minor": 5
}
