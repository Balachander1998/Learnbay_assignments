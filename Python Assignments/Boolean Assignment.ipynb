{
 "cells": [
  {
   "cell_type": "markdown",
   "id": "2511636c",
   "metadata": {},
   "source": [
    "### Declare a boolean value and store it in a variable."
   ]
  },
  {
   "cell_type": "code",
   "execution_count": 2,
   "id": "436b3af1",
   "metadata": {},
   "outputs": [],
   "source": [
    "boolVal = True"
   ]
  },
  {
   "cell_type": "markdown",
   "id": "dacb6545",
   "metadata": {},
   "source": [
    "### Check the type and print the id of the same."
   ]
  },
  {
   "cell_type": "code",
   "execution_count": 4,
   "id": "5fb7fb2a",
   "metadata": {},
   "outputs": [
    {
     "name": "stdout",
     "output_type": "stream",
     "text": [
      "<class 'bool'>\n",
      "140709680207976\n"
     ]
    }
   ],
   "source": [
    "print(type(boolVal))\n",
    "print(id(boolVal))"
   ]
  },
  {
   "cell_type": "markdown",
   "id": "a6560448",
   "metadata": {},
   "source": [
    "### Assign it to two different variables."
   ]
  },
  {
   "cell_type": "code",
   "execution_count": 6,
   "id": "59782878",
   "metadata": {},
   "outputs": [
    {
     "name": "stdout",
     "output_type": "stream",
     "text": [
      "140709680207976 140709680207976\n"
     ]
    }
   ],
   "source": [
    "val1 = True\n",
    "val2 = True\n",
    "print(id(val1), id(val2))"
   ]
  },
  {
   "cell_type": "markdown",
   "id": "e0ed5d77",
   "metadata": {},
   "source": [
    "### Arithmetic Operations on boolean data"
   ]
  },
  {
   "cell_type": "markdown",
   "id": "2db4a416",
   "metadata": {},
   "source": [
    "### Find sum of both values"
   ]
  },
  {
   "cell_type": "code",
   "execution_count": 8,
   "id": "660955ce",
   "metadata": {},
   "outputs": [
    {
     "name": "stdout",
     "output_type": "stream",
     "text": [
      "2\n"
     ]
    }
   ],
   "source": [
    "val1 = True\n",
    "val2 = False\n",
    "print(val1+val2)"
   ]
  },
  {
   "cell_type": "markdown",
   "id": "cb31db3d",
   "metadata": {},
   "source": [
    "### Find difference between them"
   ]
  },
  {
   "cell_type": "code",
   "execution_count": 10,
   "id": "5a0901aa",
   "metadata": {},
   "outputs": [
    {
     "name": "stdout",
     "output_type": "stream",
     "text": [
      "0\n"
     ]
    }
   ],
   "source": [
    "print(val2-val1)"
   ]
  },
  {
   "cell_type": "markdown",
   "id": "3cd93567",
   "metadata": {},
   "source": [
    "### Find the product of both."
   ]
  },
  {
   "cell_type": "code",
   "execution_count": 11,
   "id": "e321abaa",
   "metadata": {},
   "outputs": [
    {
     "name": "stdout",
     "output_type": "stream",
     "text": [
      "1\n"
     ]
    }
   ],
   "source": [
    "print(val1*val2)"
   ]
  },
  {
   "cell_type": "markdown",
   "id": "0ceffe94",
   "metadata": {},
   "source": [
    "### Find value after dividing first value with second value"
   ]
  },
  {
   "cell_type": "code",
   "execution_count": 12,
   "id": "40051d44",
   "metadata": {},
   "outputs": [
    {
     "name": "stdout",
     "output_type": "stream",
     "text": [
      "1.0\n"
     ]
    }
   ],
   "source": [
    "value = val1/val2\n",
    "print(value)"
   ]
  },
  {
   "cell_type": "markdown",
   "id": "bb6e648d",
   "metadata": {},
   "source": [
    "### Find the remainder after dividing first value with second value"
   ]
  },
  {
   "cell_type": "code",
   "execution_count": 14,
   "id": "9ca99e12",
   "metadata": {},
   "outputs": [
    {
     "name": "stdout",
     "output_type": "stream",
     "text": [
      "0\n"
     ]
    }
   ],
   "source": [
    "remainder = val1%val2\n",
    "print(remainder)"
   ]
  },
  {
   "cell_type": "code",
   "execution_count": 15,
   "id": "6617a87a",
   "metadata": {},
   "outputs": [
    {
     "name": "stdout",
     "output_type": "stream",
     "text": [
      "1.0\n"
     ]
    }
   ],
   "source": [
    "quotient = val1/val2\n",
    "print(quotient)"
   ]
  },
  {
   "cell_type": "markdown",
   "id": "918f585b",
   "metadata": {},
   "source": [
    "### Find the result of first value to the power of second value."
   ]
  },
  {
   "cell_type": "code",
   "execution_count": 16,
   "id": "54e9b0d2",
   "metadata": {},
   "outputs": [
    {
     "name": "stdout",
     "output_type": "stream",
     "text": [
      "1\n"
     ]
    }
   ],
   "source": [
    "result = val1**val2\n",
    "print(result)"
   ]
  },
  {
   "cell_type": "markdown",
   "id": "8f6e97b2",
   "metadata": {},
   "source": [
    "### Comparison Operators on boolean values Take two different boolean values. Store them in two different variables."
   ]
  },
  {
   "cell_type": "markdown",
   "id": "0271b684",
   "metadata": {},
   "source": [
    "### Greater than, '>'"
   ]
  },
  {
   "cell_type": "code",
   "execution_count": 17,
   "id": "6941bd38",
   "metadata": {},
   "outputs": [
    {
     "name": "stdout",
     "output_type": "stream",
     "text": [
      "False\n"
     ]
    }
   ],
   "source": [
    "print(val1>val2)"
   ]
  },
  {
   "cell_type": "markdown",
   "id": "16c0e685",
   "metadata": {},
   "source": [
    "### less than, '<'"
   ]
  },
  {
   "cell_type": "code",
   "execution_count": 18,
   "id": "d6697b74",
   "metadata": {},
   "outputs": [
    {
     "name": "stdout",
     "output_type": "stream",
     "text": [
      "False\n"
     ]
    }
   ],
   "source": [
    "print(val1<val2)"
   ]
  },
  {
   "cell_type": "markdown",
   "id": "69aee809",
   "metadata": {},
   "source": [
    "### Greater than or equal to, '>='"
   ]
  },
  {
   "cell_type": "code",
   "execution_count": 19,
   "id": "036d8a0a",
   "metadata": {},
   "outputs": [
    {
     "name": "stdout",
     "output_type": "stream",
     "text": [
      "True\n"
     ]
    }
   ],
   "source": [
    "print(val1>=val2)"
   ]
  },
  {
   "cell_type": "markdown",
   "id": "36f28812",
   "metadata": {},
   "source": [
    "### Less than or equal to, '<='"
   ]
  },
  {
   "cell_type": "code",
   "execution_count": 20,
   "id": "dddb7112",
   "metadata": {},
   "outputs": [
    {
     "name": "stdout",
     "output_type": "stream",
     "text": [
      "True\n"
     ]
    }
   ],
   "source": [
    "print(val1<=val2)"
   ]
  },
  {
   "cell_type": "markdown",
   "id": "0f1bf865",
   "metadata": {},
   "source": [
    "### Equality Operator"
   ]
  },
  {
   "cell_type": "markdown",
   "id": "f39ca4a8",
   "metadata": {},
   "source": [
    "### Take two different boolean values. Store them in two different variables.\n",
    "### Equate them using equality operators (==, !=)\n"
   ]
  },
  {
   "cell_type": "code",
   "execution_count": 21,
   "id": "5bebb497",
   "metadata": {},
   "outputs": [
    {
     "name": "stdout",
     "output_type": "stream",
     "text": [
      "False\n",
      "True\n"
     ]
    }
   ],
   "source": [
    "val1 = True\n",
    "val2 = False\n",
    "print(val1 == val2)\n",
    "print(val1 != val2)"
   ]
  },
  {
   "cell_type": "markdown",
   "id": "0265102a",
   "metadata": {},
   "source": [
    "### Logical operators\n",
    "### Observe the output of below code Cross check the output manually"
   ]
  },
  {
   "cell_type": "code",
   "execution_count": 22,
   "id": "1219a247",
   "metadata": {},
   "outputs": [
    {
     "name": "stdout",
     "output_type": "stream",
     "text": [
      "True\n"
     ]
    }
   ],
   "source": [
    "print(True and True)"
   ]
  },
  {
   "cell_type": "code",
   "execution_count": 23,
   "id": "5a09520f",
   "metadata": {},
   "outputs": [
    {
     "name": "stdout",
     "output_type": "stream",
     "text": [
      "False\n"
     ]
    }
   ],
   "source": [
    "print(False and True)"
   ]
  },
  {
   "cell_type": "code",
   "execution_count": 24,
   "id": "c9cae551",
   "metadata": {},
   "outputs": [
    {
     "name": "stdout",
     "output_type": "stream",
     "text": [
      "False\n"
     ]
    }
   ],
   "source": [
    "print(True and False)"
   ]
  },
  {
   "cell_type": "code",
   "execution_count": 25,
   "id": "dbb6f0c5",
   "metadata": {},
   "outputs": [
    {
     "name": "stdout",
     "output_type": "stream",
     "text": [
      "False\n"
     ]
    }
   ],
   "source": [
    "print(False and False)"
   ]
  },
  {
   "cell_type": "code",
   "execution_count": 26,
   "id": "7e476a83",
   "metadata": {},
   "outputs": [
    {
     "name": "stdout",
     "output_type": "stream",
     "text": [
      "True\n"
     ]
    }
   ],
   "source": [
    "print(True or True)"
   ]
  },
  {
   "cell_type": "code",
   "execution_count": 27,
   "id": "a7723fe2",
   "metadata": {},
   "outputs": [
    {
     "name": "stdout",
     "output_type": "stream",
     "text": [
      "True\n"
     ]
    }
   ],
   "source": [
    "print(False or True)"
   ]
  },
  {
   "cell_type": "code",
   "execution_count": 28,
   "id": "ade34614",
   "metadata": {},
   "outputs": [
    {
     "name": "stdout",
     "output_type": "stream",
     "text": [
      "True\n"
     ]
    }
   ],
   "source": [
    "print(True or False)"
   ]
  },
  {
   "cell_type": "code",
   "execution_count": 29,
   "id": "88d01afb",
   "metadata": {},
   "outputs": [
    {
     "name": "stdout",
     "output_type": "stream",
     "text": [
      "False\n"
     ]
    }
   ],
   "source": [
    "print(False or False)"
   ]
  },
  {
   "cell_type": "code",
   "execution_count": 30,
   "id": "6ad8cdb5",
   "metadata": {},
   "outputs": [
    {
     "name": "stdout",
     "output_type": "stream",
     "text": [
      "False\n"
     ]
    }
   ],
   "source": [
    "print(not True)"
   ]
  },
  {
   "cell_type": "code",
   "execution_count": 31,
   "id": "65708058",
   "metadata": {},
   "outputs": [
    {
     "name": "stdout",
     "output_type": "stream",
     "text": [
      "True\n"
     ]
    }
   ],
   "source": [
    "print(not False)"
   ]
  },
  {
   "cell_type": "markdown",
   "id": "de31afd5",
   "metadata": {},
   "source": [
    "### Bitwise operators"
   ]
  },
  {
   "cell_type": "markdown",
   "id": "1c286fbc",
   "metadata": {},
   "source": [
    "### Bitwise and(&)"
   ]
  },
  {
   "cell_type": "code",
   "execution_count": 32,
   "id": "6a7ffcdf",
   "metadata": {},
   "outputs": [
    {
     "name": "stdout",
     "output_type": "stream",
     "text": [
      "True\n"
     ]
    }
   ],
   "source": [
    "print(True & True)"
   ]
  },
  {
   "cell_type": "markdown",
   "id": "e6119100",
   "metadata": {},
   "source": [
    "### Bitwise or(|)"
   ]
  },
  {
   "cell_type": "code",
   "execution_count": 33,
   "id": "22a8d626",
   "metadata": {},
   "outputs": [
    {
     "name": "stdout",
     "output_type": "stream",
     "text": [
      "True\n"
     ]
    }
   ],
   "source": [
    "print(True | False)"
   ]
  },
  {
   "cell_type": "markdown",
   "id": "596eea5c",
   "metadata": {},
   "source": [
    "### Bitwise(^)"
   ]
  },
  {
   "cell_type": "code",
   "execution_count": 34,
   "id": "a0419865",
   "metadata": {},
   "outputs": [
    {
     "name": "stdout",
     "output_type": "stream",
     "text": [
      "True\n"
     ]
    }
   ],
   "source": [
    "print(True ^ False)"
   ]
  },
  {
   "cell_type": "markdown",
   "id": "530b48fd",
   "metadata": {},
   "source": [
    "### Bitwise negation(~)"
   ]
  },
  {
   "cell_type": "code",
   "execution_count": 35,
   "id": "9be58e69",
   "metadata": {},
   "outputs": [
    {
     "name": "stdout",
     "output_type": "stream",
     "text": [
      "-2\n"
     ]
    }
   ],
   "source": [
    "print(~True)"
   ]
  },
  {
   "cell_type": "markdown",
   "id": "274070ac",
   "metadata": {},
   "source": [
    "### Bitwise leftshift (<<)"
   ]
  },
  {
   "cell_type": "code",
   "execution_count": 38,
   "id": "2a554275",
   "metadata": {},
   "outputs": [
    {
     "name": "stdout",
     "output_type": "stream",
     "text": [
      "4\n"
     ]
    }
   ],
   "source": [
    "print(True<<2)"
   ]
  },
  {
   "cell_type": "markdown",
   "id": "2df9c8d2",
   "metadata": {},
   "source": [
    "### Bitwise right shift(>>)"
   ]
  },
  {
   "cell_type": "code",
   "execution_count": 39,
   "id": "d6644ad7",
   "metadata": {},
   "outputs": [
    {
     "name": "stdout",
     "output_type": "stream",
     "text": [
      "0\n"
     ]
    }
   ],
   "source": [
    "print(True>>2)"
   ]
  },
  {
   "cell_type": "markdown",
   "id": "f5f5320c",
   "metadata": {},
   "source": [
    "### What is the output of expression inside the print statement. Cross check before running the program."
   ]
  },
  {
   "cell_type": "code",
   "execution_count": 41,
   "id": "fba44e68",
   "metadata": {},
   "outputs": [
    {
     "name": "stdout",
     "output_type": "stream",
     "text": [
      "True\n",
      "False\n"
     ]
    }
   ],
   "source": [
    "a=True\n",
    "b=True\n",
    "print(a is b)\n",
    "print(a is not b)"
   ]
  },
  {
   "cell_type": "code",
   "execution_count": 42,
   "id": "ffa5066d",
   "metadata": {},
   "outputs": [
    {
     "name": "stdout",
     "output_type": "stream",
     "text": [
      "True\n",
      "False\n"
     ]
    }
   ],
   "source": [
    "a = False\n",
    "b = False\n",
    "print(a is b)\n",
    "print(a is not b)"
   ]
  },
  {
   "cell_type": "markdown",
   "id": "090a6ddd",
   "metadata": {},
   "source": [
    "### Membership operation"
   ]
  },
  {
   "cell_type": "code",
   "execution_count": 43,
   "id": "276e2ee5",
   "metadata": {},
   "outputs": [
    {
     "name": "stdout",
     "output_type": "stream",
     "text": [
      "True\n"
     ]
    }
   ],
   "source": [
    "print(True in [10,10.20,10+20j,'Python', True])"
   ]
  },
  {
   "cell_type": "code",
   "execution_count": 44,
   "id": "7cfb55cf",
   "metadata": {},
   "outputs": [
    {
     "name": "stdout",
     "output_type": "stream",
     "text": [
      "True\n"
     ]
    }
   ],
   "source": [
    "print(False in (10,10.20,10+20j,'Python', False))"
   ]
  },
  {
   "cell_type": "code",
   "execution_count": 45,
   "id": "506922ca",
   "metadata": {},
   "outputs": [
    {
     "name": "stdout",
     "output_type": "stream",
     "text": [
      "True\n"
     ]
    }
   ],
   "source": [
    "print(True in {1,2,3, True})"
   ]
  },
  {
   "cell_type": "code",
   "execution_count": 46,
   "id": "8496b780",
   "metadata": {},
   "outputs": [
    {
     "name": "stdout",
     "output_type": "stream",
     "text": [
      "True\n"
     ]
    }
   ],
   "source": [
    "print(True in {True:100, False:200, True:300})"
   ]
  },
  {
   "cell_type": "code",
   "execution_count": 47,
   "id": "bd514337",
   "metadata": {},
   "outputs": [
    {
     "name": "stdout",
     "output_type": "stream",
     "text": [
      "True\n"
     ]
    }
   ],
   "source": [
    "print(False in {True:100, False:200, True:300})"
   ]
  }
 ],
 "metadata": {
  "kernelspec": {
   "display_name": "Python 3 (ipykernel)",
   "language": "python",
   "name": "python3"
  },
  "language_info": {
   "codemirror_mode": {
    "name": "ipython",
    "version": 3
   },
   "file_extension": ".py",
   "mimetype": "text/x-python",
   "name": "python",
   "nbconvert_exporter": "python",
   "pygments_lexer": "ipython3",
   "version": "3.9.7"
  }
 },
 "nbformat": 4,
 "nbformat_minor": 5
}
