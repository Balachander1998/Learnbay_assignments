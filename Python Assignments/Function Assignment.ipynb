{
 "cells": [
  {
   "cell_type": "markdown",
   "id": "d15cff19",
   "metadata": {},
   "source": [
    "## Define a function calls addNumber(x, y) that takes in two number and returns the sum of the two numbers."
   ]
  },
  {
   "cell_type": "code",
   "execution_count": 1,
   "id": "00255b55",
   "metadata": {},
   "outputs": [
    {
     "name": "stdout",
     "output_type": "stream",
     "text": [
      "50\n"
     ]
    }
   ],
   "source": [
    "def addNumber(x,y):\n",
    "    return x+y\n",
    "print(addNumber(25,25))"
   ]
  },
  {
   "cell_type": "markdown",
   "id": "4c2ebe14",
   "metadata": {},
   "source": [
    "## Define a function calls subtractNumber(x, y) that takes in two numbers and returns the difference of the two numbers."
   ]
  },
  {
   "cell_type": "code",
   "execution_count": 2,
   "id": "b38d543b",
   "metadata": {},
   "outputs": [
    {
     "name": "stdout",
     "output_type": "stream",
     "text": [
      "25\n"
     ]
    }
   ],
   "source": [
    "def subtractNumber(x,y):\n",
    "    return x-y\n",
    "print(subtractNumber(50,25))"
   ]
  },
  {
   "cell_type": "markdown",
   "id": "692ad382",
   "metadata": {},
   "source": [
    "## Write a function getBiggerNumber(x, y) that takes in two numbers as arguments and returns the bigger number."
   ]
  },
  {
   "cell_type": "code",
   "execution_count": 5,
   "id": "43386fa0",
   "metadata": {},
   "outputs": [
    {
     "name": "stdout",
     "output_type": "stream",
     "text": [
      "4\n"
     ]
    }
   ],
   "source": [
    "def getBiggerNumber(x,y):\n",
    "    return x if(x>y) else y\n",
    "print(getBiggerNumber(1,4))"
   ]
  },
  {
   "cell_type": "markdown",
   "id": "0d455e48",
   "metadata": {},
   "source": [
    "## Python provides many built-in modules with many useful functions. One such module is the math module. \n",
    "### The math module provides many useful functions such as sqrt(x), pow(x, y), ceil(x), floor(x) etc. \n",
    "### You will need to do a \"import math\" before you are allowed to use the functions within the math module."
   ]
  },
  {
   "cell_type": "code",
   "execution_count": 9,
   "id": "0a0d7901",
   "metadata": {},
   "outputs": [
    {
     "name": "stdout",
     "output_type": "stream",
     "text": [
      "4.0\n"
     ]
    }
   ],
   "source": [
    "# Calculate the square root of 16 and stores it in the variable a\n",
    "import math as m\n",
    "a = m.sqrt(16)\n",
    "print(a)"
   ]
  },
  {
   "cell_type": "code",
   "execution_count": 10,
   "id": "dd7559bf",
   "metadata": {},
   "outputs": [
    {
     "name": "stdout",
     "output_type": "stream",
     "text": [
      "243.0\n"
     ]
    }
   ],
   "source": [
    "# Calculate 3 to the power of 5 and stores it in the variable b\n",
    "b = m.pow(3,5)\n",
    "print(b)"
   ]
  },
  {
   "cell_type": "code",
   "execution_count": 11,
   "id": "c5ce1222",
   "metadata": {},
   "outputs": [
    {
     "name": "stdout",
     "output_type": "stream",
     "text": [
      "28.274333882308138\n"
     ]
    }
   ],
   "source": [
    "# Calculate area of circle with radius = 3.0 by making use of the math.pi constant and store it in the variable c\n",
    "# area of circle is pi*r*r\n",
    "def areaOfCircle(radius):\n",
    "    return m.pi*radius*radius\n",
    "c = areaOfCircle(3.0)\n",
    "print(c)"
   ]
  },
  {
   "cell_type": "markdown",
   "id": "962b32e8",
   "metadata": {},
   "source": [
    "## Write a function to convert temperature from Celsius to Fahrenheit scale.\n",
    "### oC to oF Conversion: Multipy by 9, then divide by 5, then add 32.\n",
    "#### Note: Return a string of 2 decimal places.\n",
    "#### In - Cel2Fah(28.0)\n",
    "#### Out - '82.40'\n",
    "#### In - Cel2Fah(0.00)\n",
    "#### Out - '32.00'"
   ]
  },
  {
   "cell_type": "code",
   "execution_count": 31,
   "id": "8fbdd6ef",
   "metadata": {},
   "outputs": [
    {
     "name": "stdout",
     "output_type": "stream",
     "text": [
      "82.40\n",
      "32.00\n"
     ]
    }
   ],
   "source": [
    "def Cel2Fah(celsius):\n",
    "    f = '{:.2f}'.format((celsius*9)/5 + 32)\n",
    "    return f\n",
    "farenheit = Cel2Fah(28.0)\n",
    "print(farenheit)\n",
    "farenheit = Cel2Fah(0.00)\n",
    "print(farenheit)"
   ]
  },
  {
   "cell_type": "markdown",
   "id": "488d7aba",
   "metadata": {},
   "source": [
    "### Write a function to compute the BMI of a person.\n",
    "####     BMI = weight(kg)  /  ( height(m)*height(m) )\n",
    "\n",
    "### Note: Return a string of 1 decimal place.\n",
    "#### In - BMI(63, 1.7)\n",
    "#### Out - '21.8'\n",
    "#### In - BMI(110, 2)\n",
    "#### Out - '27.5'"
   ]
  },
  {
   "cell_type": "code",
   "execution_count": 42,
   "id": "96fde074",
   "metadata": {},
   "outputs": [
    {
     "name": "stdout",
     "output_type": "stream",
     "text": [
      "21.8\n",
      "27.5\n"
     ]
    }
   ],
   "source": [
    "def BMI(weight, height):\n",
    "    BMI = str(round(weight/(height*height),2))\n",
    "    return BMI\n",
    "print(BMI(63,1.7))\n",
    "print(BMI(110,2))"
   ]
  },
  {
   "cell_type": "markdown",
   "id": "68ec99fc",
   "metadata": {},
   "source": [
    "## Write a function percent(value, total) that takes in two numbers as arguments, and returns the percentage value as an integer.\n",
    "#### In - percent(46, 90)\n",
    "#### Out - 51\n",
    "#### In - percent(51, 51)\n",
    "#### Out - 100\n",
    "#### In - percent(63, 12)\n",
    "#### Out - 525"
   ]
  },
  {
   "cell_type": "code",
   "execution_count": 45,
   "id": "128af604",
   "metadata": {},
   "outputs": [
    {
     "name": "stdout",
     "output_type": "stream",
     "text": [
      "51\n",
      "100\n",
      "525\n"
     ]
    }
   ],
   "source": [
    "def percent(value, total):\n",
    "    return int((value/total)*100)\n",
    "print(percent(46,90))\n",
    "print(percent(51,51))\n",
    "print(percent(63,12))"
   ]
  },
  {
   "cell_type": "markdown",
   "id": "4fac6814",
   "metadata": {},
   "source": [
    "## Write a function to compute the hypotenuse given sides a and b of the triangle.\n",
    "### Hint: You can use math.sqrt(x) to compute the square root of x.\n",
    "#### In - hypotenuse(3, 4)\n",
    "#### Out - 5\n",
    "#### In - hypotenuse(5, 12)\n",
    "#### Out - 13"
   ]
  },
  {
   "cell_type": "code",
   "execution_count": 48,
   "id": "16a88c24",
   "metadata": {},
   "outputs": [
    {
     "name": "stdout",
     "output_type": "stream",
     "text": [
      "5\n",
      "13\n"
     ]
    }
   ],
   "source": [
    "def hypotenuse(a,b):\n",
    "    # Using Pythogras theorm c**2 = sqrt(a**2 +b**2)\n",
    "    return int(m.sqrt((a**2)+(b**2)))\n",
    "print(hypotenuse(3,4))\n",
    "print(hypotenuse(5,12))"
   ]
  },
  {
   "cell_type": "markdown",
   "id": "8203af50",
   "metadata": {},
   "source": [
    "## Write a function getSumOfLastDigits() that takes in a list of positive numbers and returns the sum of all the last digits in the list.\n",
    "#### getSumOfLastDigits([2, 3, 4])\n",
    "#### 9\n",
    "#### getSumOfLastDigits([1, 23, 456])\n",
    "#### 10"
   ]
  },
  {
   "cell_type": "code",
   "execution_count": 50,
   "id": "9292cf2a",
   "metadata": {},
   "outputs": [
    {
     "name": "stdout",
     "output_type": "stream",
     "text": [
      "9\n",
      "10\n"
     ]
    }
   ],
   "source": [
    "def sumOfLastDigits(inputList):\n",
    "    result = 0\n",
    "    for val in inputList:\n",
    "        if(val<10):\n",
    "            result = result+val\n",
    "        else:\n",
    "            strVal = str(val)\n",
    "            result = result + int(strVal[-1])\n",
    "    return result\n",
    "print(sumOfLastDigits([2,3,4]))\n",
    "print(sumOfLastDigits([1,23,456]))    "
   ]
  },
  {
   "cell_type": "markdown",
   "id": "5b21d645",
   "metadata": {},
   "source": [
    "## Write a function that uses a default value.\n",
    "#### In - introduce('Lim', 20)\n",
    "#### Out - 'My name is Lim. I am 20 years old.'\n",
    "#### In - introduce('Ahmad')\n",
    "#### Out - 'My name is Ahmad. My age is secret.'"
   ]
  },
  {
   "cell_type": "code",
   "execution_count": 1,
   "id": "a3661be8",
   "metadata": {},
   "outputs": [
    {
     "name": "stdout",
     "output_type": "stream",
     "text": [
      "My name is Bala. My age is 24\n",
      "My name is Lim. My age is 20\n",
      "My name is Ahmad. My age is secret\n"
     ]
    }
   ],
   "source": [
    "def introduce(name, age = 'secret'):\n",
    "    if(age == 'secret'):\n",
    "        return f'My name is {name}. My age is {age}'\n",
    "    return f'My name is {name}. My age is {age}'\n",
    "print(introduce('Bala',24))\n",
    "print(introduce('Lim',20))\n",
    "print(introduce('Ahmad'))"
   ]
  },
  {
   "cell_type": "markdown",
   "id": "9c62fbc7",
   "metadata": {},
   "source": [
    "## Write a function isEquilateral(x, y, z) that accepts the 3 sides of a triangle as arguments. \n",
    "### The program should return True if it is an equilateral triangle.\n",
    "\n",
    "#### In - isEquilateral(2, 4, 3)\n",
    "#### False - False\n",
    "#### In - isEquilateral(3, 3, 3)\n",
    "#### Out - True\n",
    "#### In - isEquilateral(-3, -3, -3)\n",
    "#### Out - False"
   ]
  },
  {
   "cell_type": "code",
   "execution_count": 7,
   "id": "b32d2814",
   "metadata": {},
   "outputs": [
    {
     "name": "stdout",
     "output_type": "stream",
     "text": [
      "False\n",
      "True\n",
      "False\n"
     ]
    }
   ],
   "source": [
    "def isEquilateral(sideA, sideB, sideC):\n",
    "    if(sideA == sideB and sideB == sideC and sideC == sideA):\n",
    "        if sideA <0:\n",
    "            return False\n",
    "        return True\n",
    "    else:\n",
    "        return False\n",
    "print(isEquilateral(2,4,3))\n",
    "print(isEquilateral(3,3,3))\n",
    "print(isEquilateral(-3,-3,-3))"
   ]
  },
  {
   "cell_type": "markdown",
   "id": "1cb768f7",
   "metadata": {},
   "source": [
    "## For a quadratic equation in the form of ax2+bx+c, the discriminant, D is b2-4ac. Write a function to compute the discriminant, D.\n",
    "#### In - quadratic(1, 2, 3)\n",
    "#### Out - 'The discriminant is -8.'\n",
    "#### In - quadratic(1, 3, 2)\n",
    "#### Out - 'The discriminant is 1.'\n",
    "#### In - quadratic(1, 4, 4)\n",
    "#### Out - 'The discriminant is 0.'"
   ]
  },
  {
   "cell_type": "code",
   "execution_count": 14,
   "id": "86b81de2",
   "metadata": {},
   "outputs": [
    {
     "name": "stdout",
     "output_type": "stream",
     "text": [
      " The discriminant is... -8\n",
      " The discriminant is... 1\n",
      " The discriminant is... 0\n"
     ]
    }
   ],
   "source": [
    "def quadratic(a,b,c):\n",
    "    return (b**2)-4*(a*c)\n",
    "print(f' The discriminant is... {quadratic(1,2,3)}')\n",
    "print(f' The discriminant is... {quadratic(1,3,2)}')\n",
    "print(f' The discriminant is... {quadratic(1,4,4)}')"
   ]
  },
  {
   "cell_type": "markdown",
   "id": "693ca9e9",
   "metadata": {},
   "source": [
    "## Define a function calls addFirstAndLast(x) that takes in a list of numbers and returns the sum of the first and last numbers.\n",
    "#### In - addFirstAndLast([])\n",
    "#### Out - 0\n",
    "#### In - addFirstAndLast([2, 7, 3])\n",
    "#### Out - 5\n",
    "#### In - addFirstAndLast([10])\n",
    "#### Out - 10"
   ]
  },
  {
   "cell_type": "code",
   "execution_count": 20,
   "id": "967f8c70",
   "metadata": {},
   "outputs": [
    {
     "name": "stdout",
     "output_type": "stream",
     "text": [
      "0\n",
      "5\n",
      "10\n"
     ]
    }
   ],
   "source": [
    "def addFirstAndLast(inputList):\n",
    "    if(len(inputList) == 0):\n",
    "        result = 0\n",
    "    elif(len(inputList) == 1):\n",
    "        result = inputList[0]\n",
    "    else:\n",
    "        result = inputList[0] + inputList[-1]\n",
    "        \n",
    "    return result\n",
    "print(addFirstAndLast([]))\n",
    "print(addFirstAndLast([2,7,3]))\n",
    "print(addFirstAndLast([10]))"
   ]
  },
  {
   "cell_type": "markdown",
   "id": "9740d7b8",
   "metadata": {},
   "source": [
    "## Complete the 'lambda' expression so that it returns True if the argument is an even number, and False otherwise.\n",
    "### (lambda num : ---------------------------------------)(6)"
   ]
  },
  {
   "cell_type": "code",
   "execution_count": 25,
   "id": "32622bfb",
   "metadata": {},
   "outputs": [
    {
     "data": {
      "text/plain": [
       "True"
      ]
     },
     "execution_count": 25,
     "metadata": {},
     "output_type": "execute_result"
    }
   ],
   "source": [
    "(lambda num : num%2==0)(6)"
   ]
  },
  {
   "cell_type": "markdown",
   "id": "b62924f5",
   "metadata": {},
   "source": [
    "## Get the documentation of below function"
   ]
  },
  {
   "cell_type": "code",
   "execution_count": 26,
   "id": "bd64f69e",
   "metadata": {},
   "outputs": [
    {
     "name": "stdout",
     "output_type": "stream",
     "text": [
      "Help on function getScore in module __main__:\n",
      "\n",
      "getScore()\n",
      "    'A function that computes and returns the final score.\n",
      "\n",
      "None\n"
     ]
    }
   ],
   "source": [
    "def getScore():\n",
    "  ''''A function that computes and returns the final score.'''\n",
    "  pass\n",
    "print(help(getScore))"
   ]
  },
  {
   "cell_type": "markdown",
   "id": "8b952bc0",
   "metadata": {},
   "source": [
    "## In Python, it is possible to pass a function as a argument to another function. \n",
    "#### Write a function useFunction(func, num) that takes in a function and a number as arguments. \n",
    "#### The useFunction should produce the output shown in the examples given below.\n",
    "\n",
    "#### def addOne(x):\n",
    "####   return x + 1\n",
    "#### useFunction(addOne, 4)\n",
    "#### 25\n",
    "#### useFunction(addOne, 9)\n",
    "#### 100\n",
    "#### useFunction(addOne, 0)\n",
    "#### 1\n"
   ]
  },
  {
   "cell_type": "code",
   "execution_count": 5,
   "id": "5f5f9a6e",
   "metadata": {},
   "outputs": [
    {
     "name": "stdout",
     "output_type": "stream",
     "text": [
      "25\n",
      "100\n",
      "1\n"
     ]
    }
   ],
   "source": [
    "def addOne(x):\n",
    "    return x+1\n",
    "def useFunction(a,val):\n",
    "    result = a(val) * a(val)\n",
    "    return result\n",
    "print(useFunction(addOne,4))\n",
    "print(useFunction(addOne,9))\n",
    "print(useFunction(addOne,0))"
   ]
  },
  {
   "cell_type": "markdown",
   "id": "1d88cd9e",
   "metadata": {},
   "source": [
    "## Write a function find_max that accepts three numbers as arguments and returns the largest number among three. \n",
    "### Write another function main, in main() function accept three numbers from user and call find_max."
   ]
  },
  {
   "cell_type": "code",
   "execution_count": 14,
   "id": "ed071a9c",
   "metadata": {},
   "outputs": [
    {
     "name": "stdout",
     "output_type": "stream",
     "text": [
      "Enter 3 numbers.... 1 42 50\n",
      "50 is the max number\n"
     ]
    }
   ],
   "source": [
    "def find_max(num1,num2,num3):\n",
    "    return num1 if(num1 > num2 and num1 >num3) else num2 if(num2>num3) else num3\n",
    "\n",
    "def main():\n",
    "    x,y,z = input('Enter 3 numbers.... ').split()\n",
    "    result = find_max(x,y,z)\n",
    "    print(f'{result} is the max number')\n",
    "main()"
   ]
  },
  {
   "cell_type": "markdown",
   "id": "7bbf07f8",
   "metadata": {},
   "source": [
    "## Write a function, is_vowel that returns the value true if a given character is a vowel, \n",
    "### and otherwise returns false. \n",
    "## Write another function main, in main() function accept a string from user and count number of vowels in that string."
   ]
  },
  {
   "cell_type": "code",
   "execution_count": 21,
   "id": "7d092417",
   "metadata": {},
   "outputs": [
    {
     "name": "stdout",
     "output_type": "stream",
     "text": [
      "Enter a string...Apple\n",
      "Number of vowels in the inputString Apple is.... 2\n"
     ]
    }
   ],
   "source": [
    "def is_vowel(character):\n",
    "    vowel_list = ['a','e','i','u']\n",
    "    if(character.casefold() in vowel_list):\n",
    "        return True\n",
    "    else:\n",
    "        return False\n",
    "def main():\n",
    "    count = 0\n",
    "    inputString = input('Enter a string...')\n",
    "    for i in inputString:\n",
    "        if(is_vowel(i)):\n",
    "            count = count +1\n",
    "    print(f'Number of vowels in the inputString {inputString} is.... {count}')\n",
    "main()"
   ]
  },
  {
   "cell_type": "markdown",
   "id": "fbc589db",
   "metadata": {},
   "source": [
    "## Write a function named is_prime, which takes an integer as an argument and returns true  if the argument is a prime number, or false otherwise. Also, write the main function that displays prime numbers between 1 to 500."
   ]
  },
  {
   "cell_type": "code",
   "execution_count": 37,
   "id": "a75ccaab",
   "metadata": {},
   "outputs": [
    {
     "name": "stdout",
     "output_type": "stream",
     "text": [
      "2\t3\t5\t7\t11\t13\t17\t19\t23\t29\t31\t37\t41\t43\t47\t53\t59\t61\t67\t71\t73\t79\t83\t89\t97\t101\t103\t107\t109\t113\t127\t131\t137\t139\t149\t151\t157\t163\t167\t173\t179\t181\t191\t193\t197\t199\t211\t223\t227\t229\t233\t239\t241\t251\t257\t263\t269\t271\t277\t281\t283\t293\t307\t311\t313\t317\t331\t337\t347\t349\t353\t359\t367\t373\t379\t383\t389\t397\t401\t409\t419\t421\t431\t433\t439\t443\t449\t457\t461\t463\t467\t479\t487\t491\t499\t"
     ]
    }
   ],
   "source": [
    "def is_prime(number):\n",
    "    if(number == 2):\n",
    "        return True\n",
    "    elif number > 2:\n",
    "        for i in range(2,number):\n",
    "            if(number%i == 0):\n",
    "                return False\n",
    "        return True\n",
    "    else:\n",
    "        return False\n",
    "def main():\n",
    "    for i in range(1,501):\n",
    "        if(is_prime(i)):\n",
    "            print(i, end='\\t')\n",
    "main()        "
   ]
  },
  {
   "cell_type": "markdown",
   "id": "b486639e",
   "metadata": {},
   "source": [
    "## Write a function in python to find the sum of the cube of elements in a list. The list is received as an argument to the function, in turn, the function must return the sum. \n",
    "### Write the main function which invokes the above function."
   ]
  },
  {
   "cell_type": "code",
   "execution_count": 38,
   "id": "44c851e1",
   "metadata": {},
   "outputs": [
    {
     "name": "stdout",
     "output_type": "stream",
     "text": [
      "800\n"
     ]
    }
   ],
   "source": [
    "def sumOfCubes(inputList):\n",
    "    result = 0\n",
    "    for val in inputList:\n",
    "        result = result + (val**3)\n",
    "    return result\n",
    "def main():\n",
    "    result = sumOfCubes([2,4,6,8])\n",
    "    print(result)\n",
    "main()"
   ]
  },
  {
   "cell_type": "markdown",
   "id": "7c5eaf1f",
   "metadata": {},
   "source": [
    "## Write the definition of a function zero_ending(scores) to add all those values in the list of scores,  which are ending with zero and display the sum.\n",
    "### For example: If the scores contain [200, 456, 300, 100, 234, 678] The sum should be displayed as 600"
   ]
  },
  {
   "cell_type": "code",
   "execution_count": 39,
   "id": "672c79a3",
   "metadata": {},
   "outputs": [
    {
     "name": "stdout",
     "output_type": "stream",
     "text": [
      "600\n"
     ]
    }
   ],
   "source": [
    "def zero_ending(scores):\n",
    "    sum = 0\n",
    "    for val in scores:\n",
    "        if(val%10 == 0):\n",
    "            sum = sum + val\n",
    "    return sum\n",
    "print(zero_ending([200,456,300,100,234,678]))"
   ]
  },
  {
   "cell_type": "markdown",
   "id": "1b66cbc5",
   "metadata": {},
   "source": [
    "## Write a definition of a method count_now(places) to find and display those place names, in which there are more than 5 characters.\n",
    "\n",
    "### For example :\n",
    "#### If the list places contains\n",
    "#### [\"DELHI\",\"LONDON\",\"PARIS\",\"NEW YORK\",\"DUBAI\"]\n",
    "#### The following should get displayed :\n",
    "#### LONDON\n",
    "#### NEW YORK"
   ]
  },
  {
   "cell_type": "code",
   "execution_count": 43,
   "id": "1f3ade96",
   "metadata": {},
   "outputs": [
    {
     "name": "stdout",
     "output_type": "stream",
     "text": [
      "London\n",
      "New York\n",
      "\n"
     ]
    }
   ],
   "source": [
    "def count_now(places):\n",
    "    for place in places:\n",
    "        if(len(place) > 5):\n",
    "            print(place)\n",
    "    return ''\n",
    "print(count_now([\"Delhi\",\"London\",\"Paris\",\"New York\",\"Dubai\"]))"
   ]
  },
  {
   "cell_type": "markdown",
   "id": "7c5af81c",
   "metadata": {},
   "source": [
    "## Write a method in python to display the elements of list thrice if it is a number and display the element terminated with ‘#’ if it is not a number.\n",
    "\n",
    "#### For example, if the content of list is as follows :\n",
    "#### ThisList=[‘41’,‘DROND’,‘GIRIRAJ’, ‘13’,‘ZARA’]\n",
    "#### The output should be\n",
    "#### 414141\n",
    "#### DROND#\n",
    "#### GIRIRAJ#\n",
    "#### 131313\n",
    "#### ZARA#"
   ]
  },
  {
   "cell_type": "code",
   "execution_count": 46,
   "id": "99d9087c",
   "metadata": {},
   "outputs": [
    {
     "name": "stdout",
     "output_type": "stream",
     "text": [
      "414141\n",
      "DROND#\n",
      "GIRIRAJ#\n",
      "131313\n",
      "ZARA#\n"
     ]
    }
   ],
   "source": [
    "def display_element(thisList):\n",
    "    for val in thisList:\n",
    "        if(val.isdigit()):\n",
    "            print(val*3)\n",
    "        else:\n",
    "            print(val + '#')\n",
    "display_element(['41','DROND','GIRIRAJ','13','ZARA'])"
   ]
  },
  {
   "cell_type": "markdown",
   "id": "41f50205",
   "metadata": {},
   "source": [
    "## For a given list of values in descending order, write a method in python to search for a value with the help of Binary Search method. \n",
    "#### The method should return position of the value and should return -1 if the value not present in the list."
   ]
  },
  {
   "cell_type": "code",
   "execution_count": 61,
   "id": "bf3be4b0",
   "metadata": {},
   "outputs": [
    {
     "name": "stdout",
     "output_type": "stream",
     "text": [
      "Value is Found in 2 position\n"
     ]
    }
   ],
   "source": [
    "def search_value(inputList, value, first, last):\n",
    "    inputList.sort(reverse = True)\n",
    "    middleElement = first + (last - first)//2\n",
    "    while first <= last:\n",
    "        if(inputList[middleElement] == value):\n",
    "            return f'Value is Found in {middleElement} position'\n",
    "        elif(value < inputList[middleElement]):\n",
    "            first = middleElement + 1\n",
    "        else:\n",
    "            last = middleElement - 1\n",
    "    return -1\n",
    "            \n",
    "inputList = [10,20,30,40,50]\n",
    "first = 0\n",
    "value = 30\n",
    "last = len(inputList)-1\n",
    "print(search_value(inputList,value,first,last))"
   ]
  },
  {
   "cell_type": "markdown",
   "id": "a6dca522",
   "metadata": {},
   "source": [
    "## Write a function half_and_half that takes in a list and change the list  such that the elements of the second half are now in the first half.\n",
    "\n",
    "#### For example, if the size of list is even and content of list is as follows :\n",
    "#### my_liist = [10,20,30,40,50,60]\n",
    "#### The output should be\n",
    "#### [40,50,60,10,20,30]\n",
    "#### if the size of list is odd and content of list is as follows :\n",
    "#### my_liist = [10,20,30,40,50,60,70]\n",
    "####  The output should be\n",
    "#### [50,60,70,40,10,20,30]"
   ]
  },
  {
   "cell_type": "code",
   "execution_count": 66,
   "id": "b6c1431a",
   "metadata": {},
   "outputs": [
    {
     "name": "stdout",
     "output_type": "stream",
     "text": [
      "[50, 60, 70, 40, 10, 20, 30]\n",
      "[40, 50, 60, 10, 20, 30]\n"
     ]
    }
   ],
   "source": [
    "def half_and_half(my_list):\n",
    "    if len(my_list)%2 == 0:\n",
    "        start = 0\n",
    "    else:\n",
    "        start = 1\n",
    "        \n",
    "    listLength = len(my_list)//2\n",
    "    \n",
    "    for i in range(listLength):\n",
    "        temp = my_list[i]\n",
    "        my_list[i] = my_list[i+listLength+start]\n",
    "        my_list[i+listLength+start] = temp\n",
    "inputList = [10,20,30,40,50,60,70]\n",
    "half_and_half(inputList)\n",
    "print(inputList)\n",
    "inputList = [10,20,30,40,50,60]\n",
    "half_and_half(inputList)\n",
    "print(inputList)"
   ]
  },
  {
   "cell_type": "markdown",
   "id": "968d3c7f",
   "metadata": {},
   "source": [
    "## Write a function that accepts a dictionary as an argument. If the dictionary contains replicate values, return an empty dictionary, otherwise, return a new dictionary whose values are now the keys and whose  keys are the values."
   ]
  },
  {
   "cell_type": "code",
   "execution_count": 89,
   "id": "1b82557e",
   "metadata": {},
   "outputs": [
    {
     "data": {
      "text/plain": [
       "{1: 'a', 2: 'b'}"
      ]
     },
     "execution_count": 89,
     "metadata": {},
     "output_type": "execute_result"
    }
   ],
   "source": [
    "def reverseDictionary(inputDictionary):\n",
    "    outputDictionary = {}\n",
    "    if(len(set(inputDictionary.values())) != len(list(inputDictionary.values()))):\n",
    "        return {}\n",
    "    else:\n",
    "        for key,value in inputDictionary.items():\n",
    "            outputDictionary[value] = key\n",
    "        return outputDictionary\n",
    "reverseDictionary({'a': 1,'b': 2})"
   ]
  }
 ],
 "metadata": {
  "kernelspec": {
   "display_name": "Python 3 (ipykernel)",
   "language": "python",
   "name": "python3"
  },
  "language_info": {
   "codemirror_mode": {
    "name": "ipython",
    "version": 3
   },
   "file_extension": ".py",
   "mimetype": "text/x-python",
   "name": "python",
   "nbconvert_exporter": "python",
   "pygments_lexer": "ipython3",
   "version": "3.9.7"
  }
 },
 "nbformat": 4,
 "nbformat_minor": 5
}
